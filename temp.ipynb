{
 "cells": [
  {
   "cell_type": "code",
   "execution_count": 2,
   "id": "initial_id",
   "metadata": {
    "collapsed": true,
    "ExecuteTime": {
     "end_time": "2024-02-05T05:11:55.707420Z",
     "start_time": "2024-02-05T05:11:55.665966Z"
    }
   },
   "outputs": [
    {
     "ename": "IndexError",
     "evalue": "list index out of range",
     "output_type": "error",
     "traceback": [
      "\u001B[0;31m---------------------------------------------------------------------------\u001B[0m",
      "\u001B[0;31mIndexError\u001B[0m                                Traceback (most recent call last)",
      "Cell \u001B[0;32mIn[2], line 8\u001B[0m\n\u001B[1;32m      5\u001B[0m testdata \u001B[38;5;241m=\u001B[39m load_json_testcases(test_fn\u001B[38;5;241m.\u001B[39m\u001B[38;5;18m__name__\u001B[39m)\n\u001B[1;32m      7\u001B[0m i \u001B[38;5;241m=\u001B[39m \u001B[38;5;241m0\u001B[39m\n\u001B[0;32m----> 8\u001B[0m ob \u001B[38;5;241m=\u001B[39m \u001B[43mtest_fn\u001B[49m\u001B[43m(\u001B[49m\u001B[38;5;241;43m*\u001B[39;49m\u001B[43mtestdata\u001B[49m\u001B[43m[\u001B[49m\u001B[43mi\u001B[49m\u001B[43m]\u001B[49m\u001B[43m[\u001B[49m\u001B[38;5;241;43m0\u001B[39;49m\u001B[43m]\u001B[49m\u001B[43m)\u001B[49m\n\u001B[1;32m      9\u001B[0m dt \u001B[38;5;241m=\u001B[39m testdata[i][\u001B[38;5;241m1\u001B[39m]\n\u001B[1;32m     11\u001B[0m \u001B[38;5;28mprint\u001B[39m(ob, dt)\n",
      "File \u001B[0;32m~/PycharmProjects/debug/generated_code/gpt4/kheapsort/kheapsort_1.py:11\u001B[0m, in \u001B[0;36mkheapsort\u001B[0;34m(arr, k)\u001B[0m\n\u001B[1;32m      8\u001B[0m \u001B[38;5;66;03m# For the remaining elements, if the heap is of size k,\u001B[39;00m\n\u001B[1;32m      9\u001B[0m \u001B[38;5;66;03m# replace the smallest element with the current element if it is larger\u001B[39;00m\n\u001B[1;32m     10\u001B[0m \u001B[38;5;28;01mfor\u001B[39;00m i \u001B[38;5;129;01min\u001B[39;00m \u001B[38;5;28mrange\u001B[39m(k, \u001B[38;5;28mlen\u001B[39m(arr)):\n\u001B[0;32m---> 11\u001B[0m     \u001B[38;5;28;01mif\u001B[39;00m arr[i] \u001B[38;5;241m>\u001B[39m \u001B[43mheap\u001B[49m\u001B[43m[\u001B[49m\u001B[38;5;241;43m0\u001B[39;49m\u001B[43m]\u001B[49m:\n\u001B[1;32m     12\u001B[0m         heapq\u001B[38;5;241m.\u001B[39mheappushpop(heap, arr[i])\n\u001B[1;32m     14\u001B[0m \u001B[38;5;66;03m# Extract the sorted elements from the heap\u001B[39;00m\n",
      "\u001B[0;31mIndexError\u001B[0m: list index out of range"
     ]
    }
   ],
   "source": [
    "from collections import Counter\n",
    "from datasets.QuixBugs.python_testcases.load_testdata import load_json_testcases\n",
    "from generated_code.gpt4.kheapsort.kheapsort_1 import kheapsort as test_fn\n",
    "\n",
    "testdata = load_json_testcases(test_fn.__name__)\n",
    "\n",
    "i = 0\n",
    "ob = test_fn(*testdata[i][0])\n",
    "dt = testdata[i][1]\n",
    "\n",
    "print(ob, dt)\n"
   ]
  },
  {
   "cell_type": "code",
   "execution_count": null,
   "outputs": [],
   "source": [
    "testdata[0][0]\n"
   ],
   "metadata": {
    "collapsed": false,
    "ExecuteTime": {
     "start_time": "2024-02-05T05:11:55.708500Z"
    }
   },
   "id": "6e76dd1129f060b7"
  },
  {
   "cell_type": "code",
   "execution_count": null,
   "outputs": [],
   "source": [
    "from langchain.schema import HumanMessage, SystemMessage, AIMessage\n",
    "from langchain.chat_models import ChatOpenAI\n",
    "import dotenv\n",
    "import os\n",
    "\n",
    "open_ai_key = os.getenv(\"OPENAI_API_KEY\")\n",
    "\n",
    "dotenv.load_dotenv()\n",
    "\n",
    "chat = ChatOpenAI(openai_api_key=open_ai_key, model_name=\"gpt-3.5-turbo\")\n",
    "\n",
    "messages = [\n",
    "    SystemMessage(\n",
    "        content=\"You are a helpful assistant.\"\n",
    "    ),\n",
    "    HumanMessage(content=\"Who won the world series in 2020.\"),\n",
    "    AIMessage(content=\"The Los Angeles Dodgers won the World Series in 2020.\"),\n",
    "    HumanMessage(content=\"How much time did the team won the World Series in 1980 to 2020?\"),\n",
    "]\n",
    "\n",
    "chat(messages)\n",
    "\n"
   ],
   "metadata": {
    "collapsed": false,
    "ExecuteTime": {
     "end_time": "2024-02-05T05:11:55.713984Z",
     "start_time": "2024-02-05T05:11:55.710583Z"
    }
   },
   "id": "1240cddbcc8353b1"
  },
  {
   "cell_type": "code",
   "outputs": [
    {
     "name": "stdout",
     "output_type": "stream",
     "text": [
      "The provided code is syntactically incorrect. It is missing `print` function's arguments enclosed in parentheses. The correct syntax for using the `print` function in Python is:\n",
      "\n",
      "```python\n",
      "print(*args, sep='', file=None, flush=False)\n",
      "```\n",
      "\n",
      "where:\n",
      "\n",
      "* `*args`: An arbitrary number of objects to be printed.\n",
      "* `sep`: (Optional) The separator to use when joining the objects' representations.\n",
      "* `file`: (Optional) The file where the data will be written. If not specified, `stdout` (standard output) will be used.\n",
      "* `flush`: (Optional) If `True`, the output will be flushed and written to the file immediately. If not specified, it defaults to `False`, meaning that output will be written to a temporary buffer and only written to the file once the `print` statement is fully executed.\n",
      "\n",
      "To fix the given code, you need to add parentheses:\n",
      "\n",
      "```python\n",
      "print('AAA')\n",
      "```\n",
      "\n",
      "This code will print the string `\"AAA\"` followed by a newline to the console.\n"
     ]
    }
   ],
   "source": [
    "import google.generativeai as genai\n",
    "import os\n",
    "import dotenv\n",
    "\n",
    "dotenv.load_dotenv()\n",
    "\n",
    "google_ai_key = os.getenv(\"GOOGLE_API_KEY\")\n",
    "genai.configure(api_key=google_ai_key)\n",
    "\n",
    "# Set up the model\n",
    "generation_config = {\n",
    "  \"temperature\": 0.9,\n",
    "  \"top_p\": 1,\n",
    "  \"top_k\": 1,\n",
    "  \"max_output_tokens\": 2048,\n",
    "}\n",
    "\n",
    "safety_settings = [\n",
    "  {\n",
    "    \"category\": \"HARM_CATEGORY_HARASSMENT\",\n",
    "    \"threshold\": \"BLOCK_MEDIUM_AND_ABOVE\"\n",
    "  },\n",
    "  {\n",
    "    \"category\": \"HARM_CATEGORY_HATE_SPEECH\",\n",
    "    \"threshold\": \"BLOCK_MEDIUM_AND_ABOVE\"\n",
    "  },\n",
    "  {\n",
    "    \"category\": \"HARM_CATEGORY_SEXUALLY_EXPLICIT\",\n",
    "    \"threshold\": \"BLOCK_MEDIUM_AND_ABOVE\"\n",
    "  },\n",
    "  {\n",
    "    \"category\": \"HARM_CATEGORY_DANGEROUS_CONTENT\",\n",
    "    \"threshold\": \"BLOCK_MEDIUM_AND_ABOVE\"\n",
    "  },\n",
    "]\n",
    "\n",
    "model = genai.GenerativeModel(model_name=\"gemini-pro\",\n",
    "                              generation_config=generation_config,\n",
    "                              safety_settings=safety_settings)\n",
    "\n",
    "convo = model.start_chat()\n",
    "\n",
    "convo.send_message('''Fix the bugs in the following code:﻿\n",
    "```python=\n",
    "print('AAA)\n",
    "```''')\n",
    "print(convo.last.text)\n",
    "\n"
   ],
   "metadata": {
    "collapsed": false,
    "ExecuteTime": {
     "end_time": "2024-02-05T05:16:03.010450Z",
     "start_time": "2024-02-05T05:15:58.184031Z"
    }
   },
   "id": "b09a32b7d7e0953",
   "execution_count": 9
  }
 ],
 "metadata": {
  "kernelspec": {
   "display_name": "Python 3",
   "language": "python",
   "name": "python3"
  },
  "language_info": {
   "codemirror_mode": {
    "name": "ipython",
    "version": 2
   },
   "file_extension": ".py",
   "mimetype": "text/x-python",
   "name": "python",
   "nbconvert_exporter": "python",
   "pygments_lexer": "ipython2",
   "version": "2.7.6"
  }
 },
 "nbformat": 4,
 "nbformat_minor": 5
}
