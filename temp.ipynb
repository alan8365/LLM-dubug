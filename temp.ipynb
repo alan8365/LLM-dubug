{
 "cells": [
  {
   "cell_type": "code",
   "execution_count": 2,
   "id": "initial_id",
   "metadata": {
    "ExecuteTime": {
     "end_time": "2024-02-05T05:11:55.707420Z",
     "start_time": "2024-02-05T05:11:55.665966Z"
    },
    "collapsed": true
   },
   "outputs": [
    {
     "ename": "IndexError",
     "evalue": "list index out of range",
     "output_type": "error",
     "traceback": [
      "\u001b[0;31m---------------------------------------------------------------------------\u001b[0m",
      "\u001b[0;31mIndexError\u001b[0m                                Traceback (most recent call last)",
      "Cell \u001b[0;32mIn[2], line 8\u001b[0m\n\u001b[1;32m      5\u001b[0m testdata \u001b[38;5;241m=\u001b[39m load_json_testcases(test_fn\u001b[38;5;241m.\u001b[39m\u001b[38;5;18m__name__\u001b[39m)\n\u001b[1;32m      7\u001b[0m i \u001b[38;5;241m=\u001b[39m \u001b[38;5;241m0\u001b[39m\n\u001b[0;32m----> 8\u001b[0m ob \u001b[38;5;241m=\u001b[39m \u001b[43mtest_fn\u001b[49m\u001b[43m(\u001b[49m\u001b[38;5;241;43m*\u001b[39;49m\u001b[43mtestdata\u001b[49m\u001b[43m[\u001b[49m\u001b[43mi\u001b[49m\u001b[43m]\u001b[49m\u001b[43m[\u001b[49m\u001b[38;5;241;43m0\u001b[39;49m\u001b[43m]\u001b[49m\u001b[43m)\u001b[49m\n\u001b[1;32m      9\u001b[0m dt \u001b[38;5;241m=\u001b[39m testdata[i][\u001b[38;5;241m1\u001b[39m]\n\u001b[1;32m     11\u001b[0m \u001b[38;5;28mprint\u001b[39m(ob, dt)\n",
      "File \u001b[0;32m~/PycharmProjects/debug/generated_code/gpt4/kheapsort/kheapsort_1.py:11\u001b[0m, in \u001b[0;36mkheapsort\u001b[0;34m(arr, k)\u001b[0m\n\u001b[1;32m      8\u001b[0m \u001b[38;5;66;03m# For the remaining elements, if the heap is of size k,\u001b[39;00m\n\u001b[1;32m      9\u001b[0m \u001b[38;5;66;03m# replace the smallest element with the current element if it is larger\u001b[39;00m\n\u001b[1;32m     10\u001b[0m \u001b[38;5;28;01mfor\u001b[39;00m i \u001b[38;5;129;01min\u001b[39;00m \u001b[38;5;28mrange\u001b[39m(k, \u001b[38;5;28mlen\u001b[39m(arr)):\n\u001b[0;32m---> 11\u001b[0m     \u001b[38;5;28;01mif\u001b[39;00m arr[i] \u001b[38;5;241m>\u001b[39m \u001b[43mheap\u001b[49m\u001b[43m[\u001b[49m\u001b[38;5;241;43m0\u001b[39;49m\u001b[43m]\u001b[49m:\n\u001b[1;32m     12\u001b[0m         heapq\u001b[38;5;241m.\u001b[39mheappushpop(heap, arr[i])\n\u001b[1;32m     14\u001b[0m \u001b[38;5;66;03m# Extract the sorted elements from the heap\u001b[39;00m\n",
      "\u001b[0;31mIndexError\u001b[0m: list index out of range"
     ]
    }
   ],
   "source": [
    "from collections import Counter\n",
    "from datasets.QuixBugs.python_testcases.load_testdata import load_json_testcases\n",
    "from generated_code.gpt4.kheapsort.kheapsort_1 import kheapsort as test_fn\n",
    "\n",
    "testdata = load_json_testcases(test_fn.__name__)\n",
    "\n",
    "i = 0\n",
    "ob = test_fn(*testdata[i][0])\n",
    "dt = testdata[i][1]\n",
    "\n",
    "print(ob, dt)\n"
   ]
  },
  {
   "cell_type": "code",
   "execution_count": null,
   "id": "6e76dd1129f060b7",
   "metadata": {
    "ExecuteTime": {
     "start_time": "2024-02-05T05:11:55.708500Z"
    },
    "collapsed": false
   },
   "outputs": [],
   "source": [
    "testdata[0][0]\n"
   ]
  },
  {
   "cell_type": "code",
   "execution_count": null,
   "id": "1240cddbcc8353b1",
   "metadata": {
    "ExecuteTime": {
     "end_time": "2024-02-05T05:11:55.713984Z",
     "start_time": "2024-02-05T05:11:55.710583Z"
    },
    "collapsed": false
   },
   "outputs": [],
   "source": [
    "from langchain.schema import HumanMessage, SystemMessage, AIMessage\n",
    "from langchain.chat_models import ChatOpenAI\n",
    "import dotenv\n",
    "import os\n",
    "\n",
    "open_ai_key = os.getenv(\"OPENAI_API_KEY\")\n",
    "\n",
    "dotenv.load_dotenv()\n",
    "\n",
    "chat = ChatOpenAI(openai_api_key=open_ai_key, model_name=\"gpt-3.5-turbo\")\n",
    "\n",
    "messages = [\n",
    "    SystemMessage(\n",
    "        content=\"You are a helpful assistant.\"\n",
    "    ),\n",
    "    HumanMessage(content=\"Who won the world series in 2020.\"),\n",
    "    AIMessage(content=\"The Los Angeles Dodgers won the World Series in 2020.\"),\n",
    "    HumanMessage(content=\"How much time did the team won the World Series in 1980 to 2020?\"),\n",
    "]\n",
    "\n",
    "chat(messages)\n",
    "\n"
   ]
  },
  {
   "cell_type": "code",
   "execution_count": 9,
   "id": "b09a32b7d7e0953",
   "metadata": {
    "ExecuteTime": {
     "end_time": "2024-02-05T05:16:03.010450Z",
     "start_time": "2024-02-05T05:15:58.184031Z"
    },
    "collapsed": false
   },
   "outputs": [
    {
     "name": "stdout",
     "output_type": "stream",
     "text": [
      "The provided code is syntactically incorrect. It is missing `print` function's arguments enclosed in parentheses. The correct syntax for using the `print` function in Python is:\n",
      "\n",
      "```python\n",
      "print(*args, sep='', file=None, flush=False)\n",
      "```\n",
      "\n",
      "where:\n",
      "\n",
      "* `*args`: An arbitrary number of objects to be printed.\n",
      "* `sep`: (Optional) The separator to use when joining the objects' representations.\n",
      "* `file`: (Optional) The file where the data will be written. If not specified, `stdout` (standard output) will be used.\n",
      "* `flush`: (Optional) If `True`, the output will be flushed and written to the file immediately. If not specified, it defaults to `False`, meaning that output will be written to a temporary buffer and only written to the file once the `print` statement is fully executed.\n",
      "\n",
      "To fix the given code, you need to add parentheses:\n",
      "\n",
      "```python\n",
      "print('AAA')\n",
      "```\n",
      "\n",
      "This code will print the string `\"AAA\"` followed by a newline to the console.\n"
     ]
    }
   ],
   "source": [
    "import google.generativeai as genai\n",
    "import os\n",
    "import dotenv\n",
    "\n",
    "dotenv.load_dotenv()\n",
    "\n",
    "google_ai_key = os.getenv(\"GOOGLE_API_KEY\")\n",
    "genai.configure(api_key=google_ai_key)\n",
    "\n",
    "# Set up the model\n",
    "generation_config = {\n",
    "  \"temperature\": 0.9,\n",
    "  \"top_p\": 1,\n",
    "  \"top_k\": 1,\n",
    "  \"max_output_tokens\": 2048,\n",
    "}\n",
    "\n",
    "safety_settings = [\n",
    "  {\n",
    "    \"category\": \"HARM_CATEGORY_HARASSMENT\",\n",
    "    \"threshold\": \"BLOCK_MEDIUM_AND_ABOVE\"\n",
    "  },\n",
    "  {\n",
    "    \"category\": \"HARM_CATEGORY_HATE_SPEECH\",\n",
    "    \"threshold\": \"BLOCK_MEDIUM_AND_ABOVE\"\n",
    "  },\n",
    "  {\n",
    "    \"category\": \"HARM_CATEGORY_SEXUALLY_EXPLICIT\",\n",
    "    \"threshold\": \"BLOCK_MEDIUM_AND_ABOVE\"\n",
    "  },\n",
    "  {\n",
    "    \"category\": \"HARM_CATEGORY_DANGEROUS_CONTENT\",\n",
    "    \"threshold\": \"BLOCK_MEDIUM_AND_ABOVE\"\n",
    "  },\n",
    "]\n",
    "\n",
    "model = genai.GenerativeModel(model_name=\"gemini-pro\",\n",
    "                              generation_config=generation_config,\n",
    "                              safety_settings=safety_settings)\n",
    "\n",
    "convo = model.start_chat()\n",
    "\n",
    "convo.send_message('''Fix the bugs in the following code:﻿\n",
    "```python=\n",
    "print('AAA)\n",
    "```''')\n",
    "print(convo.last.text)\n",
    "\n"
   ]
  },
  {
   "cell_type": "code",
   "execution_count": 24,
   "id": "38510008",
   "metadata": {},
   "outputs": [],
   "source": [
    "from glob import glob\n",
    "from pathlib import Path\n",
    "\n",
    "a = glob('./datasets/QuixBugs/python_programs/*.py')\n",
    "b = [Path(i).stem for i in a if not i.endswith('test.py') and not i.endswith('node.py')]\n",
    "b = sorted(b)\n",
    "\n",
    "len(b)\n",
    "b\n",
    "\n",
    "import json\n",
    "\n",
    "# Convert the list b to JSON and save it to a file named 'output.json'\n",
    "with open('prog_names.json', 'w') as file:\n",
    "    json.dump(b, file)\n",
    "\n"
   ]
  }
 ],
 "metadata": {
  "kernelspec": {
   "display_name": "Python 3",
   "language": "python",
   "name": "python3"
  },
  "language_info": {
   "codemirror_mode": {
    "name": "ipython",
    "version": 3
   },
   "file_extension": ".py",
   "mimetype": "text/x-python",
   "name": "python",
   "nbconvert_exporter": "python",
   "pygments_lexer": "ipython3",
   "version": "3.9.6"
  }
 },
 "nbformat": 4,
 "nbformat_minor": 5
}
