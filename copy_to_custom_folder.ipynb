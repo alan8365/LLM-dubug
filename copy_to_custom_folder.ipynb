{
 "cells": [
  {
   "cell_type": "code",
   "execution_count": 3,
   "id": "initial_id",
   "metadata": {
    "collapsed": true,
    "ExecuteTime": {
     "end_time": "2023-11-25T06:55:36.909384Z",
     "start_time": "2023-11-25T06:55:36.906434Z"
    }
   },
   "outputs": [],
   "source": [
    "import shutil\n",
    "import os\n",
    "\n",
    "from pathlib import Path\n",
    "\n",
    "generated_code_path = Path('generated_code') / 'gpt35'\n"
   ]
  },
  {
   "cell_type": "code",
   "execution_count": 9,
   "outputs": [],
   "source": [
    "dst_path = Path('datasets/QuixBugs/custom_python_programs')\n",
    "\n",
    "# Clean the file in dst folder\n",
    "if dst_path.exists():\n",
    "    shutil.rmtree(dst_path)\n",
    "\n",
    "dst_path.mkdir()\n"
   ],
   "metadata": {
    "collapsed": false,
    "ExecuteTime": {
     "end_time": "2023-11-25T07:01:02.365585Z",
     "start_time": "2023-11-25T07:01:02.360646Z"
    }
   },
   "id": "3ded3810da38feef"
  },
  {
   "cell_type": "code",
   "execution_count": 12,
   "outputs": [],
   "source": [
    "index = 1\n",
    "\n",
    "all_folders = os.listdir(generated_code_path)\n",
    "all_folders = [folder for folder in all_folders if not folder.startswith('.')]\n",
    "all_folders = sorted(all_folders)\n",
    "\n",
    "# Copy the generated code to custom folder\n",
    "for folder in all_folders:\n",
    "    source_file = generated_code_path / folder / f'{folder}_{index}.py'\n",
    "    dst_file = dst_path /  f'{folder}.py'\n",
    "    shutil.copyfile(source_file, dst_file)\n"
   ],
   "metadata": {
    "collapsed": false,
    "ExecuteTime": {
     "end_time": "2023-11-25T07:01:30.273576Z",
     "start_time": "2023-11-25T07:01:30.251323Z"
    }
   },
   "id": "b34dc7285cffa8fc"
  },
  {
   "cell_type": "code",
   "execution_count": null,
   "outputs": [],
   "source": [
    "\n",
    "\n"
   ],
   "metadata": {
    "collapsed": false
   },
   "id": "4af488ee018e9595"
  }
 ],
 "metadata": {
  "kernelspec": {
   "display_name": "Python 3",
   "language": "python",
   "name": "python3"
  },
  "language_info": {
   "codemirror_mode": {
    "name": "ipython",
    "version": 2
   },
   "file_extension": ".py",
   "mimetype": "text/x-python",
   "name": "python",
   "nbconvert_exporter": "python",
   "pygments_lexer": "ipython2",
   "version": "2.7.6"
  }
 },
 "nbformat": 4,
 "nbformat_minor": 5
}
