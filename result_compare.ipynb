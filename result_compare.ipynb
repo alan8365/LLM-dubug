{
 "cells": [
  {
   "cell_type": "code",
   "execution_count": 7,
   "id": "initial_id",
   "metadata": {
    "collapsed": true,
    "ExecuteTime": {
     "end_time": "2023-12-06T11:21:48.999179Z",
     "start_time": "2023-12-06T11:21:48.987359Z"
    }
   },
   "outputs": [],
   "source": [
    "import pandas as pd\n",
    "\n",
    "from pathlib import Path\n",
    "\n",
    "result_dir = Path('results')\n",
    "\n",
    "df_gpt35 = pd.read_csv(result_dir / \"gpt35_result.csv\")\n",
    "df_gpt4 = pd.read_csv(result_dir / \"gpt4_result.csv\")\n",
    "df_palm = pd.read_csv(result_dir / \"palm_result.csv\")\n"
   ]
  },
  {
   "cell_type": "code",
   "execution_count": 4,
   "outputs": [
    {
     "data": {
      "text/plain": "              Unnamed: 0  pass_count              fail_test_case_1  \\\n4           detect_cycle           0            [0, 1, 2, 3, 4, 5]   \n9            get_factors           0  [1, 2, 3, 4, 5, 6, 7, 9, 10]   \n12             kheapsort           0                  [0, 1, 2, 3]   \n15            lcs_length           0      [0, 1, 3, 4, 5, 6, 7, 8]   \n17                   lis           0                [8, 9, 10, 11]   \n22       next_palindrome           0               [0, 1, 2, 3, 4]   \n26              powerset           0                  [0, 1, 2, 4]   \n30  shortest_path_length           0                        [0, 1]   \n39                  wrap           0               [0, 1, 2, 3, 4]   \n\n                fail_test_case_2              fail_test_case_3  \\\n4             [0, 1, 2, 3, 4, 5]            [0, 1, 2, 3, 4, 5]   \n9   [1, 2, 3, 4, 5, 6, 7, 9, 10]  [1, 2, 3, 4, 5, 6, 7, 9, 10]   \n12                  [0, 1, 2, 3]                  [0, 1, 2, 3]   \n15      [0, 1, 3, 4, 5, 6, 7, 8]      [0, 1, 3, 4, 5, 6, 7, 8]   \n17                [8, 9, 10, 11]                [8, 9, 10, 11]   \n22               [0, 1, 2, 3, 4]               [0, 1, 2, 3, 4]   \n26                  [0, 1, 2, 4]                  [0, 1, 2, 4]   \n30                        [0, 1]                        [0, 1]   \n39               [0, 1, 2, 3, 4]               [0, 1, 2, 3, 4]   \n\n                fail_test_case_4  pass_ratio  \n4             [0, 1, 2, 3, 4, 5]         0.0  \n9   [1, 2, 3, 4, 5, 6, 7, 9, 10]         0.0  \n12                  [0, 1, 2, 3]         0.0  \n15      [0, 1, 3, 4, 5, 6, 7, 8]         0.0  \n17                [8, 9, 10, 11]         0.0  \n22               [0, 1, 2, 3, 4]         0.0  \n26                  [0, 1, 2, 4]         0.0  \n30                        [0, 1]         0.0  \n39               [0, 1, 2, 3, 4]         0.0  ",
      "text/html": "<div>\n<style scoped>\n    .dataframe tbody tr th:only-of-type {\n        vertical-align: middle;\n    }\n\n    .dataframe tbody tr th {\n        vertical-align: top;\n    }\n\n    .dataframe thead th {\n        text-align: right;\n    }\n</style>\n<table border=\"1\" class=\"dataframe\">\n  <thead>\n    <tr style=\"text-align: right;\">\n      <th></th>\n      <th>Unnamed: 0</th>\n      <th>pass_count</th>\n      <th>fail_test_case_1</th>\n      <th>fail_test_case_2</th>\n      <th>fail_test_case_3</th>\n      <th>fail_test_case_4</th>\n      <th>pass_ratio</th>\n    </tr>\n  </thead>\n  <tbody>\n    <tr>\n      <th>4</th>\n      <td>detect_cycle</td>\n      <td>0</td>\n      <td>[0, 1, 2, 3, 4, 5]</td>\n      <td>[0, 1, 2, 3, 4, 5]</td>\n      <td>[0, 1, 2, 3, 4, 5]</td>\n      <td>[0, 1, 2, 3, 4, 5]</td>\n      <td>0.0</td>\n    </tr>\n    <tr>\n      <th>9</th>\n      <td>get_factors</td>\n      <td>0</td>\n      <td>[1, 2, 3, 4, 5, 6, 7, 9, 10]</td>\n      <td>[1, 2, 3, 4, 5, 6, 7, 9, 10]</td>\n      <td>[1, 2, 3, 4, 5, 6, 7, 9, 10]</td>\n      <td>[1, 2, 3, 4, 5, 6, 7, 9, 10]</td>\n      <td>0.0</td>\n    </tr>\n    <tr>\n      <th>12</th>\n      <td>kheapsort</td>\n      <td>0</td>\n      <td>[0, 1, 2, 3]</td>\n      <td>[0, 1, 2, 3]</td>\n      <td>[0, 1, 2, 3]</td>\n      <td>[0, 1, 2, 3]</td>\n      <td>0.0</td>\n    </tr>\n    <tr>\n      <th>15</th>\n      <td>lcs_length</td>\n      <td>0</td>\n      <td>[0, 1, 3, 4, 5, 6, 7, 8]</td>\n      <td>[0, 1, 3, 4, 5, 6, 7, 8]</td>\n      <td>[0, 1, 3, 4, 5, 6, 7, 8]</td>\n      <td>[0, 1, 3, 4, 5, 6, 7, 8]</td>\n      <td>0.0</td>\n    </tr>\n    <tr>\n      <th>17</th>\n      <td>lis</td>\n      <td>0</td>\n      <td>[8, 9, 10, 11]</td>\n      <td>[8, 9, 10, 11]</td>\n      <td>[8, 9, 10, 11]</td>\n      <td>[8, 9, 10, 11]</td>\n      <td>0.0</td>\n    </tr>\n    <tr>\n      <th>22</th>\n      <td>next_palindrome</td>\n      <td>0</td>\n      <td>[0, 1, 2, 3, 4]</td>\n      <td>[0, 1, 2, 3, 4]</td>\n      <td>[0, 1, 2, 3, 4]</td>\n      <td>[0, 1, 2, 3, 4]</td>\n      <td>0.0</td>\n    </tr>\n    <tr>\n      <th>26</th>\n      <td>powerset</td>\n      <td>0</td>\n      <td>[0, 1, 2, 4]</td>\n      <td>[0, 1, 2, 4]</td>\n      <td>[0, 1, 2, 4]</td>\n      <td>[0, 1, 2, 4]</td>\n      <td>0.0</td>\n    </tr>\n    <tr>\n      <th>30</th>\n      <td>shortest_path_length</td>\n      <td>0</td>\n      <td>[0, 1]</td>\n      <td>[0, 1]</td>\n      <td>[0, 1]</td>\n      <td>[0, 1]</td>\n      <td>0.0</td>\n    </tr>\n    <tr>\n      <th>39</th>\n      <td>wrap</td>\n      <td>0</td>\n      <td>[0, 1, 2, 3, 4]</td>\n      <td>[0, 1, 2, 3, 4]</td>\n      <td>[0, 1, 2, 3, 4]</td>\n      <td>[0, 1, 2, 3, 4]</td>\n      <td>0.0</td>\n    </tr>\n  </tbody>\n</table>\n</div>"
     },
     "execution_count": 4,
     "metadata": {},
     "output_type": "execute_result"
    }
   ],
   "source": [
    "df_palm[df_palm['pass_count'] < 4]\n",
    "\n"
   ],
   "metadata": {
    "collapsed": false,
    "ExecuteTime": {
     "end_time": "2023-12-06T10:58:12.901738Z",
     "start_time": "2023-12-06T10:58:12.897013Z"
    }
   },
   "id": "9b812aed99087c87"
  },
  {
   "cell_type": "code",
   "execution_count": 5,
   "outputs": [
    {
     "data": {
      "text/plain": "              Unnamed: 0  pass_count              fail_test_case_1  \\\n4           detect_cycle           0            [0, 1, 2, 3, 4, 5]   \n9            get_factors           0  [1, 2, 3, 4, 5, 6, 7, 9, 10]   \n12             kheapsort           0                  [0, 1, 2, 3]   \n15            lcs_length           0      [0, 1, 3, 4, 5, 6, 7, 8]   \n17                   lis           0                [8, 9, 10, 11]   \n22       next_palindrome           0               [0, 1, 2, 3, 4]   \n26              powerset           0                  [0, 1, 2, 4]   \n30  shortest_path_length           0                        [0, 1]   \n39                  wrap           0               [0, 1, 2, 3, 4]   \n\n                fail_test_case_2              fail_test_case_3  \\\n4             [0, 1, 2, 3, 4, 5]            [0, 1, 2, 3, 4, 5]   \n9   [1, 2, 3, 4, 5, 6, 7, 9, 10]  [1, 2, 3, 4, 5, 6, 7, 9, 10]   \n12                  [0, 1, 2, 3]                  [0, 1, 2, 3]   \n15      [0, 1, 3, 4, 5, 6, 7, 8]      [0, 1, 3, 4, 5, 6, 7, 8]   \n17                [8, 9, 10, 11]                [8, 9, 10, 11]   \n22               [0, 1, 2, 3, 4]               [0, 1, 2, 3, 4]   \n26                  [0, 1, 2, 4]                  [0, 1, 2, 4]   \n30                        [0, 1]                        [0, 1]   \n39               [0, 1, 2, 3, 4]               [0, 1, 2, 3, 4]   \n\n                fail_test_case_4  pass_ratio  \n4             [0, 1, 2, 3, 4, 5]         0.0  \n9   [1, 2, 3, 4, 5, 6, 7, 9, 10]         0.0  \n12                  [0, 1, 2, 3]         0.0  \n15      [0, 1, 3, 4, 5, 6, 7, 8]         0.0  \n17                [8, 9, 10, 11]         0.0  \n22               [0, 1, 2, 3, 4]         0.0  \n26                  [0, 1, 2, 4]         0.0  \n30                        [0, 1]         0.0  \n39               [0, 1, 2, 3, 4]         0.0  ",
      "text/html": "<div>\n<style scoped>\n    .dataframe tbody tr th:only-of-type {\n        vertical-align: middle;\n    }\n\n    .dataframe tbody tr th {\n        vertical-align: top;\n    }\n\n    .dataframe thead th {\n        text-align: right;\n    }\n</style>\n<table border=\"1\" class=\"dataframe\">\n  <thead>\n    <tr style=\"text-align: right;\">\n      <th></th>\n      <th>Unnamed: 0</th>\n      <th>pass_count</th>\n      <th>fail_test_case_1</th>\n      <th>fail_test_case_2</th>\n      <th>fail_test_case_3</th>\n      <th>fail_test_case_4</th>\n      <th>pass_ratio</th>\n    </tr>\n  </thead>\n  <tbody>\n    <tr>\n      <th>4</th>\n      <td>detect_cycle</td>\n      <td>0</td>\n      <td>[0, 1, 2, 3, 4, 5]</td>\n      <td>[0, 1, 2, 3, 4, 5]</td>\n      <td>[0, 1, 2, 3, 4, 5]</td>\n      <td>[0, 1, 2, 3, 4, 5]</td>\n      <td>0.0</td>\n    </tr>\n    <tr>\n      <th>9</th>\n      <td>get_factors</td>\n      <td>0</td>\n      <td>[1, 2, 3, 4, 5, 6, 7, 9, 10]</td>\n      <td>[1, 2, 3, 4, 5, 6, 7, 9, 10]</td>\n      <td>[1, 2, 3, 4, 5, 6, 7, 9, 10]</td>\n      <td>[1, 2, 3, 4, 5, 6, 7, 9, 10]</td>\n      <td>0.0</td>\n    </tr>\n    <tr>\n      <th>12</th>\n      <td>kheapsort</td>\n      <td>0</td>\n      <td>[0, 1, 2, 3]</td>\n      <td>[0, 1, 2, 3]</td>\n      <td>[0, 1, 2, 3]</td>\n      <td>[0, 1, 2, 3]</td>\n      <td>0.0</td>\n    </tr>\n    <tr>\n      <th>15</th>\n      <td>lcs_length</td>\n      <td>0</td>\n      <td>[0, 1, 3, 4, 5, 6, 7, 8]</td>\n      <td>[0, 1, 3, 4, 5, 6, 7, 8]</td>\n      <td>[0, 1, 3, 4, 5, 6, 7, 8]</td>\n      <td>[0, 1, 3, 4, 5, 6, 7, 8]</td>\n      <td>0.0</td>\n    </tr>\n    <tr>\n      <th>17</th>\n      <td>lis</td>\n      <td>0</td>\n      <td>[8, 9, 10, 11]</td>\n      <td>[8, 9, 10, 11]</td>\n      <td>[8, 9, 10, 11]</td>\n      <td>[8, 9, 10, 11]</td>\n      <td>0.0</td>\n    </tr>\n    <tr>\n      <th>22</th>\n      <td>next_palindrome</td>\n      <td>0</td>\n      <td>[0, 1, 2, 3, 4]</td>\n      <td>[0, 1, 2, 3, 4]</td>\n      <td>[0, 1, 2, 3, 4]</td>\n      <td>[0, 1, 2, 3, 4]</td>\n      <td>0.0</td>\n    </tr>\n    <tr>\n      <th>26</th>\n      <td>powerset</td>\n      <td>0</td>\n      <td>[0, 1, 2, 4]</td>\n      <td>[0, 1, 2, 4]</td>\n      <td>[0, 1, 2, 4]</td>\n      <td>[0, 1, 2, 4]</td>\n      <td>0.0</td>\n    </tr>\n    <tr>\n      <th>30</th>\n      <td>shortest_path_length</td>\n      <td>0</td>\n      <td>[0, 1]</td>\n      <td>[0, 1]</td>\n      <td>[0, 1]</td>\n      <td>[0, 1]</td>\n      <td>0.0</td>\n    </tr>\n    <tr>\n      <th>39</th>\n      <td>wrap</td>\n      <td>0</td>\n      <td>[0, 1, 2, 3, 4]</td>\n      <td>[0, 1, 2, 3, 4]</td>\n      <td>[0, 1, 2, 3, 4]</td>\n      <td>[0, 1, 2, 3, 4]</td>\n      <td>0.0</td>\n    </tr>\n  </tbody>\n</table>\n</div>"
     },
     "execution_count": 5,
     "metadata": {},
     "output_type": "execute_result"
    }
   ],
   "source": [
    "df_gpt35[df_gpt35['pass_count'] < 4]\n"
   ],
   "metadata": {
    "collapsed": false,
    "ExecuteTime": {
     "end_time": "2023-12-06T10:58:22.890190Z",
     "start_time": "2023-12-06T10:58:22.886857Z"
    }
   },
   "id": "9e6b6c652c79d13d"
  },
  {
   "cell_type": "code",
   "execution_count": 8,
   "outputs": [
    {
     "data": {
      "text/plain": "              Unnamed: 0  pass_count              fail_test_case_1  \\\n4           detect_cycle           0            [0, 1, 2, 3, 4, 5]   \n9            get_factors           0  [1, 2, 3, 4, 5, 6, 7, 9, 10]   \n12             kheapsort           0                  [0, 1, 2, 3]   \n15            lcs_length           0      [0, 1, 3, 4, 5, 6, 7, 8]   \n17                   lis           0                [8, 9, 10, 11]   \n22       next_palindrome           0               [0, 1, 2, 3, 4]   \n26              powerset           0                  [0, 1, 2, 4]   \n30  shortest_path_length           0                        [0, 1]   \n39                  wrap           0               [0, 1, 2, 3, 4]   \n\n                fail_test_case_2              fail_test_case_3  \\\n4             [0, 1, 2, 3, 4, 5]            [0, 1, 2, 3, 4, 5]   \n9   [1, 2, 3, 4, 5, 6, 7, 9, 10]  [1, 2, 3, 4, 5, 6, 7, 9, 10]   \n12                  [0, 1, 2, 3]                  [0, 1, 2, 3]   \n15      [0, 1, 3, 4, 5, 6, 7, 8]      [0, 1, 3, 4, 5, 6, 7, 8]   \n17                [8, 9, 10, 11]                [8, 9, 10, 11]   \n22               [0, 1, 2, 3, 4]               [0, 1, 2, 3, 4]   \n26                  [0, 1, 2, 4]                  [0, 1, 2, 4]   \n30                        [0, 1]                        [0, 1]   \n39               [0, 1, 2, 3, 4]               [0, 1, 2, 3, 4]   \n\n                fail_test_case_4  pass_ratio  \n4             [0, 1, 2, 3, 4, 5]         0.0  \n9   [1, 2, 3, 4, 5, 6, 7, 9, 10]         0.0  \n12                  [0, 1, 2, 3]         0.0  \n15      [0, 1, 3, 4, 5, 6, 7, 8]         0.0  \n17                [8, 9, 10, 11]         0.0  \n22               [0, 1, 2, 3, 4]         0.0  \n26                  [0, 1, 2, 4]         0.0  \n30                        [0, 1]         0.0  \n39               [0, 1, 2, 3, 4]         0.0  ",
      "text/html": "<div>\n<style scoped>\n    .dataframe tbody tr th:only-of-type {\n        vertical-align: middle;\n    }\n\n    .dataframe tbody tr th {\n        vertical-align: top;\n    }\n\n    .dataframe thead th {\n        text-align: right;\n    }\n</style>\n<table border=\"1\" class=\"dataframe\">\n  <thead>\n    <tr style=\"text-align: right;\">\n      <th></th>\n      <th>Unnamed: 0</th>\n      <th>pass_count</th>\n      <th>fail_test_case_1</th>\n      <th>fail_test_case_2</th>\n      <th>fail_test_case_3</th>\n      <th>fail_test_case_4</th>\n      <th>pass_ratio</th>\n    </tr>\n  </thead>\n  <tbody>\n    <tr>\n      <th>4</th>\n      <td>detect_cycle</td>\n      <td>0</td>\n      <td>[0, 1, 2, 3, 4, 5]</td>\n      <td>[0, 1, 2, 3, 4, 5]</td>\n      <td>[0, 1, 2, 3, 4, 5]</td>\n      <td>[0, 1, 2, 3, 4, 5]</td>\n      <td>0.0</td>\n    </tr>\n    <tr>\n      <th>9</th>\n      <td>get_factors</td>\n      <td>0</td>\n      <td>[1, 2, 3, 4, 5, 6, 7, 9, 10]</td>\n      <td>[1, 2, 3, 4, 5, 6, 7, 9, 10]</td>\n      <td>[1, 2, 3, 4, 5, 6, 7, 9, 10]</td>\n      <td>[1, 2, 3, 4, 5, 6, 7, 9, 10]</td>\n      <td>0.0</td>\n    </tr>\n    <tr>\n      <th>12</th>\n      <td>kheapsort</td>\n      <td>0</td>\n      <td>[0, 1, 2, 3]</td>\n      <td>[0, 1, 2, 3]</td>\n      <td>[0, 1, 2, 3]</td>\n      <td>[0, 1, 2, 3]</td>\n      <td>0.0</td>\n    </tr>\n    <tr>\n      <th>15</th>\n      <td>lcs_length</td>\n      <td>0</td>\n      <td>[0, 1, 3, 4, 5, 6, 7, 8]</td>\n      <td>[0, 1, 3, 4, 5, 6, 7, 8]</td>\n      <td>[0, 1, 3, 4, 5, 6, 7, 8]</td>\n      <td>[0, 1, 3, 4, 5, 6, 7, 8]</td>\n      <td>0.0</td>\n    </tr>\n    <tr>\n      <th>17</th>\n      <td>lis</td>\n      <td>0</td>\n      <td>[8, 9, 10, 11]</td>\n      <td>[8, 9, 10, 11]</td>\n      <td>[8, 9, 10, 11]</td>\n      <td>[8, 9, 10, 11]</td>\n      <td>0.0</td>\n    </tr>\n    <tr>\n      <th>22</th>\n      <td>next_palindrome</td>\n      <td>0</td>\n      <td>[0, 1, 2, 3, 4]</td>\n      <td>[0, 1, 2, 3, 4]</td>\n      <td>[0, 1, 2, 3, 4]</td>\n      <td>[0, 1, 2, 3, 4]</td>\n      <td>0.0</td>\n    </tr>\n    <tr>\n      <th>26</th>\n      <td>powerset</td>\n      <td>0</td>\n      <td>[0, 1, 2, 4]</td>\n      <td>[0, 1, 2, 4]</td>\n      <td>[0, 1, 2, 4]</td>\n      <td>[0, 1, 2, 4]</td>\n      <td>0.0</td>\n    </tr>\n    <tr>\n      <th>30</th>\n      <td>shortest_path_length</td>\n      <td>0</td>\n      <td>[0, 1]</td>\n      <td>[0, 1]</td>\n      <td>[0, 1]</td>\n      <td>[0, 1]</td>\n      <td>0.0</td>\n    </tr>\n    <tr>\n      <th>39</th>\n      <td>wrap</td>\n      <td>0</td>\n      <td>[0, 1, 2, 3, 4]</td>\n      <td>[0, 1, 2, 3, 4]</td>\n      <td>[0, 1, 2, 3, 4]</td>\n      <td>[0, 1, 2, 3, 4]</td>\n      <td>0.0</td>\n    </tr>\n  </tbody>\n</table>\n</div>"
     },
     "execution_count": 8,
     "metadata": {},
     "output_type": "execute_result"
    }
   ],
   "source": [
    "df_gpt4[df_gpt4['pass_count'] < 4]\n"
   ],
   "metadata": {
    "collapsed": false,
    "ExecuteTime": {
     "end_time": "2023-12-06T11:21:50.777771Z",
     "start_time": "2023-12-06T11:21:50.770238Z"
    }
   },
   "id": "2a4f583b5a0ff9eb"
  }
 ],
 "metadata": {
  "kernelspec": {
   "display_name": "Python 3",
   "language": "python",
   "name": "python3"
  },
  "language_info": {
   "codemirror_mode": {
    "name": "ipython",
    "version": 2
   },
   "file_extension": ".py",
   "mimetype": "text/x-python",
   "name": "python",
   "nbconvert_exporter": "python",
   "pygments_lexer": "ipython2",
   "version": "2.7.6"
  }
 },
 "nbformat": 4,
 "nbformat_minor": 5
}
