{
 "cells": [
  {
   "cell_type": "code",
   "execution_count": 30,
   "id": "initial_id",
   "metadata": {
    "collapsed": true,
    "ExecuteTime": {
     "end_time": "2023-12-19T11:48:11.170756Z",
     "start_time": "2023-12-19T11:48:11.165362Z"
    }
   },
   "outputs": [],
   "source": [
    "from pathlib import Path\n",
    "import pandas as pd\n",
    "\n",
    "model_name = 'gpt4'\n",
    "\n",
    "root_path = Path('/Users/lucyxu/PycharmProjects/debug/')\n",
    "target_path = root_path / 'datasets' / 'QuixBugs' / 'python_testcases'\n",
    "generated_code_path = Path('generated_code') / model_name\n"
   ]
  },
  {
   "cell_type": "code",
   "execution_count": 31,
   "outputs": [
    {
     "data": {
      "text/plain": "                                       fail_test_case_1  \\\nbitcount                    [0, 1, 2, 3, 4, 5, 6, 7, 8]   \nbreadth_first_search                                 []   \nbucketsort                                           []   \ndepth_first_search                      [0, 1, 2, 3, 4]   \ndetect_cycle                                         []   \nfind_first_in_sorted                                 []   \nfind_in_sorted                                       []   \nflatten                                              []   \ngcd                                                  []   \nget_factors                                          []   \nhanoi                                                []   \nis_valid_parenthesization                            []   \nkheapsort                                  [0, 1, 2, 3]   \nknapsack                                             []   \nkth                                                  []   \nlcs_length                                 [0, 4, 7, 8]   \nlevenshtein                                          []   \nlis                                                  []   \nlongest_common_subsequence                    [5, 6, 7]   \nmax_sublist_sum                                     [4]   \nmergesort                                            []   \nminimum_spanning_tree                                []   \nnext_palindrome                                     [2]   \nnext_permutation                                     []   \npascal                                               []   \npossible_change                                      []   \npowerset                                             []   \nquicksort                                            []   \nreverse_linked_list                              [0, 1]   \nrpn_eval                             [0, 1, 2, 3, 4, 5]   \nshortest_path_length                             [0, 1]   \nshortest_path_lengths                                []   \nshortest_paths                                       []   \nshunting_yard                                        []   \nsieve                                                []   \nsqrt                                                 []   \nsubsequences                   [0, 3, 4, 5, 6, 7, 8, 9]   \nto_base                                              []   \ntopological_ordering                          [0, 1, 2]   \nwrap                                    [0, 1, 2, 3, 4]   \n\n                                    fail_test_case_2  \\\nbitcount                                          []   \nbreadth_first_search                              []   \nbucketsort                                        []   \ndepth_first_search                                []   \ndetect_cycle                                      []   \nfind_first_in_sorted                              []   \nfind_in_sorted                                    []   \nflatten                                           []   \ngcd                                               []   \nget_factors                                       []   \nhanoi                                             []   \nis_valid_parenthesization                         []   \nkheapsort                               [0, 1, 2, 3]   \nknapsack                                          []   \nkth                                               []   \nlcs_length                              [0, 4, 7, 8]   \nlevenshtein                                       []   \nlis                                               []   \nlongest_common_subsequence                 [5, 6, 7]   \nmax_sublist_sum                                  [4]   \nmergesort                                         []   \nminimum_spanning_tree                             []   \nnext_palindrome                         [0, 1, 2, 3]   \nnext_permutation                                  []   \npascal                                            []   \npossible_change                                   []   \npowerset                                          []   \nquicksort                                         []   \nreverse_linked_list                           [0, 1]   \nrpn_eval                                          []   \nshortest_path_length                             [1]   \nshortest_path_lengths                             []   \nshortest_paths                                    []   \nshunting_yard                                     []   \nsieve                                             []   \nsqrt                                              []   \nsubsequences                [0, 3, 4, 5, 6, 7, 8, 9]   \nto_base                                           []   \ntopological_ordering                       [0, 1, 2]   \nwrap                                 [0, 1, 2, 3, 4]   \n\n                                    fail_test_case_3  \\\nbitcount                                          []   \nbreadth_first_search                              []   \nbucketsort                                        []   \ndepth_first_search                                []   \ndetect_cycle                                      []   \nfind_first_in_sorted                              []   \nfind_in_sorted                                    []   \nflatten                                           []   \ngcd                                               []   \nget_factors                                       []   \nhanoi                                             []   \nis_valid_parenthesization                         []   \nkheapsort                                         []   \nknapsack                                          []   \nkth                                               []   \nlcs_length                              [0, 4, 7, 8]   \nlevenshtein                                       []   \nlis                                               []   \nlongest_common_subsequence                        []   \nmax_sublist_sum                                  [4]   \nmergesort                                         []   \nminimum_spanning_tree                             []   \nnext_palindrome                                   []   \nnext_permutation                                  []   \npascal                                            []   \npossible_change                                   []   \npowerset                                [0, 1, 2, 4]   \nquicksort                                         []   \nreverse_linked_list                           [0, 1]   \nrpn_eval                                          []   \nshortest_path_length                          [0, 1]   \nshortest_path_lengths                             []   \nshortest_paths                                    []   \nshunting_yard                                     []   \nsieve                                             []   \nsqrt                                              []   \nsubsequences                [0, 3, 4, 5, 6, 7, 8, 9]   \nto_base                                           []   \ntopological_ordering                          [0, 2]   \nwrap                                 [0, 1, 2, 3, 4]   \n\n                                    fail_test_case_4  pass_count  pass_ratio  \nbitcount                                          []           3        0.75  \nbreadth_first_search                              []           4        1.00  \nbucketsort                                        []           4        1.00  \ndepth_first_search                      [0, 1, 2, 4]           2        0.50  \ndetect_cycle                                      []           4        1.00  \nfind_first_in_sorted                              []           4        1.00  \nfind_in_sorted                                    []           4        1.00  \nflatten                                           []           4        1.00  \ngcd                                               []           4        1.00  \nget_factors                                       []           4        1.00  \nhanoi                                             []           4        1.00  \nis_valid_parenthesization                         []           4        1.00  \nkheapsort                                         []           2        0.50  \nknapsack                                          []           4        1.00  \nkth                                               []           4        1.00  \nlcs_length                              [0, 4, 7, 8]           0        0.00  \nlevenshtein                                       []           4        1.00  \nlis                                               []           4        1.00  \nlongest_common_subsequence                 [5, 6, 7]           1        0.25  \nmax_sublist_sum                                  [4]           0        0.00  \nmergesort                                         []           4        1.00  \nminimum_spanning_tree                             []           4        1.00  \nnext_palindrome                         [0, 1, 2, 3]           1        0.25  \nnext_permutation                                  []           4        1.00  \npascal                                            []           4        1.00  \npossible_change                                   []           4        1.00  \npowerset                                          []           3        0.75  \nquicksort                                         []           4        1.00  \nreverse_linked_list                           [0, 1]           0        0.00  \nrpn_eval                                          []           3        0.75  \nshortest_path_length                          [0, 1]           0        0.00  \nshortest_path_lengths                             []           4        1.00  \nshortest_paths                             [0, 1, 2]           3        0.75  \nshunting_yard                                     []           4        1.00  \nsieve                                             []           4        1.00  \nsqrt                                              []           4        1.00  \nsubsequences                [0, 3, 4, 5, 6, 7, 8, 9]           0        0.00  \nto_base                                           []           4        1.00  \ntopological_ordering                       [0, 1, 2]           0        0.00  \nwrap                                 [0, 1, 2, 3, 4]           0        0.00  ",
      "text/html": "<div>\n<style scoped>\n    .dataframe tbody tr th:only-of-type {\n        vertical-align: middle;\n    }\n\n    .dataframe tbody tr th {\n        vertical-align: top;\n    }\n\n    .dataframe thead th {\n        text-align: right;\n    }\n</style>\n<table border=\"1\" class=\"dataframe\">\n  <thead>\n    <tr style=\"text-align: right;\">\n      <th></th>\n      <th>fail_test_case_1</th>\n      <th>fail_test_case_2</th>\n      <th>fail_test_case_3</th>\n      <th>fail_test_case_4</th>\n      <th>pass_count</th>\n      <th>pass_ratio</th>\n    </tr>\n  </thead>\n  <tbody>\n    <tr>\n      <th>bitcount</th>\n      <td>[0, 1, 2, 3, 4, 5, 6, 7, 8]</td>\n      <td>[]</td>\n      <td>[]</td>\n      <td>[]</td>\n      <td>3</td>\n      <td>0.75</td>\n    </tr>\n    <tr>\n      <th>breadth_first_search</th>\n      <td>[]</td>\n      <td>[]</td>\n      <td>[]</td>\n      <td>[]</td>\n      <td>4</td>\n      <td>1.00</td>\n    </tr>\n    <tr>\n      <th>bucketsort</th>\n      <td>[]</td>\n      <td>[]</td>\n      <td>[]</td>\n      <td>[]</td>\n      <td>4</td>\n      <td>1.00</td>\n    </tr>\n    <tr>\n      <th>depth_first_search</th>\n      <td>[0, 1, 2, 3, 4]</td>\n      <td>[]</td>\n      <td>[]</td>\n      <td>[0, 1, 2, 4]</td>\n      <td>2</td>\n      <td>0.50</td>\n    </tr>\n    <tr>\n      <th>detect_cycle</th>\n      <td>[]</td>\n      <td>[]</td>\n      <td>[]</td>\n      <td>[]</td>\n      <td>4</td>\n      <td>1.00</td>\n    </tr>\n    <tr>\n      <th>find_first_in_sorted</th>\n      <td>[]</td>\n      <td>[]</td>\n      <td>[]</td>\n      <td>[]</td>\n      <td>4</td>\n      <td>1.00</td>\n    </tr>\n    <tr>\n      <th>find_in_sorted</th>\n      <td>[]</td>\n      <td>[]</td>\n      <td>[]</td>\n      <td>[]</td>\n      <td>4</td>\n      <td>1.00</td>\n    </tr>\n    <tr>\n      <th>flatten</th>\n      <td>[]</td>\n      <td>[]</td>\n      <td>[]</td>\n      <td>[]</td>\n      <td>4</td>\n      <td>1.00</td>\n    </tr>\n    <tr>\n      <th>gcd</th>\n      <td>[]</td>\n      <td>[]</td>\n      <td>[]</td>\n      <td>[]</td>\n      <td>4</td>\n      <td>1.00</td>\n    </tr>\n    <tr>\n      <th>get_factors</th>\n      <td>[]</td>\n      <td>[]</td>\n      <td>[]</td>\n      <td>[]</td>\n      <td>4</td>\n      <td>1.00</td>\n    </tr>\n    <tr>\n      <th>hanoi</th>\n      <td>[]</td>\n      <td>[]</td>\n      <td>[]</td>\n      <td>[]</td>\n      <td>4</td>\n      <td>1.00</td>\n    </tr>\n    <tr>\n      <th>is_valid_parenthesization</th>\n      <td>[]</td>\n      <td>[]</td>\n      <td>[]</td>\n      <td>[]</td>\n      <td>4</td>\n      <td>1.00</td>\n    </tr>\n    <tr>\n      <th>kheapsort</th>\n      <td>[0, 1, 2, 3]</td>\n      <td>[0, 1, 2, 3]</td>\n      <td>[]</td>\n      <td>[]</td>\n      <td>2</td>\n      <td>0.50</td>\n    </tr>\n    <tr>\n      <th>knapsack</th>\n      <td>[]</td>\n      <td>[]</td>\n      <td>[]</td>\n      <td>[]</td>\n      <td>4</td>\n      <td>1.00</td>\n    </tr>\n    <tr>\n      <th>kth</th>\n      <td>[]</td>\n      <td>[]</td>\n      <td>[]</td>\n      <td>[]</td>\n      <td>4</td>\n      <td>1.00</td>\n    </tr>\n    <tr>\n      <th>lcs_length</th>\n      <td>[0, 4, 7, 8]</td>\n      <td>[0, 4, 7, 8]</td>\n      <td>[0, 4, 7, 8]</td>\n      <td>[0, 4, 7, 8]</td>\n      <td>0</td>\n      <td>0.00</td>\n    </tr>\n    <tr>\n      <th>levenshtein</th>\n      <td>[]</td>\n      <td>[]</td>\n      <td>[]</td>\n      <td>[]</td>\n      <td>4</td>\n      <td>1.00</td>\n    </tr>\n    <tr>\n      <th>lis</th>\n      <td>[]</td>\n      <td>[]</td>\n      <td>[]</td>\n      <td>[]</td>\n      <td>4</td>\n      <td>1.00</td>\n    </tr>\n    <tr>\n      <th>longest_common_subsequence</th>\n      <td>[5, 6, 7]</td>\n      <td>[5, 6, 7]</td>\n      <td>[]</td>\n      <td>[5, 6, 7]</td>\n      <td>1</td>\n      <td>0.25</td>\n    </tr>\n    <tr>\n      <th>max_sublist_sum</th>\n      <td>[4]</td>\n      <td>[4]</td>\n      <td>[4]</td>\n      <td>[4]</td>\n      <td>0</td>\n      <td>0.00</td>\n    </tr>\n    <tr>\n      <th>mergesort</th>\n      <td>[]</td>\n      <td>[]</td>\n      <td>[]</td>\n      <td>[]</td>\n      <td>4</td>\n      <td>1.00</td>\n    </tr>\n    <tr>\n      <th>minimum_spanning_tree</th>\n      <td>[]</td>\n      <td>[]</td>\n      <td>[]</td>\n      <td>[]</td>\n      <td>4</td>\n      <td>1.00</td>\n    </tr>\n    <tr>\n      <th>next_palindrome</th>\n      <td>[2]</td>\n      <td>[0, 1, 2, 3]</td>\n      <td>[]</td>\n      <td>[0, 1, 2, 3]</td>\n      <td>1</td>\n      <td>0.25</td>\n    </tr>\n    <tr>\n      <th>next_permutation</th>\n      <td>[]</td>\n      <td>[]</td>\n      <td>[]</td>\n      <td>[]</td>\n      <td>4</td>\n      <td>1.00</td>\n    </tr>\n    <tr>\n      <th>pascal</th>\n      <td>[]</td>\n      <td>[]</td>\n      <td>[]</td>\n      <td>[]</td>\n      <td>4</td>\n      <td>1.00</td>\n    </tr>\n    <tr>\n      <th>possible_change</th>\n      <td>[]</td>\n      <td>[]</td>\n      <td>[]</td>\n      <td>[]</td>\n      <td>4</td>\n      <td>1.00</td>\n    </tr>\n    <tr>\n      <th>powerset</th>\n      <td>[]</td>\n      <td>[]</td>\n      <td>[0, 1, 2, 4]</td>\n      <td>[]</td>\n      <td>3</td>\n      <td>0.75</td>\n    </tr>\n    <tr>\n      <th>quicksort</th>\n      <td>[]</td>\n      <td>[]</td>\n      <td>[]</td>\n      <td>[]</td>\n      <td>4</td>\n      <td>1.00</td>\n    </tr>\n    <tr>\n      <th>reverse_linked_list</th>\n      <td>[0, 1]</td>\n      <td>[0, 1]</td>\n      <td>[0, 1]</td>\n      <td>[0, 1]</td>\n      <td>0</td>\n      <td>0.00</td>\n    </tr>\n    <tr>\n      <th>rpn_eval</th>\n      <td>[0, 1, 2, 3, 4, 5]</td>\n      <td>[]</td>\n      <td>[]</td>\n      <td>[]</td>\n      <td>3</td>\n      <td>0.75</td>\n    </tr>\n    <tr>\n      <th>shortest_path_length</th>\n      <td>[0, 1]</td>\n      <td>[1]</td>\n      <td>[0, 1]</td>\n      <td>[0, 1]</td>\n      <td>0</td>\n      <td>0.00</td>\n    </tr>\n    <tr>\n      <th>shortest_path_lengths</th>\n      <td>[]</td>\n      <td>[]</td>\n      <td>[]</td>\n      <td>[]</td>\n      <td>4</td>\n      <td>1.00</td>\n    </tr>\n    <tr>\n      <th>shortest_paths</th>\n      <td>[]</td>\n      <td>[]</td>\n      <td>[]</td>\n      <td>[0, 1, 2]</td>\n      <td>3</td>\n      <td>0.75</td>\n    </tr>\n    <tr>\n      <th>shunting_yard</th>\n      <td>[]</td>\n      <td>[]</td>\n      <td>[]</td>\n      <td>[]</td>\n      <td>4</td>\n      <td>1.00</td>\n    </tr>\n    <tr>\n      <th>sieve</th>\n      <td>[]</td>\n      <td>[]</td>\n      <td>[]</td>\n      <td>[]</td>\n      <td>4</td>\n      <td>1.00</td>\n    </tr>\n    <tr>\n      <th>sqrt</th>\n      <td>[]</td>\n      <td>[]</td>\n      <td>[]</td>\n      <td>[]</td>\n      <td>4</td>\n      <td>1.00</td>\n    </tr>\n    <tr>\n      <th>subsequences</th>\n      <td>[0, 3, 4, 5, 6, 7, 8, 9]</td>\n      <td>[0, 3, 4, 5, 6, 7, 8, 9]</td>\n      <td>[0, 3, 4, 5, 6, 7, 8, 9]</td>\n      <td>[0, 3, 4, 5, 6, 7, 8, 9]</td>\n      <td>0</td>\n      <td>0.00</td>\n    </tr>\n    <tr>\n      <th>to_base</th>\n      <td>[]</td>\n      <td>[]</td>\n      <td>[]</td>\n      <td>[]</td>\n      <td>4</td>\n      <td>1.00</td>\n    </tr>\n    <tr>\n      <th>topological_ordering</th>\n      <td>[0, 1, 2]</td>\n      <td>[0, 1, 2]</td>\n      <td>[0, 2]</td>\n      <td>[0, 1, 2]</td>\n      <td>0</td>\n      <td>0.00</td>\n    </tr>\n    <tr>\n      <th>wrap</th>\n      <td>[0, 1, 2, 3, 4]</td>\n      <td>[0, 1, 2, 3, 4]</td>\n      <td>[0, 1, 2, 3, 4]</td>\n      <td>[0, 1, 2, 3, 4]</td>\n      <td>0</td>\n      <td>0.00</td>\n    </tr>\n  </tbody>\n</table>\n</div>"
     },
     "execution_count": 31,
     "metadata": {},
     "output_type": "execute_result"
    }
   ],
   "source": [
    "df1 = pd.read_csv(f'results/{model_name}_1_result.csv', index_col=0)\n",
    "df2 = pd.read_csv(f'results/{model_name}_2_result.csv', index_col=0)\n",
    "df3 = pd.read_csv(f'results/{model_name}_3_result.csv', index_col=0)\n",
    "df4 = pd.read_csv(f'results/{model_name}_4_result.csv', index_col=0)\n",
    "\n",
    "df = pd.merge(\n",
    "    df1.add_suffix('_1'),\n",
    "    df2.add_suffix('_2'),\n",
    "    left_index=True,\n",
    "    right_index=True\n",
    ")\n",
    "\n",
    "df = pd.merge(\n",
    "    df,\n",
    "    df3.add_suffix('_3'),\n",
    "    left_index=True,\n",
    "    right_index=True\n",
    ")\n",
    "\n",
    "df = pd.merge(\n",
    "    df,\n",
    "    df4.add_suffix('_4'),\n",
    "    left_index=True,\n",
    "    right_index=True\n",
    ")\n",
    "\n",
    "df['pass_count'] = df['pass_1'].astype(int) + df['pass_2'].astype(int) + df['pass_3'].astype(int) + df['pass_4'].astype(int)\n",
    "df['pass_ratio'] = df['pass_count'] / 4\n",
    "df.drop(['pass_1', 'pass_2', 'pass_3', 'pass_4'], axis=1, inplace=True)\n",
    "\n",
    "df\n"
   ],
   "metadata": {
    "collapsed": false,
    "ExecuteTime": {
     "end_time": "2023-12-19T11:48:11.188466Z",
     "start_time": "2023-12-19T11:48:11.170488Z"
    }
   },
   "id": "c05415fa002ad703"
  },
  {
   "cell_type": "code",
   "execution_count": 32,
   "outputs": [],
   "source": [
    "df.to_csv(f'results/{model_name}_result.csv')\n"
   ],
   "metadata": {
    "collapsed": false,
    "ExecuteTime": {
     "end_time": "2023-12-19T11:48:11.196980Z",
     "start_time": "2023-12-19T11:48:11.187133Z"
    }
   },
   "id": "f390807f4bdcc979"
  }
 ],
 "metadata": {
  "kernelspec": {
   "display_name": "Python 3",
   "language": "python",
   "name": "python3"
  },
  "language_info": {
   "codemirror_mode": {
    "name": "ipython",
    "version": 2
   },
   "file_extension": ".py",
   "mimetype": "text/x-python",
   "name": "python",
   "nbconvert_exporter": "python",
   "pygments_lexer": "ipython2",
   "version": "2.7.6"
  }
 },
 "nbformat": 4,
 "nbformat_minor": 5
}
