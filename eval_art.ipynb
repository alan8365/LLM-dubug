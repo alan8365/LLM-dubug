{
 "cells": [
  {
   "cell_type": "code",
   "execution_count": 4,
   "metadata": {},
   "outputs": [
    {
     "data": {
      "text/plain": [
       "True"
      ]
     },
     "execution_count": 4,
     "metadata": {},
     "output_type": "execute_result"
    }
   ],
   "source": [
    "import os\n",
    "import json\n",
    "\n",
    "from pathlib import Path\n",
    "import pandas as pd\n",
    "\n",
    "\n",
    "# exp_name = \"gpt35-python-basic\"\n",
    "# exp_name = \"gpt35-python-with_lib_v2\"\n",
    "# exp_name = \"gpt35-python-with_step\"\n",
    "# exp_name = \"gpt4-python-basic\"\n",
    "# exp_name = \"gpt4-python-with_lib_v2\"\n",
    "exp_name = \"gemini-python-basic\"\n",
    "# exp_name = \"gemini-python-with_lib_v2\"\n",
    "# exp_name = \"gemini-python-with_step\"\n",
    "# exp_name = \"claude-python-basic\"\n",
    "\n",
    "base_dir = Path(str(os.getenv(\"EXPS_DIR\")))\n",
    "eval_dir = base_dir / exp_name / \"evals_art\"\n",
    "\n",
    "if not eval_dir.is_dir():\n",
    "    eval_dir.mkdir()\n"
   ]
  },
  {
   "cell_type": "code",
   "execution_count": 7,
   "metadata": {},
   "outputs": [
    {
     "data": {
      "text/plain": [
       "['bitcount',\n",
       " 'breadth_first_search',\n",
       " 'bucketsort',\n",
       " 'depth_first_search',\n",
       " 'detect_cycle',\n",
       " 'find_first_in_sorted',\n",
       " 'find_in_sorted',\n",
       " 'flatten',\n",
       " 'gcd',\n",
       " 'get_factors',\n",
       " 'hanoi',\n",
       " 'is_valid_parenthesization',\n",
       " 'kheapsort',\n",
       " 'knapsack',\n",
       " 'kth',\n",
       " 'lcs_length',\n",
       " 'levenshtein',\n",
       " 'lis',\n",
       " 'longest_common_subsequence',\n",
       " 'max_sublist_sum',\n",
       " 'mergesort',\n",
       " 'minimum_spanning_tree',\n",
       " 'next_palindrome',\n",
       " 'next_permutation',\n",
       " 'pascal',\n",
       " 'possible_change',\n",
       " 'powerset',\n",
       " 'quicksort',\n",
       " 'reverse_linked_list',\n",
       " 'rpn_eval',\n",
       " 'shortest_path_length',\n",
       " 'shortest_path_lengths',\n",
       " 'shortest_paths',\n",
       " 'shunting_yard',\n",
       " 'sieve',\n",
       " 'sqrt',\n",
       " 'subsequences',\n",
       " 'to_base',\n",
       " 'topological_ordering',\n",
       " 'wrap']"
      ]
     },
     "execution_count": 7,
     "metadata": {},
     "output_type": "execute_result"
    }
   ],
   "source": [
    "dataset_dir = Path(str(os.getenv(\"QUIX_BUGS_DIR\")))\n",
    "with open(dataset_dir / \"prog_info.json\", \"r\") as file:\n",
    "    prog_info: list[dict] = json.load(file)\n",
    "prog_names = [i[\"prog_name\"] for i in prog_info]\n",
    "\n",
    "prog_names\n"
   ]
  },
  {
   "cell_type": "code",
   "execution_count": 14,
   "metadata": {},
   "outputs": [],
   "source": [
    "df = pd.DataFrame({i: \"U\" for i in ['patch_1', 'patch_2', 'patch_3']}, index=prog_names)\n",
    "\n",
    "df.to_csv(eval_dir / \"is_correct.csv\")\n"
   ]
  }
 ],
 "metadata": {
  "kernelspec": {
   "display_name": "venv",
   "language": "python",
   "name": "python3"
  },
  "language_info": {
   "codemirror_mode": {
    "name": "ipython",
    "version": 3
   },
   "file_extension": ".py",
   "mimetype": "text/x-python",
   "name": "python",
   "nbconvert_exporter": "python",
   "pygments_lexer": "ipython3",
   "version": "3.9.6"
  }
 },
 "nbformat": 4,
 "nbformat_minor": 2
}
