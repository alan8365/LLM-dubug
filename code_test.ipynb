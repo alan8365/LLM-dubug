{
 "cells": [
  {
   "cell_type": "code",
   "execution_count": 4,
   "id": "initial_id",
   "metadata": {
    "collapsed": true,
    "ExecuteTime": {
     "end_time": "2023-11-26T13:35:05.809494Z",
     "start_time": "2023-11-26T13:35:05.800911Z"
    }
   },
   "outputs": [
    {
     "data": {
      "text/plain": "[[[127], 7],\n [[128], 1],\n [[3005], 9],\n [[13], 3],\n [[14], 3],\n [[27], 4],\n [[834], 4],\n [[254], 7],\n [[256], 1]]"
     },
     "execution_count": 4,
     "metadata": {},
     "output_type": "execute_result"
    }
   ],
   "source": [
    "import re\n",
    "import os\n",
    "from pathlib import Path\n",
    "from glob import glob\n",
    "\n",
    "from datasets.QuixBugs.python_testcases.load_testdata import load_json_testcases\n",
    "from utils import get_all_function, copy_to_custom_folder\n",
    "\n",
    "root_path = Path('/Users/lucyxu/PycharmProjects/debug/')\n",
    "target_path = root_path / 'datasets' / 'QuixBugs' / 'python_testcases'\n",
    "\n",
    "load_json_testcases('bitcount')\n"
   ]
  },
  {
   "cell_type": "code",
   "execution_count": 6,
   "outputs": [],
   "source": [
    "function_list = get_all_function()\n",
    "\n",
    "generated_code_path = Path('generated_code') / 'gpt35'\n",
    "copy_to_custom_folder(generated_code_path, 1)\n",
    "\n",
    "\n"
   ],
   "metadata": {
    "collapsed": false,
    "ExecuteTime": {
     "end_time": "2023-11-27T01:46:07.771251Z",
     "start_time": "2023-11-27T01:46:07.747768Z"
    }
   },
   "id": "a9748ef07fc3fd0a"
  },
  {
   "cell_type": "code",
   "execution_count": 32,
   "outputs": [
    {
     "ename": "FileNotFoundError",
     "evalue": "[Errno 2] No such file or directory: '/Users/lucyxu/PycharmProjects/debug/datasets/QuixBugs/python_testcases/../json_testcases/breadth_first_search.json'",
     "output_type": "error",
     "traceback": [
      "\u001B[0;31m---------------------------------------------------------------------------\u001B[0m",
      "\u001B[0;31mFileNotFoundError\u001B[0m                         Traceback (most recent call last)",
      "Cell \u001B[0;32mIn[32], line 9\u001B[0m\n\u001B[1;32m      6\u001B[0m \u001B[38;5;28;01mfor\u001B[39;00m i \u001B[38;5;129;01min\u001B[39;00m \u001B[38;5;28mrange\u001B[39m(\u001B[38;5;241m1\u001B[39m, \u001B[38;5;241m5\u001B[39m):\n\u001B[1;32m      7\u001B[0m     exec(\u001B[38;5;124mf\u001B[39m\u001B[38;5;124m'\u001B[39m\u001B[38;5;124mfrom generated_code.gpt35.\u001B[39m\u001B[38;5;132;01m{\u001B[39;00mfunction_name\u001B[38;5;132;01m}\u001B[39;00m\u001B[38;5;124m.\u001B[39m\u001B[38;5;132;01m{\u001B[39;00mfunction_name\u001B[38;5;132;01m}\u001B[39;00m\u001B[38;5;124m_\u001B[39m\u001B[38;5;132;01m{\u001B[39;00mi\u001B[38;5;132;01m}\u001B[39;00m\u001B[38;5;124m import \u001B[39m\u001B[38;5;132;01m{\u001B[39;00mfunction_name\u001B[38;5;132;01m}\u001B[39;00m\u001B[38;5;124m as test_function\u001B[39m\u001B[38;5;124m'\u001B[39m)\n\u001B[0;32m----> 9\u001B[0m     test_case \u001B[38;5;241m=\u001B[39m \u001B[43mload_json_testcases\u001B[49m\u001B[43m(\u001B[49m\u001B[43mfunction_name\u001B[49m\u001B[43m)\u001B[49m\n\u001B[1;32m     11\u001B[0m     result \u001B[38;5;241m=\u001B[39m \u001B[38;5;28;01mTrue\u001B[39;00m\n\u001B[1;32m     12\u001B[0m     error_x \u001B[38;5;241m=\u001B[39m \u001B[38;5;28;01mNone\u001B[39;00m\n",
      "File \u001B[0;32m~/PycharmProjects/debug/datasets/QuixBugs/python_testcases/load_testdata.py:9\u001B[0m, in \u001B[0;36mload_json_testcases\u001B[0;34m(algorithm)\u001B[0m\n\u001B[1;32m      7\u001B[0m quixbugs_root \u001B[38;5;241m=\u001B[39m Path(\u001B[38;5;18m__file__\u001B[39m)\u001B[38;5;241m.\u001B[39mparent \u001B[38;5;241m/\u001B[39m \u001B[38;5;124m\"\u001B[39m\u001B[38;5;124m..\u001B[39m\u001B[38;5;124m\"\u001B[39m\n\u001B[1;32m      8\u001B[0m testdata_path \u001B[38;5;241m=\u001B[39m quixbugs_root \u001B[38;5;241m/\u001B[39m \u001B[38;5;124mf\u001B[39m\u001B[38;5;124m\"\u001B[39m\u001B[38;5;124mjson_testcases/\u001B[39m\u001B[38;5;132;01m{\u001B[39;00malgorithm\u001B[38;5;132;01m}\u001B[39;00m\u001B[38;5;124m.json\u001B[39m\u001B[38;5;124m\"\u001B[39m\n\u001B[0;32m----> 9\u001B[0m \u001B[38;5;28;01mwith\u001B[39;00m \u001B[38;5;28;43mopen\u001B[39;49m\u001B[43m(\u001B[49m\u001B[43mtestdata_path\u001B[49m\u001B[43m)\u001B[49m \u001B[38;5;28;01mas\u001B[39;00m data_file:\n\u001B[1;32m     10\u001B[0m     testdata \u001B[38;5;241m=\u001B[39m [json\u001B[38;5;241m.\u001B[39mloads(line) \u001B[38;5;28;01mfor\u001B[39;00m line \u001B[38;5;129;01min\u001B[39;00m data_file]\n\u001B[1;32m     12\u001B[0m \u001B[38;5;28;01mreturn\u001B[39;00m testdata\n",
      "\u001B[0;31mFileNotFoundError\u001B[0m: [Errno 2] No such file or directory: '/Users/lucyxu/PycharmProjects/debug/datasets/QuixBugs/python_testcases/../json_testcases/breadth_first_search.json'"
     ]
    }
   ],
   "source": [],
   "metadata": {
    "collapsed": false,
    "ExecuteTime": {
     "end_time": "2023-11-24T13:29:09.186986Z",
     "start_time": "2023-11-24T13:29:09.122082Z"
    }
   },
   "id": "a16e03f9b7c56153"
  },
  {
   "cell_type": "code",
   "execution_count": 30,
   "outputs": [
    {
     "data": {
      "text/plain": "{'pascal': [[1, True, None],\n  [2, True, None],\n  [3, True, None],\n  [4, True, None]],\n 'find_in_sorted': [[1, True, None], [2, True, None]]}"
     },
     "execution_count": 30,
     "metadata": {},
     "output_type": "execute_result"
    }
   ],
   "source": [
    "all_test_result\n"
   ],
   "metadata": {
    "collapsed": false,
    "ExecuteTime": {
     "end_time": "2023-11-24T13:28:32.688816Z",
     "start_time": "2023-11-24T13:28:32.685123Z"
    }
   },
   "id": "abf4a76a6a462327"
  }
 ],
 "metadata": {
  "kernelspec": {
   "display_name": "Python 3",
   "language": "python",
   "name": "python3"
  },
  "language_info": {
   "codemirror_mode": {
    "name": "ipython",
    "version": 2
   },
   "file_extension": ".py",
   "mimetype": "text/x-python",
   "name": "python",
   "nbconvert_exporter": "python",
   "pygments_lexer": "ipython2",
   "version": "2.7.6"
  }
 },
 "nbformat": 4,
 "nbformat_minor": 5
}
