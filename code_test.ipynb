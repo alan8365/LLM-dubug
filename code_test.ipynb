{
 "cells": [
  {
   "cell_type": "code",
   "execution_count": 6,
   "id": "initial_id",
   "metadata": {
    "collapsed": true,
    "ExecuteTime": {
     "end_time": "2023-12-13T23:28:21.200468Z",
     "start_time": "2023-12-13T23:28:21.198122Z"
    }
   },
   "outputs": [],
   "source": [
    "import io\n",
    "import sys\n",
    "from pathlib import Path\n",
    "\n",
    "import pytest\n",
    "\n",
    "from utils import get_all_function, copy_to_custom_folder, extract_test_info_from_pytest_log\n",
    "\n",
    "model_name = 'palm'\n",
    "\n",
    "root_path = Path('/Users/lucyxu/PycharmProjects/debug/')\n",
    "target_path = root_path / 'datasets' / 'QuixBugs' / 'python_testcases'\n",
    "generated_code_path = Path('generated_code') / model_name\n"
   ]
  },
  {
   "cell_type": "code",
   "execution_count": 7,
   "outputs": [],
   "source": [
    "i = 1\n",
    "\n",
    "copy_to_custom_folder(generated_code_path, i)\n",
    "\n",
    "stdout_bak = sys.stdout  # backup stdout\n",
    "sys.stdout = io.StringIO()\n",
    "\n",
    "# pytest.main(['--custom', 'python_testcases'])\n",
    "pytest.main(['--custom', target_path])\n",
    "\n",
    "output = sys.stdout.getvalue()\n",
    "sys.stdout.close()\n",
    "sys.stdout = stdout_bak  # restore stdout\n",
    "\n",
    "result = extract_test_info_from_pytest_log(output)\n"
   ],
   "metadata": {
    "collapsed": false,
    "ExecuteTime": {
     "end_time": "2023-12-13T23:28:55.128964Z",
     "start_time": "2023-12-13T23:28:21.203836Z"
    }
   },
   "id": "a16e03f9b7c56153"
  },
  {
   "cell_type": "code",
   "execution_count": 8,
   "outputs": [
    {
     "name": "stderr",
     "output_type": "stream",
     "text": [
      "/var/folders/pv/bc3hx_855jb961qj91gq4jrc0000gn/T/ipykernel_37895/403163967.py:18: FutureWarning: Setting an item of incompatible dtype is deprecated and will raise in a future error of pandas. Value 'True' has dtype incompatible with float64, please explicitly cast to a compatible dtype first.\n",
      "  df.loc[function_name, 'pass_count'] = True if test_result == 'pass' else False\n"
     ]
    },
    {
     "data": {
      "text/plain": "                             pass  \\\nbitcount                    False   \nbreadth_first_search        False   \nbucketsort                  False   \ndepth_first_search          False   \ndetect_cycle                False   \nfind_first_in_sorted        False   \nfind_in_sorted              False   \nflatten                     False   \ngcd                         False   \nget_factors                 False   \nhanoi                       False   \nis_valid_parenthesization   False   \nkheapsort                   False   \nknapsack                    False   \nkth                         False   \nlcs_length                  False   \nlevenshtein                 False   \nlis                         False   \nlongest_common_subsequence  False   \nmax_sublist_sum             False   \nmergesort                   False   \nminimum_spanning_tree       False   \nnext_palindrome             False   \nnext_permutation            False   \npascal                      False   \npossible_change             False   \npowerset                    False   \nquicksort                   False   \nreverse_linked_list         False   \nrpn_eval                    False   \nshortest_path_length        False   \nshortest_path_lengths       False   \nshortest_paths              False   \nshunting_yard               False   \nsieve                       False   \nsqrt                        False   \nsubsequences                False   \nto_base                     False   \ntopological_ordering        False   \nwrap                        False   \n\n                                                         fail_test_case  \\\nbitcount                                                             []   \nbreadth_first_search                                                [2]   \nbucketsort                                                           []   \ndepth_first_search                                                   []   \ndetect_cycle                                                     [0, 4]   \nfind_first_in_sorted                                          [1, 2, 4]   \nfind_in_sorted                                                   [1, 6]   \nflatten                                                              []   \ngcd                                                                  []   \nget_factors                                                          []   \nhanoi                                             [1, 2, 3, 4, 5, 6, 7]   \nis_valid_parenthesization                                            []   \nkheapsort                                                            []   \nknapsack                                             [1, 3, 4, 5, 6, 7]   \nkth                                                        [0, 1, 5, 6]   \nlcs_length                                                           []   \nlevenshtein                                             [0, 1, 2, 4, 6]   \nlis                                                      [8, 9, 10, 11]   \nlongest_common_subsequence                                 [3, 5, 6, 7]   \nmax_sublist_sum                                            [0, 1, 3, 5]   \nmergesort                   [1, 2, 3, 4, 5, 6, 7, 8, 9, 10, 11, 12, 13]   \nminimum_spanning_tree                                         [0, 1, 2]   \nnext_palindrome                                         [0, 1, 2, 3, 4]   \nnext_permutation                               [0, 1, 2, 3, 4, 5, 6, 7]   \npascal                                                     [1, 2, 3, 4]   \npossible_change                             [1, 2, 3, 4, 5, 6, 7, 8, 9]   \npowerset                                                   [0, 1, 2, 4]   \nquicksort                                                           [1]   \nreverse_linked_list                                                  []   \nrpn_eval                                                      [0, 2, 5]   \nshortest_path_length                                             [0, 1]   \nshortest_path_lengths                                      [0, 1, 2, 3]   \nshortest_paths                                                [0, 1, 2]   \nshunting_yard                                                        []   \nsieve                                                                []   \nsqrt                                                 [0, 2, 3, 4, 5, 6]   \nsubsequences                           [0, 3, 4, 5, 6, 7, 8, 9, 10, 11]   \nto_base                                                              []   \ntopological_ordering                                          [0, 1, 2]   \nwrap                                                    [0, 1, 2, 3, 4]   \n\n                           pass_count  \nbitcount                         True  \nbreadth_first_search            False  \nbucketsort                       True  \ndepth_first_search               True  \ndetect_cycle                    False  \nfind_first_in_sorted            False  \nfind_in_sorted                  False  \nflatten                          True  \ngcd                              True  \nget_factors                      True  \nhanoi                           False  \nis_valid_parenthesization        True  \nkheapsort                        True  \nknapsack                        False  \nkth                             False  \nlcs_length                       True  \nlevenshtein                     False  \nlis                             False  \nlongest_common_subsequence      False  \nmax_sublist_sum                 False  \nmergesort                       False  \nminimum_spanning_tree           False  \nnext_palindrome                 False  \nnext_permutation                False  \npascal                          False  \npossible_change                 False  \npowerset                        False  \nquicksort                       False  \nreverse_linked_list              True  \nrpn_eval                        False  \nshortest_path_length            False  \nshortest_path_lengths           False  \nshortest_paths                  False  \nshunting_yard                    True  \nsieve                            True  \nsqrt                            False  \nsubsequences                    False  \nto_base                          True  \ntopological_ordering            False  \nwrap                            False  ",
      "text/html": "<div>\n<style scoped>\n    .dataframe tbody tr th:only-of-type {\n        vertical-align: middle;\n    }\n\n    .dataframe tbody tr th {\n        vertical-align: top;\n    }\n\n    .dataframe thead th {\n        text-align: right;\n    }\n</style>\n<table border=\"1\" class=\"dataframe\">\n  <thead>\n    <tr style=\"text-align: right;\">\n      <th></th>\n      <th>pass</th>\n      <th>fail_test_case</th>\n      <th>pass_count</th>\n    </tr>\n  </thead>\n  <tbody>\n    <tr>\n      <th>bitcount</th>\n      <td>False</td>\n      <td>[]</td>\n      <td>True</td>\n    </tr>\n    <tr>\n      <th>breadth_first_search</th>\n      <td>False</td>\n      <td>[2]</td>\n      <td>False</td>\n    </tr>\n    <tr>\n      <th>bucketsort</th>\n      <td>False</td>\n      <td>[]</td>\n      <td>True</td>\n    </tr>\n    <tr>\n      <th>depth_first_search</th>\n      <td>False</td>\n      <td>[]</td>\n      <td>True</td>\n    </tr>\n    <tr>\n      <th>detect_cycle</th>\n      <td>False</td>\n      <td>[0, 4]</td>\n      <td>False</td>\n    </tr>\n    <tr>\n      <th>find_first_in_sorted</th>\n      <td>False</td>\n      <td>[1, 2, 4]</td>\n      <td>False</td>\n    </tr>\n    <tr>\n      <th>find_in_sorted</th>\n      <td>False</td>\n      <td>[1, 6]</td>\n      <td>False</td>\n    </tr>\n    <tr>\n      <th>flatten</th>\n      <td>False</td>\n      <td>[]</td>\n      <td>True</td>\n    </tr>\n    <tr>\n      <th>gcd</th>\n      <td>False</td>\n      <td>[]</td>\n      <td>True</td>\n    </tr>\n    <tr>\n      <th>get_factors</th>\n      <td>False</td>\n      <td>[]</td>\n      <td>True</td>\n    </tr>\n    <tr>\n      <th>hanoi</th>\n      <td>False</td>\n      <td>[1, 2, 3, 4, 5, 6, 7]</td>\n      <td>False</td>\n    </tr>\n    <tr>\n      <th>is_valid_parenthesization</th>\n      <td>False</td>\n      <td>[]</td>\n      <td>True</td>\n    </tr>\n    <tr>\n      <th>kheapsort</th>\n      <td>False</td>\n      <td>[]</td>\n      <td>True</td>\n    </tr>\n    <tr>\n      <th>knapsack</th>\n      <td>False</td>\n      <td>[1, 3, 4, 5, 6, 7]</td>\n      <td>False</td>\n    </tr>\n    <tr>\n      <th>kth</th>\n      <td>False</td>\n      <td>[0, 1, 5, 6]</td>\n      <td>False</td>\n    </tr>\n    <tr>\n      <th>lcs_length</th>\n      <td>False</td>\n      <td>[]</td>\n      <td>True</td>\n    </tr>\n    <tr>\n      <th>levenshtein</th>\n      <td>False</td>\n      <td>[0, 1, 2, 4, 6]</td>\n      <td>False</td>\n    </tr>\n    <tr>\n      <th>lis</th>\n      <td>False</td>\n      <td>[8, 9, 10, 11]</td>\n      <td>False</td>\n    </tr>\n    <tr>\n      <th>longest_common_subsequence</th>\n      <td>False</td>\n      <td>[3, 5, 6, 7]</td>\n      <td>False</td>\n    </tr>\n    <tr>\n      <th>max_sublist_sum</th>\n      <td>False</td>\n      <td>[0, 1, 3, 5]</td>\n      <td>False</td>\n    </tr>\n    <tr>\n      <th>mergesort</th>\n      <td>False</td>\n      <td>[1, 2, 3, 4, 5, 6, 7, 8, 9, 10, 11, 12, 13]</td>\n      <td>False</td>\n    </tr>\n    <tr>\n      <th>minimum_spanning_tree</th>\n      <td>False</td>\n      <td>[0, 1, 2]</td>\n      <td>False</td>\n    </tr>\n    <tr>\n      <th>next_palindrome</th>\n      <td>False</td>\n      <td>[0, 1, 2, 3, 4]</td>\n      <td>False</td>\n    </tr>\n    <tr>\n      <th>next_permutation</th>\n      <td>False</td>\n      <td>[0, 1, 2, 3, 4, 5, 6, 7]</td>\n      <td>False</td>\n    </tr>\n    <tr>\n      <th>pascal</th>\n      <td>False</td>\n      <td>[1, 2, 3, 4]</td>\n      <td>False</td>\n    </tr>\n    <tr>\n      <th>possible_change</th>\n      <td>False</td>\n      <td>[1, 2, 3, 4, 5, 6, 7, 8, 9]</td>\n      <td>False</td>\n    </tr>\n    <tr>\n      <th>powerset</th>\n      <td>False</td>\n      <td>[0, 1, 2, 4]</td>\n      <td>False</td>\n    </tr>\n    <tr>\n      <th>quicksort</th>\n      <td>False</td>\n      <td>[1]</td>\n      <td>False</td>\n    </tr>\n    <tr>\n      <th>reverse_linked_list</th>\n      <td>False</td>\n      <td>[]</td>\n      <td>True</td>\n    </tr>\n    <tr>\n      <th>rpn_eval</th>\n      <td>False</td>\n      <td>[0, 2, 5]</td>\n      <td>False</td>\n    </tr>\n    <tr>\n      <th>shortest_path_length</th>\n      <td>False</td>\n      <td>[0, 1]</td>\n      <td>False</td>\n    </tr>\n    <tr>\n      <th>shortest_path_lengths</th>\n      <td>False</td>\n      <td>[0, 1, 2, 3]</td>\n      <td>False</td>\n    </tr>\n    <tr>\n      <th>shortest_paths</th>\n      <td>False</td>\n      <td>[0, 1, 2]</td>\n      <td>False</td>\n    </tr>\n    <tr>\n      <th>shunting_yard</th>\n      <td>False</td>\n      <td>[]</td>\n      <td>True</td>\n    </tr>\n    <tr>\n      <th>sieve</th>\n      <td>False</td>\n      <td>[]</td>\n      <td>True</td>\n    </tr>\n    <tr>\n      <th>sqrt</th>\n      <td>False</td>\n      <td>[0, 2, 3, 4, 5, 6]</td>\n      <td>False</td>\n    </tr>\n    <tr>\n      <th>subsequences</th>\n      <td>False</td>\n      <td>[0, 3, 4, 5, 6, 7, 8, 9, 10, 11]</td>\n      <td>False</td>\n    </tr>\n    <tr>\n      <th>to_base</th>\n      <td>False</td>\n      <td>[]</td>\n      <td>True</td>\n    </tr>\n    <tr>\n      <th>topological_ordering</th>\n      <td>False</td>\n      <td>[0, 1, 2]</td>\n      <td>False</td>\n    </tr>\n    <tr>\n      <th>wrap</th>\n      <td>False</td>\n      <td>[0, 1, 2, 3, 4]</td>\n      <td>False</td>\n    </tr>\n  </tbody>\n</table>\n</div>"
     },
     "execution_count": 8,
     "metadata": {},
     "output_type": "execute_result"
    }
   ],
   "source": [
    "import pandas as pd\n",
    "\n",
    "function_list = get_all_function()\n",
    "\n",
    "d = {\n",
    "    'pass': [False] * 40,\n",
    "    'fail_test_case': [''] * 40,\n",
    "}\n",
    "df = pd.DataFrame(index=function_list, data=d)\n",
    "\n",
    "for item in result:\n",
    "    function_name = item['function_name']\n",
    "    test_text = item['test_text']\n",
    "    test_result = item['test_result']\n",
    "    fail_test_case = item['fail_test_case']\n",
    "    \n",
    "    df.loc[function_name, 'pass'] = True if test_result == 'pass' else False \n",
    "    df.loc[function_name, 'fail_test_case'] = str(fail_test_case)\n",
    "\n",
    "df\n",
    "\n",
    "# all_result\n"
   ],
   "metadata": {
    "collapsed": false,
    "ExecuteTime": {
     "end_time": "2023-12-13T23:28:55.161251Z",
     "start_time": "2023-12-13T23:28:55.129448Z"
    }
   },
   "id": "abf4a76a6a462327"
  },
  {
   "cell_type": "code",
   "execution_count": 9,
   "outputs": [
    {
     "data": {
      "text/plain": "                             pass  \\\nbitcount                    False   \nbreadth_first_search        False   \nbucketsort                  False   \ndepth_first_search          False   \ndetect_cycle                False   \nfind_first_in_sorted        False   \nfind_in_sorted              False   \nflatten                     False   \ngcd                         False   \nget_factors                 False   \nhanoi                       False   \nis_valid_parenthesization   False   \nkheapsort                   False   \nknapsack                    False   \nkth                         False   \nlcs_length                  False   \nlevenshtein                 False   \nlis                         False   \nlongest_common_subsequence  False   \nmax_sublist_sum             False   \nmergesort                   False   \nminimum_spanning_tree       False   \nnext_palindrome             False   \nnext_permutation            False   \npascal                      False   \npossible_change             False   \npowerset                    False   \nquicksort                   False   \nreverse_linked_list         False   \nrpn_eval                    False   \nshortest_path_length        False   \nshortest_path_lengths       False   \nshortest_paths              False   \nshunting_yard               False   \nsieve                       False   \nsqrt                        False   \nsubsequences                False   \nto_base                     False   \ntopological_ordering        False   \nwrap                        False   \n\n                                                         fail_test_case  \\\nbitcount                                                             []   \nbreadth_first_search                                                [2]   \nbucketsort                                                           []   \ndepth_first_search                                                   []   \ndetect_cycle                                                     [0, 4]   \nfind_first_in_sorted                                          [1, 2, 4]   \nfind_in_sorted                                                   [1, 6]   \nflatten                                                              []   \ngcd                                                                  []   \nget_factors                                                          []   \nhanoi                                             [1, 2, 3, 4, 5, 6, 7]   \nis_valid_parenthesization                                            []   \nkheapsort                                                            []   \nknapsack                                             [1, 3, 4, 5, 6, 7]   \nkth                                                        [0, 1, 5, 6]   \nlcs_length                                                           []   \nlevenshtein                                             [0, 1, 2, 4, 6]   \nlis                                                      [8, 9, 10, 11]   \nlongest_common_subsequence                                 [3, 5, 6, 7]   \nmax_sublist_sum                                            [0, 1, 3, 5]   \nmergesort                   [1, 2, 3, 4, 5, 6, 7, 8, 9, 10, 11, 12, 13]   \nminimum_spanning_tree                                         [0, 1, 2]   \nnext_palindrome                                         [0, 1, 2, 3, 4]   \nnext_permutation                               [0, 1, 2, 3, 4, 5, 6, 7]   \npascal                                                     [1, 2, 3, 4]   \npossible_change                             [1, 2, 3, 4, 5, 6, 7, 8, 9]   \npowerset                                                   [0, 1, 2, 4]   \nquicksort                                                           [1]   \nreverse_linked_list                                                  []   \nrpn_eval                                                      [0, 2, 5]   \nshortest_path_length                                             [0, 1]   \nshortest_path_lengths                                      [0, 1, 2, 3]   \nshortest_paths                                                [0, 1, 2]   \nshunting_yard                                                        []   \nsieve                                                                []   \nsqrt                                                 [0, 2, 3, 4, 5, 6]   \nsubsequences                           [0, 3, 4, 5, 6, 7, 8, 9, 10, 11]   \nto_base                                                              []   \ntopological_ordering                                          [0, 1, 2]   \nwrap                                                    [0, 1, 2, 3, 4]   \n\n                           pass_count  \nbitcount                         True  \nbreadth_first_search            False  \nbucketsort                       True  \ndepth_first_search               True  \ndetect_cycle                    False  \nfind_first_in_sorted            False  \nfind_in_sorted                  False  \nflatten                          True  \ngcd                              True  \nget_factors                      True  \nhanoi                           False  \nis_valid_parenthesization        True  \nkheapsort                        True  \nknapsack                        False  \nkth                             False  \nlcs_length                       True  \nlevenshtein                     False  \nlis                             False  \nlongest_common_subsequence      False  \nmax_sublist_sum                 False  \nmergesort                       False  \nminimum_spanning_tree           False  \nnext_palindrome                 False  \nnext_permutation                False  \npascal                          False  \npossible_change                 False  \npowerset                        False  \nquicksort                       False  \nreverse_linked_list              True  \nrpn_eval                        False  \nshortest_path_length            False  \nshortest_path_lengths           False  \nshortest_paths                  False  \nshunting_yard                    True  \nsieve                            True  \nsqrt                            False  \nsubsequences                    False  \nto_base                          True  \ntopological_ordering            False  \nwrap                            False  ",
      "text/html": "<div>\n<style scoped>\n    .dataframe tbody tr th:only-of-type {\n        vertical-align: middle;\n    }\n\n    .dataframe tbody tr th {\n        vertical-align: top;\n    }\n\n    .dataframe thead th {\n        text-align: right;\n    }\n</style>\n<table border=\"1\" class=\"dataframe\">\n  <thead>\n    <tr style=\"text-align: right;\">\n      <th></th>\n      <th>pass</th>\n      <th>fail_test_case</th>\n      <th>pass_count</th>\n    </tr>\n  </thead>\n  <tbody>\n    <tr>\n      <th>bitcount</th>\n      <td>False</td>\n      <td>[]</td>\n      <td>True</td>\n    </tr>\n    <tr>\n      <th>breadth_first_search</th>\n      <td>False</td>\n      <td>[2]</td>\n      <td>False</td>\n    </tr>\n    <tr>\n      <th>bucketsort</th>\n      <td>False</td>\n      <td>[]</td>\n      <td>True</td>\n    </tr>\n    <tr>\n      <th>depth_first_search</th>\n      <td>False</td>\n      <td>[]</td>\n      <td>True</td>\n    </tr>\n    <tr>\n      <th>detect_cycle</th>\n      <td>False</td>\n      <td>[0, 4]</td>\n      <td>False</td>\n    </tr>\n    <tr>\n      <th>find_first_in_sorted</th>\n      <td>False</td>\n      <td>[1, 2, 4]</td>\n      <td>False</td>\n    </tr>\n    <tr>\n      <th>find_in_sorted</th>\n      <td>False</td>\n      <td>[1, 6]</td>\n      <td>False</td>\n    </tr>\n    <tr>\n      <th>flatten</th>\n      <td>False</td>\n      <td>[]</td>\n      <td>True</td>\n    </tr>\n    <tr>\n      <th>gcd</th>\n      <td>False</td>\n      <td>[]</td>\n      <td>True</td>\n    </tr>\n    <tr>\n      <th>get_factors</th>\n      <td>False</td>\n      <td>[]</td>\n      <td>True</td>\n    </tr>\n    <tr>\n      <th>hanoi</th>\n      <td>False</td>\n      <td>[1, 2, 3, 4, 5, 6, 7]</td>\n      <td>False</td>\n    </tr>\n    <tr>\n      <th>is_valid_parenthesization</th>\n      <td>False</td>\n      <td>[]</td>\n      <td>True</td>\n    </tr>\n    <tr>\n      <th>kheapsort</th>\n      <td>False</td>\n      <td>[]</td>\n      <td>True</td>\n    </tr>\n    <tr>\n      <th>knapsack</th>\n      <td>False</td>\n      <td>[1, 3, 4, 5, 6, 7]</td>\n      <td>False</td>\n    </tr>\n    <tr>\n      <th>kth</th>\n      <td>False</td>\n      <td>[0, 1, 5, 6]</td>\n      <td>False</td>\n    </tr>\n    <tr>\n      <th>lcs_length</th>\n      <td>False</td>\n      <td>[]</td>\n      <td>True</td>\n    </tr>\n    <tr>\n      <th>levenshtein</th>\n      <td>False</td>\n      <td>[0, 1, 2, 4, 6]</td>\n      <td>False</td>\n    </tr>\n    <tr>\n      <th>lis</th>\n      <td>False</td>\n      <td>[8, 9, 10, 11]</td>\n      <td>False</td>\n    </tr>\n    <tr>\n      <th>longest_common_subsequence</th>\n      <td>False</td>\n      <td>[3, 5, 6, 7]</td>\n      <td>False</td>\n    </tr>\n    <tr>\n      <th>max_sublist_sum</th>\n      <td>False</td>\n      <td>[0, 1, 3, 5]</td>\n      <td>False</td>\n    </tr>\n    <tr>\n      <th>mergesort</th>\n      <td>False</td>\n      <td>[1, 2, 3, 4, 5, 6, 7, 8, 9, 10, 11, 12, 13]</td>\n      <td>False</td>\n    </tr>\n    <tr>\n      <th>minimum_spanning_tree</th>\n      <td>False</td>\n      <td>[0, 1, 2]</td>\n      <td>False</td>\n    </tr>\n    <tr>\n      <th>next_palindrome</th>\n      <td>False</td>\n      <td>[0, 1, 2, 3, 4]</td>\n      <td>False</td>\n    </tr>\n    <tr>\n      <th>next_permutation</th>\n      <td>False</td>\n      <td>[0, 1, 2, 3, 4, 5, 6, 7]</td>\n      <td>False</td>\n    </tr>\n    <tr>\n      <th>pascal</th>\n      <td>False</td>\n      <td>[1, 2, 3, 4]</td>\n      <td>False</td>\n    </tr>\n    <tr>\n      <th>possible_change</th>\n      <td>False</td>\n      <td>[1, 2, 3, 4, 5, 6, 7, 8, 9]</td>\n      <td>False</td>\n    </tr>\n    <tr>\n      <th>powerset</th>\n      <td>False</td>\n      <td>[0, 1, 2, 4]</td>\n      <td>False</td>\n    </tr>\n    <tr>\n      <th>quicksort</th>\n      <td>False</td>\n      <td>[1]</td>\n      <td>False</td>\n    </tr>\n    <tr>\n      <th>reverse_linked_list</th>\n      <td>False</td>\n      <td>[]</td>\n      <td>True</td>\n    </tr>\n    <tr>\n      <th>rpn_eval</th>\n      <td>False</td>\n      <td>[0, 2, 5]</td>\n      <td>False</td>\n    </tr>\n    <tr>\n      <th>shortest_path_length</th>\n      <td>False</td>\n      <td>[0, 1]</td>\n      <td>False</td>\n    </tr>\n    <tr>\n      <th>shortest_path_lengths</th>\n      <td>False</td>\n      <td>[0, 1, 2, 3]</td>\n      <td>False</td>\n    </tr>\n    <tr>\n      <th>shortest_paths</th>\n      <td>False</td>\n      <td>[0, 1, 2]</td>\n      <td>False</td>\n    </tr>\n    <tr>\n      <th>shunting_yard</th>\n      <td>False</td>\n      <td>[]</td>\n      <td>True</td>\n    </tr>\n    <tr>\n      <th>sieve</th>\n      <td>False</td>\n      <td>[]</td>\n      <td>True</td>\n    </tr>\n    <tr>\n      <th>sqrt</th>\n      <td>False</td>\n      <td>[0, 2, 3, 4, 5, 6]</td>\n      <td>False</td>\n    </tr>\n    <tr>\n      <th>subsequences</th>\n      <td>False</td>\n      <td>[0, 3, 4, 5, 6, 7, 8, 9, 10, 11]</td>\n      <td>False</td>\n    </tr>\n    <tr>\n      <th>to_base</th>\n      <td>False</td>\n      <td>[]</td>\n      <td>True</td>\n    </tr>\n    <tr>\n      <th>topological_ordering</th>\n      <td>False</td>\n      <td>[0, 1, 2]</td>\n      <td>False</td>\n    </tr>\n    <tr>\n      <th>wrap</th>\n      <td>False</td>\n      <td>[0, 1, 2, 3, 4]</td>\n      <td>False</td>\n    </tr>\n  </tbody>\n</table>\n</div>"
     },
     "execution_count": 9,
     "metadata": {},
     "output_type": "execute_result"
    }
   ],
   "source": [
    "df[df['pass_count'] < 4]\n"
   ],
   "metadata": {
    "collapsed": false,
    "ExecuteTime": {
     "end_time": "2023-12-13T23:28:55.169420Z",
     "start_time": "2023-12-13T23:28:55.161588Z"
    }
   },
   "id": "6154a53e050fa23f"
  },
  {
   "cell_type": "code",
   "execution_count": 10,
   "outputs": [],
   "source": [
    "result_dir = Path('results')\n",
    "result_dir.mkdir(exist_ok=True)\n",
    "\n",
    "df.to_csv(result_dir / f'{model_name}_result.csv')\n",
    "\n"
   ],
   "metadata": {
    "collapsed": false,
    "ExecuteTime": {
     "end_time": "2023-12-13T23:28:55.174019Z",
     "start_time": "2023-12-13T23:28:55.169726Z"
    }
   },
   "id": "ea89d9bb6bc9ed35"
  },
  {
   "cell_type": "code",
   "execution_count": 14,
   "outputs": [
    {
     "data": {
      "text/plain": "                             pass                               fail_test_case\nbitcount                     True                                           []\nbreadth_first_search        False                                          [2]\nbucketsort                   True                                           []\ndepth_first_search           True                                           []\ndetect_cycle                False                                       [0, 4]\nfind_first_in_sorted        False                                    [1, 2, 4]\nfind_in_sorted              False                                       [1, 6]\nflatten                      True                                           []\ngcd                          True                                           []\nget_factors                  True                                           []\nhanoi                       False                        [1, 2, 3, 4, 5, 6, 7]\nis_valid_parenthesization    True                                           []\nkheapsort                    True                                           []\nknapsack                    False                           [1, 3, 4, 5, 6, 7]\nkth                         False                                 [0, 1, 5, 6]\nlcs_length                   True                                           []\nlevenshtein                 False                              [0, 1, 2, 4, 6]\nlis                         False                               [8, 9, 10, 11]\nlongest_common_subsequence  False                                 [3, 5, 6, 7]\nmax_sublist_sum             False                                 [0, 1, 3, 5]\nmergesort                   False  [1, 2, 3, 4, 5, 6, 7, 8, 9, 10, 11, 12, 13]\nminimum_spanning_tree       False                                    [0, 1, 2]\nnext_palindrome             False                                          [4]\nnext_permutation            False                     [0, 1, 2, 3, 4, 5, 6, 7]\npascal                      False                                 [1, 2, 3, 4]\npossible_change             False                  [1, 2, 3, 4, 5, 6, 7, 8, 9]\npowerset                    False                                 [0, 1, 2, 4]\nquicksort                   False                                          [1]\nreverse_linked_list          True                                           []\nrpn_eval                    False                                    [0, 2, 5]\nshortest_path_length        False                                       [0, 1]\nshortest_path_lengths       False                                 [0, 1, 2, 3]\nshortest_paths              False                                    [0, 1, 2]\nshunting_yard                True                                           []\nsieve                        True                                           []\nsqrt                        False                           [0, 2, 3, 4, 5, 6]\nsubsequences                False             [0, 3, 4, 5, 6, 7, 8, 9, 10, 11]\nto_base                      True                                           []\ntopological_ordering        False                                    [0, 1, 2]\nwrap                        False                              [0, 1, 2, 3, 4]",
      "text/html": "<div>\n<style scoped>\n    .dataframe tbody tr th:only-of-type {\n        vertical-align: middle;\n    }\n\n    .dataframe tbody tr th {\n        vertical-align: top;\n    }\n\n    .dataframe thead th {\n        text-align: right;\n    }\n</style>\n<table border=\"1\" class=\"dataframe\">\n  <thead>\n    <tr style=\"text-align: right;\">\n      <th></th>\n      <th>pass</th>\n      <th>fail_test_case</th>\n    </tr>\n  </thead>\n  <tbody>\n    <tr>\n      <th>bitcount</th>\n      <td>True</td>\n      <td>[]</td>\n    </tr>\n    <tr>\n      <th>breadth_first_search</th>\n      <td>False</td>\n      <td>[2]</td>\n    </tr>\n    <tr>\n      <th>bucketsort</th>\n      <td>True</td>\n      <td>[]</td>\n    </tr>\n    <tr>\n      <th>depth_first_search</th>\n      <td>True</td>\n      <td>[]</td>\n    </tr>\n    <tr>\n      <th>detect_cycle</th>\n      <td>False</td>\n      <td>[0, 4]</td>\n    </tr>\n    <tr>\n      <th>find_first_in_sorted</th>\n      <td>False</td>\n      <td>[1, 2, 4]</td>\n    </tr>\n    <tr>\n      <th>find_in_sorted</th>\n      <td>False</td>\n      <td>[1, 6]</td>\n    </tr>\n    <tr>\n      <th>flatten</th>\n      <td>True</td>\n      <td>[]</td>\n    </tr>\n    <tr>\n      <th>gcd</th>\n      <td>True</td>\n      <td>[]</td>\n    </tr>\n    <tr>\n      <th>get_factors</th>\n      <td>True</td>\n      <td>[]</td>\n    </tr>\n    <tr>\n      <th>hanoi</th>\n      <td>False</td>\n      <td>[1, 2, 3, 4, 5, 6, 7]</td>\n    </tr>\n    <tr>\n      <th>is_valid_parenthesization</th>\n      <td>True</td>\n      <td>[]</td>\n    </tr>\n    <tr>\n      <th>kheapsort</th>\n      <td>True</td>\n      <td>[]</td>\n    </tr>\n    <tr>\n      <th>knapsack</th>\n      <td>False</td>\n      <td>[1, 3, 4, 5, 6, 7]</td>\n    </tr>\n    <tr>\n      <th>kth</th>\n      <td>False</td>\n      <td>[0, 1, 5, 6]</td>\n    </tr>\n    <tr>\n      <th>lcs_length</th>\n      <td>True</td>\n      <td>[]</td>\n    </tr>\n    <tr>\n      <th>levenshtein</th>\n      <td>False</td>\n      <td>[0, 1, 2, 4, 6]</td>\n    </tr>\n    <tr>\n      <th>lis</th>\n      <td>False</td>\n      <td>[8, 9, 10, 11]</td>\n    </tr>\n    <tr>\n      <th>longest_common_subsequence</th>\n      <td>False</td>\n      <td>[3, 5, 6, 7]</td>\n    </tr>\n    <tr>\n      <th>max_sublist_sum</th>\n      <td>False</td>\n      <td>[0, 1, 3, 5]</td>\n    </tr>\n    <tr>\n      <th>mergesort</th>\n      <td>False</td>\n      <td>[1, 2, 3, 4, 5, 6, 7, 8, 9, 10, 11, 12, 13]</td>\n    </tr>\n    <tr>\n      <th>minimum_spanning_tree</th>\n      <td>False</td>\n      <td>[0, 1, 2]</td>\n    </tr>\n    <tr>\n      <th>next_palindrome</th>\n      <td>False</td>\n      <td>[4]</td>\n    </tr>\n    <tr>\n      <th>next_permutation</th>\n      <td>False</td>\n      <td>[0, 1, 2, 3, 4, 5, 6, 7]</td>\n    </tr>\n    <tr>\n      <th>pascal</th>\n      <td>False</td>\n      <td>[1, 2, 3, 4]</td>\n    </tr>\n    <tr>\n      <th>possible_change</th>\n      <td>False</td>\n      <td>[1, 2, 3, 4, 5, 6, 7, 8, 9]</td>\n    </tr>\n    <tr>\n      <th>powerset</th>\n      <td>False</td>\n      <td>[0, 1, 2, 4]</td>\n    </tr>\n    <tr>\n      <th>quicksort</th>\n      <td>False</td>\n      <td>[1]</td>\n    </tr>\n    <tr>\n      <th>reverse_linked_list</th>\n      <td>True</td>\n      <td>[]</td>\n    </tr>\n    <tr>\n      <th>rpn_eval</th>\n      <td>False</td>\n      <td>[0, 2, 5]</td>\n    </tr>\n    <tr>\n      <th>shortest_path_length</th>\n      <td>False</td>\n      <td>[0, 1]</td>\n    </tr>\n    <tr>\n      <th>shortest_path_lengths</th>\n      <td>False</td>\n      <td>[0, 1, 2, 3]</td>\n    </tr>\n    <tr>\n      <th>shortest_paths</th>\n      <td>False</td>\n      <td>[0, 1, 2]</td>\n    </tr>\n    <tr>\n      <th>shunting_yard</th>\n      <td>True</td>\n      <td>[]</td>\n    </tr>\n    <tr>\n      <th>sieve</th>\n      <td>True</td>\n      <td>[]</td>\n    </tr>\n    <tr>\n      <th>sqrt</th>\n      <td>False</td>\n      <td>[0, 2, 3, 4, 5, 6]</td>\n    </tr>\n    <tr>\n      <th>subsequences</th>\n      <td>False</td>\n      <td>[0, 3, 4, 5, 6, 7, 8, 9, 10, 11]</td>\n    </tr>\n    <tr>\n      <th>to_base</th>\n      <td>True</td>\n      <td>[]</td>\n    </tr>\n    <tr>\n      <th>topological_ordering</th>\n      <td>False</td>\n      <td>[0, 1, 2]</td>\n    </tr>\n    <tr>\n      <th>wrap</th>\n      <td>False</td>\n      <td>[0, 1, 2, 3, 4]</td>\n    </tr>\n  </tbody>\n</table>\n</div>"
     },
     "execution_count": 14,
     "metadata": {},
     "output_type": "execute_result"
    }
   ],
   "source": [
    "pd.read_csv('results/palm_1_result.csv', index_col=0)\n"
   ],
   "metadata": {
    "collapsed": false,
    "ExecuteTime": {
     "end_time": "2023-12-13T23:36:03.580058Z",
     "start_time": "2023-12-13T23:36:03.557286Z"
    }
   },
   "id": "39c35f3b9b10d26f"
  },
  {
   "cell_type": "code",
   "execution_count": 13,
   "outputs": [
    {
     "data": {
      "text/plain": "                             pass                               fail_test_case\nbitcount                     True                                           []\nbreadth_first_search        False                                          [2]\nbucketsort                   True                                           []\ndepth_first_search           True                                           []\ndetect_cycle                False                                          [3]\nfind_first_in_sorted        False                                    [1, 2, 4]\nfind_in_sorted              False                                       [1, 6]\nflatten                      True                                           []\ngcd                          True                                           []\nget_factors                  True                                           []\nhanoi                       False                        [1, 2, 3, 4, 5, 6, 7]\nis_valid_parenthesization    True                                           []\nkheapsort                   False                                    [1, 2, 3]\nknapsack                    False                           [1, 3, 4, 5, 6, 7]\nkth                         False                                 [0, 1, 5, 6]\nlcs_length                   True                                           []\nlevenshtein                 False                              [0, 1, 2, 4, 6]\nlis                         False                               [8, 9, 10, 11]\nlongest_common_subsequence  False                                 [3, 5, 6, 7]\nmax_sublist_sum             False                                 [0, 1, 3, 5]\nmergesort                   False  [1, 2, 3, 4, 5, 6, 7, 8, 9, 10, 11, 12, 13]\nminimum_spanning_tree       False                                    [0, 1, 2]\nnext_palindrome             False                                          [4]\nnext_permutation            False                     [0, 1, 2, 3, 4, 5, 6, 7]\npascal                      False                                 [1, 2, 3, 4]\npossible_change             False                  [1, 2, 3, 4, 5, 6, 7, 8, 9]\npowerset                    False                                 [0, 1, 2, 4]\nquicksort                   False                                          [1]\nreverse_linked_list         False                                       [0, 1]\nrpn_eval                    False                                    [0, 2, 5]\nshortest_path_length        False                                       [0, 1]\nshortest_path_lengths       False                                 [0, 1, 2, 3]\nshortest_paths              False                                    [0, 1, 2]\nshunting_yard                True                                           []\nsieve                        True                                           []\nsqrt                        False                           [0, 2, 3, 4, 5, 6]\nsubsequences                False             [0, 3, 4, 5, 6, 7, 8, 9, 10, 11]\nto_base                      True                                           []\ntopological_ordering        False                                    [0, 1, 2]\nwrap                        False                              [0, 1, 2, 3, 4]",
      "text/html": "<div>\n<style scoped>\n    .dataframe tbody tr th:only-of-type {\n        vertical-align: middle;\n    }\n\n    .dataframe tbody tr th {\n        vertical-align: top;\n    }\n\n    .dataframe thead th {\n        text-align: right;\n    }\n</style>\n<table border=\"1\" class=\"dataframe\">\n  <thead>\n    <tr style=\"text-align: right;\">\n      <th></th>\n      <th>pass</th>\n      <th>fail_test_case</th>\n    </tr>\n  </thead>\n  <tbody>\n    <tr>\n      <th>bitcount</th>\n      <td>True</td>\n      <td>[]</td>\n    </tr>\n    <tr>\n      <th>breadth_first_search</th>\n      <td>False</td>\n      <td>[2]</td>\n    </tr>\n    <tr>\n      <th>bucketsort</th>\n      <td>True</td>\n      <td>[]</td>\n    </tr>\n    <tr>\n      <th>depth_first_search</th>\n      <td>True</td>\n      <td>[]</td>\n    </tr>\n    <tr>\n      <th>detect_cycle</th>\n      <td>False</td>\n      <td>[3]</td>\n    </tr>\n    <tr>\n      <th>find_first_in_sorted</th>\n      <td>False</td>\n      <td>[1, 2, 4]</td>\n    </tr>\n    <tr>\n      <th>find_in_sorted</th>\n      <td>False</td>\n      <td>[1, 6]</td>\n    </tr>\n    <tr>\n      <th>flatten</th>\n      <td>True</td>\n      <td>[]</td>\n    </tr>\n    <tr>\n      <th>gcd</th>\n      <td>True</td>\n      <td>[]</td>\n    </tr>\n    <tr>\n      <th>get_factors</th>\n      <td>True</td>\n      <td>[]</td>\n    </tr>\n    <tr>\n      <th>hanoi</th>\n      <td>False</td>\n      <td>[1, 2, 3, 4, 5, 6, 7]</td>\n    </tr>\n    <tr>\n      <th>is_valid_parenthesization</th>\n      <td>True</td>\n      <td>[]</td>\n    </tr>\n    <tr>\n      <th>kheapsort</th>\n      <td>False</td>\n      <td>[1, 2, 3]</td>\n    </tr>\n    <tr>\n      <th>knapsack</th>\n      <td>False</td>\n      <td>[1, 3, 4, 5, 6, 7]</td>\n    </tr>\n    <tr>\n      <th>kth</th>\n      <td>False</td>\n      <td>[0, 1, 5, 6]</td>\n    </tr>\n    <tr>\n      <th>lcs_length</th>\n      <td>True</td>\n      <td>[]</td>\n    </tr>\n    <tr>\n      <th>levenshtein</th>\n      <td>False</td>\n      <td>[0, 1, 2, 4, 6]</td>\n    </tr>\n    <tr>\n      <th>lis</th>\n      <td>False</td>\n      <td>[8, 9, 10, 11]</td>\n    </tr>\n    <tr>\n      <th>longest_common_subsequence</th>\n      <td>False</td>\n      <td>[3, 5, 6, 7]</td>\n    </tr>\n    <tr>\n      <th>max_sublist_sum</th>\n      <td>False</td>\n      <td>[0, 1, 3, 5]</td>\n    </tr>\n    <tr>\n      <th>mergesort</th>\n      <td>False</td>\n      <td>[1, 2, 3, 4, 5, 6, 7, 8, 9, 10, 11, 12, 13]</td>\n    </tr>\n    <tr>\n      <th>minimum_spanning_tree</th>\n      <td>False</td>\n      <td>[0, 1, 2]</td>\n    </tr>\n    <tr>\n      <th>next_palindrome</th>\n      <td>False</td>\n      <td>[4]</td>\n    </tr>\n    <tr>\n      <th>next_permutation</th>\n      <td>False</td>\n      <td>[0, 1, 2, 3, 4, 5, 6, 7]</td>\n    </tr>\n    <tr>\n      <th>pascal</th>\n      <td>False</td>\n      <td>[1, 2, 3, 4]</td>\n    </tr>\n    <tr>\n      <th>possible_change</th>\n      <td>False</td>\n      <td>[1, 2, 3, 4, 5, 6, 7, 8, 9]</td>\n    </tr>\n    <tr>\n      <th>powerset</th>\n      <td>False</td>\n      <td>[0, 1, 2, 4]</td>\n    </tr>\n    <tr>\n      <th>quicksort</th>\n      <td>False</td>\n      <td>[1]</td>\n    </tr>\n    <tr>\n      <th>reverse_linked_list</th>\n      <td>False</td>\n      <td>[0, 1]</td>\n    </tr>\n    <tr>\n      <th>rpn_eval</th>\n      <td>False</td>\n      <td>[0, 2, 5]</td>\n    </tr>\n    <tr>\n      <th>shortest_path_length</th>\n      <td>False</td>\n      <td>[0, 1]</td>\n    </tr>\n    <tr>\n      <th>shortest_path_lengths</th>\n      <td>False</td>\n      <td>[0, 1, 2, 3]</td>\n    </tr>\n    <tr>\n      <th>shortest_paths</th>\n      <td>False</td>\n      <td>[0, 1, 2]</td>\n    </tr>\n    <tr>\n      <th>shunting_yard</th>\n      <td>True</td>\n      <td>[]</td>\n    </tr>\n    <tr>\n      <th>sieve</th>\n      <td>True</td>\n      <td>[]</td>\n    </tr>\n    <tr>\n      <th>sqrt</th>\n      <td>False</td>\n      <td>[0, 2, 3, 4, 5, 6]</td>\n    </tr>\n    <tr>\n      <th>subsequences</th>\n      <td>False</td>\n      <td>[0, 3, 4, 5, 6, 7, 8, 9, 10, 11]</td>\n    </tr>\n    <tr>\n      <th>to_base</th>\n      <td>True</td>\n      <td>[]</td>\n    </tr>\n    <tr>\n      <th>topological_ordering</th>\n      <td>False</td>\n      <td>[0, 1, 2]</td>\n    </tr>\n    <tr>\n      <th>wrap</th>\n      <td>False</td>\n      <td>[0, 1, 2, 3, 4]</td>\n    </tr>\n  </tbody>\n</table>\n</div>"
     },
     "execution_count": 13,
     "metadata": {},
     "output_type": "execute_result"
    }
   ],
   "source": [
    "pd.read_csv('results/palm_2_result.csv', index_col=0)\n"
   ],
   "metadata": {
    "collapsed": false,
    "ExecuteTime": {
     "end_time": "2023-12-13T23:34:57.057536Z",
     "start_time": "2023-12-13T23:34:57.048404Z"
    }
   },
   "id": "d130537f13b7b717"
  }
 ],
 "metadata": {
  "kernelspec": {
   "display_name": "Python 3",
   "language": "python",
   "name": "python3"
  },
  "language_info": {
   "codemirror_mode": {
    "name": "ipython",
    "version": 2
   },
   "file_extension": ".py",
   "mimetype": "text/x-python",
   "name": "python",
   "nbconvert_exporter": "python",
   "pygments_lexer": "ipython2",
   "version": "2.7.6"
  }
 },
 "nbformat": 4,
 "nbformat_minor": 5
}
