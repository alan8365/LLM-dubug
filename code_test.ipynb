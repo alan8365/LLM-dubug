{
 "cells": [
  {
   "cell_type": "code",
   "execution_count": 3,
   "id": "initial_id",
   "metadata": {
    "collapsed": true,
    "ExecuteTime": {
     "end_time": "2023-11-24T07:45:54.305516Z",
     "start_time": "2023-11-24T07:45:33.067192Z"
    }
   },
   "outputs": [
    {
     "name": "stdout",
     "output_type": "stream",
     "text": [
      "\u001B[1m============================= test session starts ==============================\u001B[0m\n",
      "platform darwin -- Python 3.9.6, pytest-7.4.3, pluggy-1.3.0\n",
      "rootdir: /Users/lucyxu/PycharmProjects/debug\n",
      "plugins: anyio-3.7.1\n",
      "collected 278 items\n",
      "\n",
      "datasets/QuixBugs/python_testcases/test_bitcount.py \n",
      "\n",
      "!!!!!!!!!!!!!!!!!!!!!!!!!!!!!! KeyboardInterrupt !!!!!!!!!!!!!!!!!!!!!!!!!!!!!!!\n",
      "\u001B[1m\u001B[31m/Users/lucyxu/PycharmProjects/debug/datasets/QuixBugs/python_programs/bitcount.py\u001B[0m:5: KeyboardInterrupt\n",
      "\u001B[33m(to show a full traceback on KeyboardInterrupt use --full-trace)\u001B[0m\n",
      "\u001B[32m============================ \u001B[33mno tests ran\u001B[0m\u001B[32m in 21.18s\u001B[0m\u001B[32m ============================\u001B[0m\n"
     ]
    },
    {
     "data": {
      "text/plain": "<ExitCode.INTERRUPTED: 2>"
     },
     "execution_count": 3,
     "metadata": {},
     "output_type": "execute_result"
    }
   ],
   "source": [
    "import pytest\n",
    "from pathlib import Path\n",
    "\n",
    "root_path = Path('/Users/lucyxu/PycharmProjects/debug/')\n",
    "\n",
    "target_path = root_path / 'datasets' / 'QuixBugs' / 'python_testcases'\n",
    "\n",
    "pytest.main(['--correct', str(target_path)])\n",
    "\n"
   ]
  }
 ],
 "metadata": {
  "kernelspec": {
   "display_name": "Python 3",
   "language": "python",
   "name": "python3"
  },
  "language_info": {
   "codemirror_mode": {
    "name": "ipython",
    "version": 2
   },
   "file_extension": ".py",
   "mimetype": "text/x-python",
   "name": "python",
   "nbconvert_exporter": "python",
   "pygments_lexer": "ipython2",
   "version": "2.7.6"
  }
 },
 "nbformat": 4,
 "nbformat_minor": 5
}
