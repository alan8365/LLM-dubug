{
 "cells": [
  {
   "cell_type": "code",
   "execution_count": 13,
   "id": "initial_id",
   "metadata": {
    "collapsed": true,
    "ExecuteTime": {
     "end_time": "2023-12-06T10:27:57.170811Z",
     "start_time": "2023-12-06T10:27:57.149487Z"
    }
   },
   "outputs": [
    {
     "data": {
      "text/plain": "[PosixPath('../generated_code/palm/bitcount/bitcount_1.txt'),\n PosixPath('../generated_code/palm/bitcount/bitcount_2.txt'),\n PosixPath('../generated_code/palm/bitcount/bitcount_3.txt'),\n PosixPath('../generated_code/palm/bitcount/bitcount_4.txt'),\n PosixPath('../generated_code/palm/breadth_first_search/breadth_first_search_1.txt'),\n PosixPath('../generated_code/palm/breadth_first_search/breadth_first_search_2.txt'),\n PosixPath('../generated_code/palm/breadth_first_search/breadth_first_search_3.txt'),\n PosixPath('../generated_code/palm/breadth_first_search/breadth_first_search_4.txt'),\n PosixPath('../generated_code/palm/bucketsort/bucketsort_1.txt'),\n PosixPath('../generated_code/palm/bucketsort/bucketsort_2.txt'),\n PosixPath('../generated_code/palm/bucketsort/bucketsort_3.txt'),\n PosixPath('../generated_code/palm/bucketsort/bucketsort_4.txt'),\n PosixPath('../generated_code/palm/depth_first_search/depth_first_search_1.txt'),\n PosixPath('../generated_code/palm/depth_first_search/depth_first_search_2.txt'),\n PosixPath('../generated_code/palm/depth_first_search/depth_first_search_3.txt'),\n PosixPath('../generated_code/palm/depth_first_search/depth_first_search_4.txt'),\n PosixPath('../generated_code/palm/detect_cycle/detect_cycle_1.txt'),\n PosixPath('../generated_code/palm/detect_cycle/detect_cycle_2.txt'),\n PosixPath('../generated_code/palm/detect_cycle/detect_cycle_3.txt'),\n PosixPath('../generated_code/palm/detect_cycle/detect_cycle_4.txt'),\n PosixPath('../generated_code/palm/find_first_in_sorted/find_first_in_sorted_1.txt'),\n PosixPath('../generated_code/palm/find_first_in_sorted/find_first_in_sorted_2.txt'),\n PosixPath('../generated_code/palm/find_first_in_sorted/find_first_in_sorted_3.txt'),\n PosixPath('../generated_code/palm/find_first_in_sorted/find_first_in_sorted_4.txt'),\n PosixPath('../generated_code/palm/find_in_sorted/find_in_sorted_1.txt'),\n PosixPath('../generated_code/palm/find_in_sorted/find_in_sorted_2.txt'),\n PosixPath('../generated_code/palm/find_in_sorted/find_in_sorted_3.txt'),\n PosixPath('../generated_code/palm/find_in_sorted/find_in_sorted_4.txt'),\n PosixPath('../generated_code/palm/flatten/flatten_1.txt'),\n PosixPath('../generated_code/palm/flatten/flatten_2.txt'),\n PosixPath('../generated_code/palm/flatten/flatten_3.txt'),\n PosixPath('../generated_code/palm/flatten/flatten_4.txt'),\n PosixPath('../generated_code/palm/gcd/gcd_1.txt'),\n PosixPath('../generated_code/palm/gcd/gcd_2.txt'),\n PosixPath('../generated_code/palm/gcd/gcd_3.txt'),\n PosixPath('../generated_code/palm/gcd/gcd_4.txt'),\n PosixPath('../generated_code/palm/get_factors/get_factors_1.txt'),\n PosixPath('../generated_code/palm/get_factors/get_factors_2.txt'),\n PosixPath('../generated_code/palm/get_factors/get_factors_3.txt'),\n PosixPath('../generated_code/palm/get_factors/get_factors_4.txt'),\n PosixPath('../generated_code/palm/hanoi/hanoi_1.txt'),\n PosixPath('../generated_code/palm/hanoi/hanoi_2.txt'),\n PosixPath('../generated_code/palm/hanoi/hanoi_3.txt'),\n PosixPath('../generated_code/palm/hanoi/hanoi_4.txt'),\n PosixPath('../generated_code/palm/is_valid_parenthesization/is_valid_parenthesization_1.txt'),\n PosixPath('../generated_code/palm/is_valid_parenthesization/is_valid_parenthesization_2.txt'),\n PosixPath('../generated_code/palm/is_valid_parenthesization/is_valid_parenthesization_3.txt'),\n PosixPath('../generated_code/palm/is_valid_parenthesization/is_valid_parenthesization_4.txt'),\n PosixPath('../generated_code/palm/kheapsort/kheapsort_1.txt'),\n PosixPath('../generated_code/palm/kheapsort/kheapsort_2.txt'),\n PosixPath('../generated_code/palm/kheapsort/kheapsort_3.txt'),\n PosixPath('../generated_code/palm/kheapsort/kheapsort_4.txt'),\n PosixPath('../generated_code/palm/knapsack/knapsack_1.txt'),\n PosixPath('../generated_code/palm/knapsack/knapsack_2.txt'),\n PosixPath('../generated_code/palm/knapsack/knapsack_3.txt'),\n PosixPath('../generated_code/palm/knapsack/knapsack_4.txt'),\n PosixPath('../generated_code/palm/kth/kth_1.txt'),\n PosixPath('../generated_code/palm/kth/kth_2.txt'),\n PosixPath('../generated_code/palm/kth/kth_3.txt'),\n PosixPath('../generated_code/palm/kth/kth_4.txt'),\n PosixPath('../generated_code/palm/lcs_length/lcs_length_1.txt'),\n PosixPath('../generated_code/palm/lcs_length/lcs_length_2.txt'),\n PosixPath('../generated_code/palm/lcs_length/lcs_length_3.txt'),\n PosixPath('../generated_code/palm/lcs_length/lcs_length_4.txt'),\n PosixPath('../generated_code/palm/levenshtein/levenshtein_1.txt'),\n PosixPath('../generated_code/palm/levenshtein/levenshtein_2.txt'),\n PosixPath('../generated_code/palm/levenshtein/levenshtein_3.txt'),\n PosixPath('../generated_code/palm/levenshtein/levenshtein_4.txt'),\n PosixPath('../generated_code/palm/lis/lis_1.txt'),\n PosixPath('../generated_code/palm/lis/lis_2.txt'),\n PosixPath('../generated_code/palm/lis/lis_3.txt'),\n PosixPath('../generated_code/palm/lis/lis_4.txt'),\n PosixPath('../generated_code/palm/longest_common_subsequence/longest_common_subsequence_1.txt'),\n PosixPath('../generated_code/palm/longest_common_subsequence/longest_common_subsequence_2.txt'),\n PosixPath('../generated_code/palm/longest_common_subsequence/longest_common_subsequence_3.txt'),\n PosixPath('../generated_code/palm/longest_common_subsequence/longest_common_subsequence_4.txt'),\n PosixPath('../generated_code/palm/max_sublist_sum/max_sublist_sum_1.txt'),\n PosixPath('../generated_code/palm/max_sublist_sum/max_sublist_sum_2.txt'),\n PosixPath('../generated_code/palm/max_sublist_sum/max_sublist_sum_3.txt'),\n PosixPath('../generated_code/palm/max_sublist_sum/max_sublist_sum_4.txt'),\n PosixPath('../generated_code/palm/mergesort/mergesort_1.txt'),\n PosixPath('../generated_code/palm/mergesort/mergesort_2.txt'),\n PosixPath('../generated_code/palm/mergesort/mergesort_3.txt'),\n PosixPath('../generated_code/palm/mergesort/mergesort_4.txt'),\n PosixPath('../generated_code/palm/minimum_spanning_tree/minimum_spanning_tree_1.txt'),\n PosixPath('../generated_code/palm/minimum_spanning_tree/minimum_spanning_tree_2.txt'),\n PosixPath('../generated_code/palm/minimum_spanning_tree/minimum_spanning_tree_3.txt'),\n PosixPath('../generated_code/palm/minimum_spanning_tree/minimum_spanning_tree_4.txt'),\n PosixPath('../generated_code/palm/next_palindrome/next_palindrome_1.txt'),\n PosixPath('../generated_code/palm/next_palindrome/next_palindrome_2.txt'),\n PosixPath('../generated_code/palm/next_palindrome/next_palindrome_3.txt'),\n PosixPath('../generated_code/palm/next_palindrome/next_palindrome_4.txt'),\n PosixPath('../generated_code/palm/next_permutation/next_permutation_1.txt'),\n PosixPath('../generated_code/palm/next_permutation/next_permutation_2.txt'),\n PosixPath('../generated_code/palm/next_permutation/next_permutation_3.txt'),\n PosixPath('../generated_code/palm/next_permutation/next_permutation_4.txt'),\n PosixPath('../generated_code/palm/pascal/pascal_1.txt'),\n PosixPath('../generated_code/palm/pascal/pascal_2.txt'),\n PosixPath('../generated_code/palm/pascal/pascal_3.txt'),\n PosixPath('../generated_code/palm/pascal/pascal_4.txt'),\n PosixPath('../generated_code/palm/possible_change/possible_change_1.txt'),\n PosixPath('../generated_code/palm/possible_change/possible_change_2.txt'),\n PosixPath('../generated_code/palm/possible_change/possible_change_3.txt'),\n PosixPath('../generated_code/palm/possible_change/possible_change_4.txt'),\n PosixPath('../generated_code/palm/powerset/powerset_1.txt'),\n PosixPath('../generated_code/palm/powerset/powerset_2.txt'),\n PosixPath('../generated_code/palm/powerset/powerset_3.txt'),\n PosixPath('../generated_code/palm/powerset/powerset_4.txt'),\n PosixPath('../generated_code/palm/quicksort/quicksort_1.txt'),\n PosixPath('../generated_code/palm/quicksort/quicksort_2.txt'),\n PosixPath('../generated_code/palm/quicksort/quicksort_3.txt'),\n PosixPath('../generated_code/palm/quicksort/quicksort_4.txt'),\n PosixPath('../generated_code/palm/reverse_linked_list/reverse_linked_list_1.txt'),\n PosixPath('../generated_code/palm/reverse_linked_list/reverse_linked_list_2.txt'),\n PosixPath('../generated_code/palm/reverse_linked_list/reverse_linked_list_3.txt'),\n PosixPath('../generated_code/palm/reverse_linked_list/reverse_linked_list_4.txt'),\n PosixPath('../generated_code/palm/rpn_eval/rpn_eval_1.txt'),\n PosixPath('../generated_code/palm/rpn_eval/rpn_eval_2.txt'),\n PosixPath('../generated_code/palm/rpn_eval/rpn_eval_3.txt'),\n PosixPath('../generated_code/palm/rpn_eval/rpn_eval_4.txt'),\n PosixPath('../generated_code/palm/shortest_path_length/shortest_path_length_1.txt'),\n PosixPath('../generated_code/palm/shortest_path_length/shortest_path_length_2.txt'),\n PosixPath('../generated_code/palm/shortest_path_length/shortest_path_length_3.txt'),\n PosixPath('../generated_code/palm/shortest_path_length/shortest_path_length_4.txt'),\n PosixPath('../generated_code/palm/shortest_path_lengths/shortest_path_lengths_1.txt'),\n PosixPath('../generated_code/palm/shortest_path_lengths/shortest_path_lengths_2.txt'),\n PosixPath('../generated_code/palm/shortest_path_lengths/shortest_path_lengths_3.txt'),\n PosixPath('../generated_code/palm/shortest_path_lengths/shortest_path_lengths_4.txt'),\n PosixPath('../generated_code/palm/shortest_paths/shortest_paths_1.txt'),\n PosixPath('../generated_code/palm/shortest_paths/shortest_paths_2.txt'),\n PosixPath('../generated_code/palm/shortest_paths/shortest_paths_3.txt'),\n PosixPath('../generated_code/palm/shortest_paths/shortest_paths_4.txt'),\n PosixPath('../generated_code/palm/shunting_yard/shunting_yard_1.txt'),\n PosixPath('../generated_code/palm/shunting_yard/shunting_yard_2.txt'),\n PosixPath('../generated_code/palm/shunting_yard/shunting_yard_3.txt'),\n PosixPath('../generated_code/palm/shunting_yard/shunting_yard_4.txt'),\n PosixPath('../generated_code/palm/sieve/sieve_1.txt'),\n PosixPath('../generated_code/palm/sieve/sieve_2.txt'),\n PosixPath('../generated_code/palm/sieve/sieve_3.txt'),\n PosixPath('../generated_code/palm/sieve/sieve_4.txt'),\n PosixPath('../generated_code/palm/sqrt/sqrt_1.txt'),\n PosixPath('../generated_code/palm/sqrt/sqrt_2.txt'),\n PosixPath('../generated_code/palm/sqrt/sqrt_3.txt'),\n PosixPath('../generated_code/palm/sqrt/sqrt_4.txt'),\n PosixPath('../generated_code/palm/subsequences/subsequences_1.txt'),\n PosixPath('../generated_code/palm/subsequences/subsequences_2.txt'),\n PosixPath('../generated_code/palm/subsequences/subsequences_3.txt'),\n PosixPath('../generated_code/palm/subsequences/subsequences_4.txt'),\n PosixPath('../generated_code/palm/to_base/to_base_1.txt'),\n PosixPath('../generated_code/palm/to_base/to_base_2.txt'),\n PosixPath('../generated_code/palm/to_base/to_base_3.txt'),\n PosixPath('../generated_code/palm/to_base/to_base_4.txt'),\n PosixPath('../generated_code/palm/topological_ordering/topological_ordering_1.txt'),\n PosixPath('../generated_code/palm/topological_ordering/topological_ordering_2.txt'),\n PosixPath('../generated_code/palm/topological_ordering/topological_ordering_3.txt'),\n PosixPath('../generated_code/palm/topological_ordering/topological_ordering_4.txt'),\n PosixPath('../generated_code/palm/wrap/wrap_1.txt'),\n PosixPath('../generated_code/palm/wrap/wrap_2.txt'),\n PosixPath('../generated_code/palm/wrap/wrap_3.txt'),\n PosixPath('../generated_code/palm/wrap/wrap_4.txt')]"
     },
     "execution_count": 13,
     "metadata": {},
     "output_type": "execute_result"
    }
   ],
   "source": [
    "\n",
    "import re\n",
    "from pathlib import Path\n",
    "\n",
    "generated_code_path = Path('../generated_code') / 'palm'\n",
    "\n",
    "all_file = generated_code_path.glob('**/*.txt')\n",
    "all_file = [x for x in all_file if re.match('.*_\\d\\.txt', str(x))]\n",
    "all_file = sorted(all_file, key=lambda x: x.name)\n",
    "\n",
    "all_file\n"
   ]
  },
  {
   "cell_type": "code",
   "execution_count": 36,
   "outputs": [
    {
     "data": {
      "text/plain": "'```\\ndef max_sublist_sum(arr):\\n    max_ending_here = 0\\n    max_so_far = 0\\n\\n    for x in arr:\\n        max_ending_here = max_ending_here + x\\n        max_so_far = max(max_so_far, max_ending_here)\\n\\n    return max_so_far\\n```'"
     },
     "execution_count": 36,
     "metadata": {},
     "output_type": "execute_result"
    }
   ],
   "source": [
    "def extract_python_code(md_txt):\n",
    "    def_pattern = re.compile(r'def .*?\\(.*?\\):')\n",
    "    def_line = def_pattern.findall(md_txt)[0]\n",
    "    def_index = md_txt.index(def_line)\n",
    "\n",
    "    splitted_code = md_txt[def_index:].split(\"\\n\")\n",
    "\n",
    "    last_index = len(splitted_code) + def_index\n",
    "\n",
    "    flag = 1  # 0: not in def block, 1: in def block, 2: end\n",
    "    indent = '    '\n",
    "    for i, line in enumerate(splitted_code):\n",
    "        if line.strip() == '':\n",
    "            continue\n",
    "        if flag == 2:\n",
    "            break\n",
    "\n",
    "        i = i + def_index\n",
    "\n",
    "        if line.startswith(indent) or line.startswith('def'):\n",
    "            last_index = i\n",
    "        else:\n",
    "            flag = 2\n",
    "\n",
    "    splitted_code = md_txt.split(\"\\n\")\n",
    "\n",
    "    def_block = '\\n'.join(splitted_code[:last_index + 1])\n",
    "\n",
    "    return def_block\n",
    "\n",
    "\n",
    "with open(all_file[79], 'r') as f:\n",
    "    origin_content = f.read()\n",
    "\n",
    "md_python_pattern = re.compile(r'```(python)?\\n(.*)\\n```', re.MULTILINE | re.DOTALL)\n",
    "\n",
    "md_python_pattern.match(origin_content).group(0)\n",
    "\n"
   ],
   "metadata": {
    "collapsed": false,
    "ExecuteTime": {
     "end_time": "2023-12-06T10:51:45.564681Z",
     "start_time": "2023-12-06T10:51:45.555534Z"
    }
   },
   "id": "744e1d95ee2e5556"
  },
  {
   "cell_type": "code",
   "execution_count": 39,
   "outputs": [
    {
     "name": "stdout",
     "output_type": "stream",
     "text": [
      "../generated_code/palm/bitcount/bitcount_1.txt\n",
      "../generated_code/palm/bitcount/bitcount_2.txt\n",
      "../generated_code/palm/bitcount/bitcount_3.txt\n",
      "../generated_code/palm/bitcount/bitcount_4.txt\n",
      "../generated_code/palm/breadth_first_search/breadth_first_search_1.txt\n",
      "../generated_code/palm/breadth_first_search/breadth_first_search_2.txt\n",
      "../generated_code/palm/breadth_first_search/breadth_first_search_3.txt\n",
      "../generated_code/palm/breadth_first_search/breadth_first_search_4.txt\n",
      "../generated_code/palm/bucketsort/bucketsort_1.txt\n",
      "../generated_code/palm/bucketsort/bucketsort_2.txt\n",
      "../generated_code/palm/bucketsort/bucketsort_3.txt\n",
      "../generated_code/palm/bucketsort/bucketsort_4.txt\n",
      "../generated_code/palm/depth_first_search/depth_first_search_1.txt\n",
      "../generated_code/palm/depth_first_search/depth_first_search_2.txt\n",
      "../generated_code/palm/depth_first_search/depth_first_search_3.txt\n",
      "../generated_code/palm/depth_first_search/depth_first_search_4.txt\n",
      "../generated_code/palm/detect_cycle/detect_cycle_1.txt\n",
      "../generated_code/palm/detect_cycle/detect_cycle_2.txt\n",
      "../generated_code/palm/detect_cycle/detect_cycle_3.txt\n",
      "../generated_code/palm/detect_cycle/detect_cycle_4.txt\n",
      "../generated_code/palm/find_first_in_sorted/find_first_in_sorted_1.txt\n",
      "../generated_code/palm/find_first_in_sorted/find_first_in_sorted_2.txt\n",
      "../generated_code/palm/find_first_in_sorted/find_first_in_sorted_3.txt\n",
      "../generated_code/palm/find_first_in_sorted/find_first_in_sorted_4.txt\n",
      "../generated_code/palm/find_in_sorted/find_in_sorted_1.txt\n",
      "../generated_code/palm/find_in_sorted/find_in_sorted_2.txt\n",
      "../generated_code/palm/find_in_sorted/find_in_sorted_3.txt\n",
      "../generated_code/palm/find_in_sorted/find_in_sorted_4.txt\n",
      "../generated_code/palm/flatten/flatten_1.txt\n",
      "../generated_code/palm/flatten/flatten_2.txt\n",
      "../generated_code/palm/flatten/flatten_3.txt\n",
      "../generated_code/palm/flatten/flatten_4.txt\n",
      "../generated_code/palm/gcd/gcd_1.txt\n",
      "../generated_code/palm/gcd/gcd_2.txt\n",
      "../generated_code/palm/gcd/gcd_3.txt\n",
      "../generated_code/palm/gcd/gcd_4.txt\n",
      "../generated_code/palm/get_factors/get_factors_1.txt\n",
      "../generated_code/palm/get_factors/get_factors_2.txt\n",
      "../generated_code/palm/get_factors/get_factors_3.txt\n",
      "../generated_code/palm/get_factors/get_factors_4.txt\n",
      "../generated_code/palm/hanoi/hanoi_1.txt\n",
      "../generated_code/palm/hanoi/hanoi_2.txt\n",
      "../generated_code/palm/hanoi/hanoi_3.txt\n",
      "../generated_code/palm/hanoi/hanoi_4.txt\n",
      "../generated_code/palm/is_valid_parenthesization/is_valid_parenthesization_1.txt\n",
      "../generated_code/palm/is_valid_parenthesization/is_valid_parenthesization_2.txt\n",
      "../generated_code/palm/is_valid_parenthesization/is_valid_parenthesization_3.txt\n",
      "../generated_code/palm/is_valid_parenthesization/is_valid_parenthesization_4.txt\n",
      "../generated_code/palm/kheapsort/kheapsort_1.txt\n",
      "../generated_code/palm/kheapsort/kheapsort_2.txt\n",
      "../generated_code/palm/kheapsort/kheapsort_3.txt\n",
      "../generated_code/palm/kheapsort/kheapsort_4.txt\n",
      "../generated_code/palm/knapsack/knapsack_1.txt\n",
      "../generated_code/palm/knapsack/knapsack_2.txt\n",
      "../generated_code/palm/knapsack/knapsack_3.txt\n",
      "../generated_code/palm/knapsack/knapsack_4.txt\n",
      "../generated_code/palm/kth/kth_1.txt\n",
      "../generated_code/palm/kth/kth_2.txt\n",
      "../generated_code/palm/kth/kth_3.txt\n",
      "../generated_code/palm/kth/kth_4.txt\n",
      "../generated_code/palm/lcs_length/lcs_length_1.txt\n",
      "../generated_code/palm/lcs_length/lcs_length_2.txt\n",
      "../generated_code/palm/lcs_length/lcs_length_3.txt\n",
      "../generated_code/palm/lcs_length/lcs_length_4.txt\n",
      "../generated_code/palm/levenshtein/levenshtein_1.txt\n",
      "../generated_code/palm/levenshtein/levenshtein_2.txt\n",
      "../generated_code/palm/levenshtein/levenshtein_3.txt\n",
      "../generated_code/palm/levenshtein/levenshtein_4.txt\n",
      "../generated_code/palm/lis/lis_1.txt\n",
      "../generated_code/palm/lis/lis_2.txt\n",
      "../generated_code/palm/lis/lis_3.txt\n",
      "../generated_code/palm/lis/lis_4.txt\n",
      "../generated_code/palm/longest_common_subsequence/longest_common_subsequence_1.txt\n",
      "../generated_code/palm/longest_common_subsequence/longest_common_subsequence_2.txt\n",
      "../generated_code/palm/longest_common_subsequence/longest_common_subsequence_3.txt\n",
      "../generated_code/palm/longest_common_subsequence/longest_common_subsequence_4.txt\n",
      "../generated_code/palm/max_sublist_sum/max_sublist_sum_1.txt\n",
      "../generated_code/palm/max_sublist_sum/max_sublist_sum_2.txt\n",
      "../generated_code/palm/max_sublist_sum/max_sublist_sum_3.txt\n",
      "../generated_code/palm/max_sublist_sum/max_sublist_sum_4.txt\n",
      "../generated_code/palm/mergesort/mergesort_1.txt\n",
      "../generated_code/palm/mergesort/mergesort_2.txt\n",
      "../generated_code/palm/mergesort/mergesort_3.txt\n",
      "../generated_code/palm/mergesort/mergesort_4.txt\n",
      "../generated_code/palm/minimum_spanning_tree/minimum_spanning_tree_1.txt\n",
      "../generated_code/palm/minimum_spanning_tree/minimum_spanning_tree_2.txt\n",
      "../generated_code/palm/minimum_spanning_tree/minimum_spanning_tree_3.txt\n",
      "../generated_code/palm/minimum_spanning_tree/minimum_spanning_tree_4.txt\n",
      "../generated_code/palm/next_palindrome/next_palindrome_1.txt\n",
      "../generated_code/palm/next_palindrome/next_palindrome_2.txt\n",
      "../generated_code/palm/next_palindrome/next_palindrome_3.txt\n",
      "../generated_code/palm/next_palindrome/next_palindrome_4.txt\n",
      "../generated_code/palm/next_permutation/next_permutation_1.txt\n",
      "../generated_code/palm/next_permutation/next_permutation_2.txt\n",
      "../generated_code/palm/next_permutation/next_permutation_3.txt\n",
      "../generated_code/palm/next_permutation/next_permutation_4.txt\n",
      "../generated_code/palm/pascal/pascal_1.txt\n",
      "../generated_code/palm/pascal/pascal_2.txt\n",
      "../generated_code/palm/pascal/pascal_3.txt\n",
      "../generated_code/palm/pascal/pascal_4.txt\n",
      "../generated_code/palm/possible_change/possible_change_1.txt\n",
      "../generated_code/palm/possible_change/possible_change_2.txt\n",
      "../generated_code/palm/possible_change/possible_change_3.txt\n",
      "../generated_code/palm/possible_change/possible_change_4.txt\n",
      "../generated_code/palm/powerset/powerset_1.txt\n",
      "../generated_code/palm/powerset/powerset_2.txt\n",
      "../generated_code/palm/powerset/powerset_3.txt\n",
      "../generated_code/palm/powerset/powerset_4.txt\n",
      "../generated_code/palm/quicksort/quicksort_1.txt\n",
      "../generated_code/palm/quicksort/quicksort_2.txt\n",
      "../generated_code/palm/quicksort/quicksort_3.txt\n",
      "../generated_code/palm/quicksort/quicksort_4.txt\n",
      "../generated_code/palm/reverse_linked_list/reverse_linked_list_1.txt\n",
      "../generated_code/palm/reverse_linked_list/reverse_linked_list_2.txt\n",
      "../generated_code/palm/reverse_linked_list/reverse_linked_list_3.txt\n",
      "../generated_code/palm/reverse_linked_list/reverse_linked_list_4.txt\n",
      "../generated_code/palm/rpn_eval/rpn_eval_1.txt\n",
      "../generated_code/palm/rpn_eval/rpn_eval_2.txt\n",
      "../generated_code/palm/rpn_eval/rpn_eval_3.txt\n",
      "../generated_code/palm/rpn_eval/rpn_eval_4.txt\n",
      "../generated_code/palm/shortest_path_length/shortest_path_length_1.txt\n",
      "../generated_code/palm/shortest_path_length/shortest_path_length_2.txt\n",
      "../generated_code/palm/shortest_path_length/shortest_path_length_3.txt\n",
      "../generated_code/palm/shortest_path_length/shortest_path_length_4.txt\n",
      "../generated_code/palm/shortest_path_lengths/shortest_path_lengths_1.txt\n",
      "../generated_code/palm/shortest_path_lengths/shortest_path_lengths_2.txt\n",
      "../generated_code/palm/shortest_path_lengths/shortest_path_lengths_3.txt\n",
      "../generated_code/palm/shortest_path_lengths/shortest_path_lengths_4.txt\n",
      "../generated_code/palm/shortest_paths/shortest_paths_1.txt\n",
      "../generated_code/palm/shortest_paths/shortest_paths_2.txt\n",
      "../generated_code/palm/shortest_paths/shortest_paths_3.txt\n",
      "../generated_code/palm/shortest_paths/shortest_paths_4.txt\n",
      "../generated_code/palm/shunting_yard/shunting_yard_1.txt\n",
      "../generated_code/palm/shunting_yard/shunting_yard_2.txt\n",
      "../generated_code/palm/shunting_yard/shunting_yard_3.txt\n",
      "../generated_code/palm/shunting_yard/shunting_yard_4.txt\n",
      "../generated_code/palm/sieve/sieve_1.txt\n",
      "../generated_code/palm/sieve/sieve_2.txt\n",
      "../generated_code/palm/sieve/sieve_3.txt\n",
      "../generated_code/palm/sieve/sieve_4.txt\n",
      "../generated_code/palm/sqrt/sqrt_1.txt\n",
      "../generated_code/palm/sqrt/sqrt_2.txt\n",
      "../generated_code/palm/sqrt/sqrt_3.txt\n",
      "../generated_code/palm/sqrt/sqrt_4.txt\n",
      "../generated_code/palm/subsequences/subsequences_1.txt\n",
      "../generated_code/palm/subsequences/subsequences_2.txt\n",
      "../generated_code/palm/subsequences/subsequences_3.txt\n",
      "../generated_code/palm/subsequences/subsequences_4.txt\n",
      "../generated_code/palm/to_base/to_base_1.txt\n",
      "../generated_code/palm/to_base/to_base_2.txt\n",
      "../generated_code/palm/to_base/to_base_3.txt\n",
      "../generated_code/palm/to_base/to_base_4.txt\n",
      "../generated_code/palm/topological_ordering/topological_ordering_1.txt\n",
      "../generated_code/palm/topological_ordering/topological_ordering_2.txt\n",
      "../generated_code/palm/topological_ordering/topological_ordering_3.txt\n",
      "../generated_code/palm/topological_ordering/topological_ordering_4.txt\n",
      "../generated_code/palm/wrap/wrap_1.txt\n",
      "../generated_code/palm/wrap/wrap_2.txt\n",
      "../generated_code/palm/wrap/wrap_3.txt\n",
      "../generated_code/palm/wrap/wrap_4.txt\n"
     ]
    }
   ],
   "source": [
    "md_python_pattern = re.compile(r'```(python)?\\n(.*)\\n```', re.MULTILINE | re.DOTALL)\n",
    "\n",
    "for index in range(len(all_file)):\n",
    "    file = all_file[index]\n",
    "\n",
    "    with open(file, 'r') as f:\n",
    "        origin_content = f.read()\n",
    "\n",
    "    print(file)\n",
    "    _, cleaned_content = md_python_pattern.match(origin_content).groups()\n",
    "\n",
    "    with open(file.with_suffix('.py'), 'w') as f:\n",
    "        f.write(cleaned_content)\n"
   ],
   "metadata": {
    "collapsed": false,
    "ExecuteTime": {
     "end_time": "2023-12-06T10:52:07.938145Z",
     "start_time": "2023-12-06T10:52:07.898925Z"
    }
   },
   "id": "47433ee08226de1f"
  },
  {
   "cell_type": "code",
   "execution_count": 21,
   "outputs": [
    {
     "data": {
      "text/plain": "PosixPath('generated_code/gpt35/wrap/wrap_4.py')"
     },
     "execution_count": 21,
     "metadata": {},
     "output_type": "execute_result"
    }
   ],
   "source": [
    "\n"
   ],
   "metadata": {
    "collapsed": false,
    "ExecuteTime": {
     "end_time": "2023-12-06T03:11:07.317881Z",
     "start_time": "2023-12-06T03:11:07.309257Z"
    }
   },
   "id": "18b3b60707b40d88"
  }
 ],
 "metadata": {
  "kernelspec": {
   "display_name": "Python 3",
   "language": "python",
   "name": "python3"
  },
  "language_info": {
   "codemirror_mode": {
    "name": "ipython",
    "version": 2
   },
   "file_extension": ".py",
   "mimetype": "text/x-python",
   "name": "python",
   "nbconvert_exporter": "python",
   "pygments_lexer": "ipython2",
   "version": "2.7.6"
  }
 },
 "nbformat": 4,
 "nbformat_minor": 5
}
