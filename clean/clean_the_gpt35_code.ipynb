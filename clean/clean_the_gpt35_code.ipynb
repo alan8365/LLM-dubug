{
 "cells": [
  {
   "cell_type": "code",
   "execution_count": 23,
   "id": "initial_id",
   "metadata": {
    "collapsed": true,
    "ExecuteTime": {
     "end_time": "2023-12-06T03:11:29.826175Z",
     "start_time": "2023-12-06T03:11:29.814365Z"
    }
   },
   "outputs": [
    {
     "name": "stdout",
     "output_type": "stream",
     "text": [
      "[PosixPath('generated_code/gpt35/bitcount/bitcount_1.txt'), PosixPath('generated_code/gpt35/bitcount/bitcount_2.txt'), PosixPath('generated_code/gpt35/bitcount/bitcount_3.txt'), PosixPath('generated_code/gpt35/bitcount/bitcount_4.txt'), PosixPath('generated_code/gpt35/breadth_first_search/breadth_first_search_1.txt'), PosixPath('generated_code/gpt35/breadth_first_search/breadth_first_search_2.txt'), PosixPath('generated_code/gpt35/breadth_first_search/breadth_first_search_3.txt'), PosixPath('generated_code/gpt35/breadth_first_search/breadth_first_search_4.txt'), PosixPath('generated_code/gpt35/bucketsort/bucketsort_1.txt'), PosixPath('generated_code/gpt35/bucketsort/bucketsort_2.txt'), PosixPath('generated_code/gpt35/bucketsort/bucketsort_3.txt'), PosixPath('generated_code/gpt35/bucketsort/bucketsort_4.txt'), PosixPath('generated_code/gpt35/depth_first_search/depth_first_search_1.txt'), PosixPath('generated_code/gpt35/depth_first_search/depth_first_search_2.txt'), PosixPath('generated_code/gpt35/depth_first_search/depth_first_search_3.txt'), PosixPath('generated_code/gpt35/depth_first_search/depth_first_search_4.txt'), PosixPath('generated_code/gpt35/detect_cycle/detect_cycle_1.txt'), PosixPath('generated_code/gpt35/detect_cycle/detect_cycle_2.txt'), PosixPath('generated_code/gpt35/detect_cycle/detect_cycle_3.txt'), PosixPath('generated_code/gpt35/detect_cycle/detect_cycle_4.txt'), PosixPath('generated_code/gpt35/find_first_in_sorted/find_first_in_sorted_1.txt'), PosixPath('generated_code/gpt35/find_first_in_sorted/find_first_in_sorted_2.txt'), PosixPath('generated_code/gpt35/find_first_in_sorted/find_first_in_sorted_3.txt'), PosixPath('generated_code/gpt35/find_first_in_sorted/find_first_in_sorted_4.txt'), PosixPath('generated_code/gpt35/find_in_sorted/find_in_sorted_1.txt'), PosixPath('generated_code/gpt35/find_in_sorted/find_in_sorted_2.txt'), PosixPath('generated_code/gpt35/find_in_sorted/find_in_sorted_3.txt'), PosixPath('generated_code/gpt35/find_in_sorted/find_in_sorted_4.txt'), PosixPath('generated_code/gpt35/flatten/flatten_1.txt'), PosixPath('generated_code/gpt35/flatten/flatten_2.txt'), PosixPath('generated_code/gpt35/flatten/flatten_3.txt'), PosixPath('generated_code/gpt35/flatten/flatten_4.txt'), PosixPath('generated_code/gpt35/gcd/gcd_1.txt'), PosixPath('generated_code/gpt35/gcd/gcd_2.txt'), PosixPath('generated_code/gpt35/gcd/gcd_3.txt'), PosixPath('generated_code/gpt35/gcd/gcd_4.txt'), PosixPath('generated_code/gpt35/get_factors/get_factors_1.txt'), PosixPath('generated_code/gpt35/get_factors/get_factors_2.txt'), PosixPath('generated_code/gpt35/get_factors/get_factors_3.txt'), PosixPath('generated_code/gpt35/get_factors/get_factors_4.txt'), PosixPath('generated_code/gpt35/hanoi/hanoi_1.txt'), PosixPath('generated_code/gpt35/hanoi/hanoi_2.txt'), PosixPath('generated_code/gpt35/hanoi/hanoi_3.txt'), PosixPath('generated_code/gpt35/hanoi/hanoi_4.txt'), PosixPath('generated_code/gpt35/is_valid_parenthesization/is_valid_parenthesization_1.txt'), PosixPath('generated_code/gpt35/is_valid_parenthesization/is_valid_parenthesization_2.txt'), PosixPath('generated_code/gpt35/is_valid_parenthesization/is_valid_parenthesization_3.txt'), PosixPath('generated_code/gpt35/is_valid_parenthesization/is_valid_parenthesization_4.txt'), PosixPath('generated_code/gpt35/kheapsort/kheapsort_1.txt'), PosixPath('generated_code/gpt35/kheapsort/kheapsort_2.txt'), PosixPath('generated_code/gpt35/kheapsort/kheapsort_3.txt'), PosixPath('generated_code/gpt35/kheapsort/kheapsort_4.txt'), PosixPath('generated_code/gpt35/knapsack/knapsack_1.txt'), PosixPath('generated_code/gpt35/knapsack/knapsack_2.txt'), PosixPath('generated_code/gpt35/knapsack/knapsack_3.txt'), PosixPath('generated_code/gpt35/knapsack/knapsack_4.txt'), PosixPath('generated_code/gpt35/kth/kth_1.txt'), PosixPath('generated_code/gpt35/kth/kth_2.txt'), PosixPath('generated_code/gpt35/kth/kth_3.txt'), PosixPath('generated_code/gpt35/kth/kth_4.txt'), PosixPath('generated_code/gpt35/lcs_length/lcs_length_1.txt'), PosixPath('generated_code/gpt35/lcs_length/lcs_length_2.txt'), PosixPath('generated_code/gpt35/lcs_length/lcs_length_3.txt'), PosixPath('generated_code/gpt35/lcs_length/lcs_length_4.txt'), PosixPath('generated_code/gpt35/levenshtein/levenshtein_1.txt'), PosixPath('generated_code/gpt35/levenshtein/levenshtein_2.txt'), PosixPath('generated_code/gpt35/levenshtein/levenshtein_3.txt'), PosixPath('generated_code/gpt35/levenshtein/levenshtein_4.txt'), PosixPath('generated_code/gpt35/lis/lis_1.txt'), PosixPath('generated_code/gpt35/lis/lis_2.txt'), PosixPath('generated_code/gpt35/lis/lis_3.txt'), PosixPath('generated_code/gpt35/lis/lis_4.txt'), PosixPath('generated_code/gpt35/longest_common_subsequence/longest_common_subsequence_1.txt'), PosixPath('generated_code/gpt35/longest_common_subsequence/longest_common_subsequence_2.txt'), PosixPath('generated_code/gpt35/longest_common_subsequence/longest_common_subsequence_3.txt'), PosixPath('generated_code/gpt35/longest_common_subsequence/longest_common_subsequence_4.txt'), PosixPath('generated_code/gpt35/max_sublist_sum/max_sublist_sum_1.txt'), PosixPath('generated_code/gpt35/max_sublist_sum/max_sublist_sum_2.txt'), PosixPath('generated_code/gpt35/max_sublist_sum/max_sublist_sum_3.txt'), PosixPath('generated_code/gpt35/max_sublist_sum/max_sublist_sum_4.txt'), PosixPath('generated_code/gpt35/mergesort/mergesort_1.txt'), PosixPath('generated_code/gpt35/mergesort/mergesort_2.txt'), PosixPath('generated_code/gpt35/mergesort/mergesort_3.txt'), PosixPath('generated_code/gpt35/mergesort/mergesort_4.txt'), PosixPath('generated_code/gpt35/minimum_spanning_tree/minimum_spanning_tree_1.txt'), PosixPath('generated_code/gpt35/minimum_spanning_tree/minimum_spanning_tree_2.txt'), PosixPath('generated_code/gpt35/minimum_spanning_tree/minimum_spanning_tree_3.txt'), PosixPath('generated_code/gpt35/minimum_spanning_tree/minimum_spanning_tree_4.txt'), PosixPath('generated_code/gpt35/next_palindrome/next_palindrome_1.txt'), PosixPath('generated_code/gpt35/next_palindrome/next_palindrome_2.txt'), PosixPath('generated_code/gpt35/next_palindrome/next_palindrome_3.txt'), PosixPath('generated_code/gpt35/next_palindrome/next_palindrome_4.txt'), PosixPath('generated_code/gpt35/next_permutation/next_permutation_1.txt'), PosixPath('generated_code/gpt35/next_permutation/next_permutation_2.txt'), PosixPath('generated_code/gpt35/next_permutation/next_permutation_3.txt'), PosixPath('generated_code/gpt35/next_permutation/next_permutation_4.txt'), PosixPath('generated_code/gpt35/pascal/pascal_1.txt'), PosixPath('generated_code/gpt35/pascal/pascal_2.txt'), PosixPath('generated_code/gpt35/pascal/pascal_3.txt'), PosixPath('generated_code/gpt35/pascal/pascal_4.txt'), PosixPath('generated_code/gpt35/possible_change/possible_change_1.txt'), PosixPath('generated_code/gpt35/possible_change/possible_change_2.txt'), PosixPath('generated_code/gpt35/possible_change/possible_change_3.txt'), PosixPath('generated_code/gpt35/possible_change/possible_change_4.txt'), PosixPath('generated_code/gpt35/powerset/powerset_1.txt'), PosixPath('generated_code/gpt35/powerset/powerset_2.txt'), PosixPath('generated_code/gpt35/powerset/powerset_3.txt'), PosixPath('generated_code/gpt35/powerset/powerset_4.txt'), PosixPath('generated_code/gpt35/quicksort/quicksort_1.txt'), PosixPath('generated_code/gpt35/quicksort/quicksort_2.txt'), PosixPath('generated_code/gpt35/quicksort/quicksort_3.txt'), PosixPath('generated_code/gpt35/quicksort/quicksort_4.txt'), PosixPath('generated_code/gpt35/reverse_linked_list/reverse_linked_list_1.txt'), PosixPath('generated_code/gpt35/reverse_linked_list/reverse_linked_list_2.txt'), PosixPath('generated_code/gpt35/reverse_linked_list/reverse_linked_list_3.txt'), PosixPath('generated_code/gpt35/reverse_linked_list/reverse_linked_list_4.txt'), PosixPath('generated_code/gpt35/rpn_eval/rpn_eval_1.txt'), PosixPath('generated_code/gpt35/rpn_eval/rpn_eval_2.txt'), PosixPath('generated_code/gpt35/rpn_eval/rpn_eval_3.txt'), PosixPath('generated_code/gpt35/rpn_eval/rpn_eval_4.txt'), PosixPath('generated_code/gpt35/shortest_path_length/shortest_path_length_1.txt'), PosixPath('generated_code/gpt35/shortest_path_length/shortest_path_length_2.txt'), PosixPath('generated_code/gpt35/shortest_path_length/shortest_path_length_3.txt'), PosixPath('generated_code/gpt35/shortest_path_length/shortest_path_length_4.txt'), PosixPath('generated_code/gpt35/shortest_path_lengths/shortest_path_lengths_1.txt'), PosixPath('generated_code/gpt35/shortest_path_lengths/shortest_path_lengths_2.txt'), PosixPath('generated_code/gpt35/shortest_path_lengths/shortest_path_lengths_3.txt'), PosixPath('generated_code/gpt35/shortest_path_lengths/shortest_path_lengths_4.txt'), PosixPath('generated_code/gpt35/shortest_paths/shortest_paths_1.txt'), PosixPath('generated_code/gpt35/shortest_paths/shortest_paths_2.txt'), PosixPath('generated_code/gpt35/shortest_paths/shortest_paths_3.txt'), PosixPath('generated_code/gpt35/shortest_paths/shortest_paths_4.txt'), PosixPath('generated_code/gpt35/shunting_yard/shunting_yard_1.txt'), PosixPath('generated_code/gpt35/shunting_yard/shunting_yard_2.txt'), PosixPath('generated_code/gpt35/shunting_yard/shunting_yard_3.txt'), PosixPath('generated_code/gpt35/shunting_yard/shunting_yard_4.txt'), PosixPath('generated_code/gpt35/sieve/sieve_1.txt'), PosixPath('generated_code/gpt35/sieve/sieve_2.txt'), PosixPath('generated_code/gpt35/sieve/sieve_3.txt'), PosixPath('generated_code/gpt35/sieve/sieve_4.txt'), PosixPath('generated_code/gpt35/sqrt/sqrt_1.txt'), PosixPath('generated_code/gpt35/sqrt/sqrt_2.txt'), PosixPath('generated_code/gpt35/sqrt/sqrt_3.txt'), PosixPath('generated_code/gpt35/sqrt/sqrt_4.txt'), PosixPath('generated_code/gpt35/subsequences/subsequences_1.txt'), PosixPath('generated_code/gpt35/subsequences/subsequences_2.txt'), PosixPath('generated_code/gpt35/subsequences/subsequences_3.txt'), PosixPath('generated_code/gpt35/subsequences/subsequences_4.txt'), PosixPath('generated_code/gpt35/to_base/to_base_1.txt'), PosixPath('generated_code/gpt35/to_base/to_base_2.txt'), PosixPath('generated_code/gpt35/to_base/to_base_3.txt'), PosixPath('generated_code/gpt35/to_base/to_base_4.txt'), PosixPath('generated_code/gpt35/topological_ordering/topological_ordering_1.txt'), PosixPath('generated_code/gpt35/topological_ordering/topological_ordering_2.txt'), PosixPath('generated_code/gpt35/topological_ordering/topological_ordering_3.txt'), PosixPath('generated_code/gpt35/topological_ordering/topological_ordering_4.txt'), PosixPath('generated_code/gpt35/wrap/wrap_1.txt'), PosixPath('generated_code/gpt35/wrap/wrap_2.txt'), PosixPath('generated_code/gpt35/wrap/wrap_3.txt'), PosixPath('generated_code/gpt35/wrap/wrap_4.txt')]\n"
     ]
    }
   ],
   "source": [
    "\n",
    "import re\n",
    "from pathlib import Path\n",
    "\n",
    "generated_code_path = Path('../generated_code') / 'gpt35'\n",
    "\n",
    "all_file = generated_code_path.glob('**/*.txt')\n",
    "all_file = [x for x in all_file if re.match('.*_\\d\\.txt', str(x))]\n",
    "all_file = sorted(all_file, key=lambda x: x.name)\n",
    "\n",
    "print(all_file)\n"
   ]
  },
  {
   "cell_type": "code",
   "execution_count": 134,
   "outputs": [
    {
     "name": "stdout",
     "output_type": "stream",
     "text": [
      "def find_in_sorted(arr, x):\n",
      "    def binsearch(start, end):\n",
      "        if start >= end:\n",
      "            return -1\n",
      "        mid = start + (end - start) // 2\n",
      "        if x < arr[mid]:\n",
      "            return binsearch(start, mid)\n",
      "        elif x > arr[mid]:\n",
      "            return binsearch(mid + 1, end)\n",
      "        else:\n",
      "            return mid\n",
      "\n",
      "    return binsearch(0, len(arr))\n"
     ]
    }
   ],
   "source": [
    "def delete_non_target_str(code):\n",
    "    def_pattern = re.compile(r'def .*?\\(.*?\\):')\n",
    "    def_line = def_pattern.findall(code)[0]\n",
    "    def_index = code.index(def_line)\n",
    "\n",
    "    splitted_code = code[def_index:].split(\"\\n\")\n",
    "\n",
    "    last_index = len(splitted_code) + def_index\n",
    "\n",
    "    flag = 1  # 0: not in def block, 1: in def block, 2: end\n",
    "    indent = '    '\n",
    "    for i, line in enumerate(splitted_code):\n",
    "        if line.strip() == '':\n",
    "            continue\n",
    "        if flag == 2:\n",
    "            break\n",
    "\n",
    "        i = i + def_index\n",
    "\n",
    "        if line.startswith(indent) or line.startswith('def'):\n",
    "            last_index = i\n",
    "        else:\n",
    "            flag = 2\n",
    "\n",
    "    splitted_code = code.split(\"\\n\")\n",
    "\n",
    "    def_block = '\\n'.join(splitted_code[:last_index + 1])\n",
    "\n",
    "    return def_block\n",
    "\n",
    "\n",
    "with open(all_file[25], 'r') as f:\n",
    "    origin_content = f.read()\n",
    "\n",
    "cleaned_content = delete_non_target_str(origin_content)\n",
    "\n",
    "\n"
   ],
   "metadata": {
    "collapsed": false,
    "ExecuteTime": {
     "end_time": "2023-12-06T06:24:36.181944Z",
     "start_time": "2023-12-06T06:24:36.171028Z"
    }
   },
   "id": "744e1d95ee2e5556"
  },
  {
   "cell_type": "code",
   "execution_count": 135,
   "outputs": [],
   "source": [
    "for index in range(len(all_file)):\n",
    "    file = all_file[index]\n",
    "\n",
    "    with open(file, 'r') as f:\n",
    "        origin_content = f.read()\n",
    "\n",
    "    cleaned_content = delete_non_target_str(origin_content)\n",
    "\n",
    "    with open(file.with_suffix('.py'), 'w') as f:\n",
    "        f.write(cleaned_content)\n"
   ],
   "metadata": {
    "collapsed": false,
    "ExecuteTime": {
     "end_time": "2023-12-06T06:24:48.943661Z",
     "start_time": "2023-12-06T06:24:48.929461Z"
    }
   },
   "id": "47433ee08226de1f"
  },
  {
   "cell_type": "code",
   "execution_count": 21,
   "outputs": [
    {
     "data": {
      "text/plain": "PosixPath('generated_code/gpt35/wrap/wrap_4.py')"
     },
     "execution_count": 21,
     "metadata": {},
     "output_type": "execute_result"
    }
   ],
   "source": [
    "\n"
   ],
   "metadata": {
    "collapsed": false,
    "ExecuteTime": {
     "end_time": "2023-12-06T03:11:07.317881Z",
     "start_time": "2023-12-06T03:11:07.309257Z"
    }
   },
   "id": "18b3b60707b40d88"
  }
 ],
 "metadata": {
  "kernelspec": {
   "display_name": "Python 3",
   "language": "python",
   "name": "python3"
  },
  "language_info": {
   "codemirror_mode": {
    "name": "ipython",
    "version": 2
   },
   "file_extension": ".py",
   "mimetype": "text/x-python",
   "name": "python",
   "nbconvert_exporter": "python",
   "pygments_lexer": "ipython2",
   "version": "2.7.6"
  }
 },
 "nbformat": 4,
 "nbformat_minor": 5
}
