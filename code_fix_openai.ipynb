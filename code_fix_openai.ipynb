{
 "cells": [
  {
   "cell_type": "code",
   "execution_count": 169,
   "id": "initial_id",
   "metadata": {
    "collapsed": true,
    "ExecuteTime": {
     "end_time": "2023-11-29T12:58:35.023745Z",
     "start_time": "2023-11-29T12:58:34.982772Z"
    }
   },
   "outputs": [],
   "source": [
    "import os\n",
    "import random\n",
    "import re\n",
    "from glob import glob\n",
    "from pathlib import Path\n",
    "\n",
    "import dotenv\n",
    "from langchain.chat_models import ChatOpenAI\n",
    "from tqdm import tqdm\n",
    "\n",
    "from utils import get_all_function, extract_def_block\n",
    "\n",
    "dotenv.load_dotenv()\n",
    "\n",
    "open_ai_key = os.getenv(\"OPENAI_API_KEY\")\n",
    "llm = ChatOpenAI(openai_api_key=open_ai_key, model_name=\"gpt-4-1106-preview\")\n",
    "\n",
    "# TODO change to PATH object \n",
    "generated_code_dir = Path('generated_code/gpt4')\n",
    "generated_code_dir.mkdir(parents=True, exist_ok=True)\n"
   ]
  },
  {
   "cell_type": "code",
   "execution_count": 132,
   "outputs": [],
   "source": [
    "def filter_comment(code):\n",
    "    regex = r\"\\\"\\\"\\\".*\\\"\\\"\\\"\"\n",
    "    matches = re.finditer(regex, code, re.MULTILINE | re.DOTALL)\n",
    "\n",
    "    for match in matches:\n",
    "        start = match.start()\n",
    "        end = match.end()\n",
    "        comment = code[start:end]\n",
    "        code = code.replace(comment, '')\n",
    "\n",
    "    code = code.strip()\n",
    "    return code\n",
    "\n",
    "\n",
    "def generate_fixed_code(code):\n",
    "    prompt = (\n",
    "        'Please fix the code below:\\n'\n",
    "        f'{code}\\n'\n",
    "        'The fixed code:'\n",
    "    )\n",
    "\n",
    "    llm_response = llm.invoke(prompt, timeout=20)\n",
    "\n",
    "    return llm_response.content\n",
    "\n"
   ],
   "metadata": {
    "collapsed": false,
    "ExecuteTime": {
     "end_time": "2023-11-29T12:22:23.440749Z",
     "start_time": "2023-11-29T12:22:23.435113Z"
    }
   },
   "id": "b6722ae0a41c6a89"
  },
  {
   "cell_type": "code",
   "execution_count": 85,
   "outputs": [
    {
     "name": "stdout",
     "output_type": "stream",
     "text": [
      "def knapsack(capacity, items):\n",
      "    from collections import defaultdict\n",
      "    memo = defaultdict(int)\n",
      "\n",
      "    for i in range(1, len(items) + 1):\n",
      "        weight, value = items[i - 1]\n",
      "\n",
      "        for j in range(1, capacity + 1):\n",
      "            memo[i, j] = memo[i - 1, j]\n",
      "\n",
      "            if weight < j:\n",
      "                memo[i, j] = max(\n",
      "                    memo[i, j],\n",
      "                    value + memo[i - 1, j - weight]\n",
      "                )\n",
      "\n",
      "    return memo[len(items), capacity]\n"
     ]
    }
   ],
   "source": [
    "all_code = []\n",
    "\n",
    "all_code_file = glob('datasets/QuixBugs/python_programs/*.py')\n",
    "# filter the test code\n",
    "all_code_file = [x for x in all_code_file if not re.match(r'.*test.py', x) and not 'node' in x]\n",
    "all_code_file = sorted(all_code_file)\n",
    "\n",
    "index = random.randint(0, len(all_code_file) - 1)\n",
    "code_file_name = all_code_file[index]\n",
    "\n",
    "with open(code_file_name, 'r') as f:\n",
    "    code = f.read()\n",
    "\n",
    "code = filter_comment(code)\n",
    "print(code)\n"
   ],
   "metadata": {
    "collapsed": false,
    "ExecuteTime": {
     "end_time": "2023-11-22T14:05:51.597167Z",
     "start_time": "2023-11-22T14:05:51.587879Z"
    }
   },
   "id": "145c70b4d78b67b0"
  },
  {
   "cell_type": "markdown",
   "source": [],
   "metadata": {
    "collapsed": false
   },
   "id": "850af8db5b8495a1"
  },
  {
   "cell_type": "code",
   "execution_count": 172,
   "outputs": [
    {
     "name": "stderr",
     "output_type": "stream",
     "text": [
      "100%|██████████| 39/39 [1:17:15<00:00, 118.86s/it]\n"
     ]
    }
   ],
   "source": [
    "dir_done = os.listdir(generated_code_dir)\n",
    "dir_done = [x for x in dir_done if '.' not in x]\n",
    "dir_done = sorted(dir_done)\n",
    "\n",
    "function_list = get_all_function()\n",
    "\n",
    "if len(dir_done) == 0:\n",
    "    last_index = 0\n",
    "else:\n",
    "    last_index = function_list.index(dir_done[-1])\n",
    "\n",
    "    if len(list((generated_code_dir / dir_done[-1]).glob('*.py'))) == 5:\n",
    "        last_index += 1\n",
    "\n",
    "for i in tqdm(range(last_index, len(all_code_file))):\n",
    "    code_file_name = all_code_file[i]\n",
    "\n",
    "    with open(code_file_name, 'r') as f:\n",
    "        code = f.read()\n",
    "    code = filter_comment(code)\n",
    "    function_name = code_file_name.split('/')[-1][:-3]\n",
    "\n",
    "    (generated_code_dir / function_name).mkdir(parents=True, exist_ok=True)\n",
    "\n",
    "    prompt = (\n",
    "        f'{code}\\n'\n",
    "        'Please fix the code above.\\n'\n",
    "        '\\n'\n",
    "        'The fixed code:'\n",
    "    )\n",
    "    with open(generated_code_dir / function_name / (function_name + '_input.txt'), 'w') as f:\n",
    "        f.write(prompt)\n",
    "\n",
    "    for j in range(4):\n",
    "        generated_file_path = generated_code_dir / function_name / (function_name + f'_{j + 1}.py')\n",
    "        if generated_file_path.exists():\n",
    "            continue\n",
    "\n",
    "        llm_response = llm.invoke(prompt, timeout=60)\n",
    "        fixed_code = llm_response.content\n",
    "\n",
    "        with open(generated_file_path.with_suffix('.txt'), 'w') as f:\n",
    "            f.write(fixed_code)\n",
    "\n",
    "        cleaned_code = extract_def_block(fixed_code)\n",
    "        with open(generated_file_path, 'w') as f:\n",
    "            f.write(fixed_code)\n",
    "\n"
   ],
   "metadata": {
    "collapsed": false,
    "ExecuteTime": {
     "end_time": "2023-11-29T14:54:21.051744Z",
     "start_time": "2023-11-29T13:37:05.657050Z"
    }
   },
   "id": "da2b8bff17150e4a"
  }
 ],
 "metadata": {
  "kernelspec": {
   "display_name": "Python 3",
   "language": "python",
   "name": "python3"
  },
  "language_info": {
   "codemirror_mode": {
    "name": "ipython",
    "version": 2
   },
   "file_extension": ".py",
   "mimetype": "text/x-python",
   "name": "python",
   "nbconvert_exporter": "python",
   "pygments_lexer": "ipython2",
   "version": "2.7.6"
  }
 },
 "nbformat": 4,
 "nbformat_minor": 5
}
