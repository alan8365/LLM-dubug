{
 "cells": [
  {
   "cell_type": "code",
   "execution_count": 119,
   "id": "initial_id",
   "metadata": {
    "collapsed": true,
    "ExecuteTime": {
     "end_time": "2023-11-22T14:53:12.239571Z",
     "start_time": "2023-11-22T14:53:12.212397Z"
    }
   },
   "outputs": [],
   "source": [
    "import os\n",
    "import random\n",
    "import re\n",
    "from glob import glob\n",
    "\n",
    "import dotenv\n",
    "from langchain.chat_models import ChatOpenAI\n",
    "from tqdm import tqdm\n",
    "\n",
    "dotenv.load_dotenv()\n",
    "\n",
    "open_ai_key = os.getenv(\"OPENAI_API_KEY\")\n",
    "llm = ChatOpenAI(openai_api_key=open_ai_key, model_name=\"gpt-3.5-turbo\")\n",
    "\n",
    "# TODO change to PATH object \n",
    "generated_code_dir = 'generated_code/gpt35'\n"
   ]
  },
  {
   "cell_type": "code",
   "execution_count": 129,
   "outputs": [],
   "source": [
    "def filter_comment(code):\n",
    "    regex = r\"\\\"\\\"\\\".*\\\"\\\"\\\"\"\n",
    "    matches = re.finditer(regex, code, re.MULTILINE | re.DOTALL)\n",
    "\n",
    "    for match in matches:\n",
    "        start = match.start()\n",
    "        end = match.end()\n",
    "        comment = code[start:end]\n",
    "        code = code.replace(comment, '')\n",
    "\n",
    "    code = code.strip()\n",
    "    return code\n",
    "\n",
    "\n",
    "def generate_fixed_code(code):\n",
    "    prompt = (\n",
    "        'Please fix the code above:\\n'\n",
    "        f'{code}\\n'\n",
    "        'The fixed code:'\n",
    "    )\n",
    "\n",
    "    llm_response = llm.invoke(prompt, timeout=20)\n",
    "\n",
    "    return llm_response.content\n",
    "\n"
   ],
   "metadata": {
    "collapsed": false,
    "ExecuteTime": {
     "end_time": "2023-11-22T15:00:44.074324Z",
     "start_time": "2023-11-22T15:00:44.067195Z"
    }
   },
   "id": "b6722ae0a41c6a89"
  },
  {
   "cell_type": "code",
   "execution_count": 85,
   "outputs": [
    {
     "name": "stdout",
     "output_type": "stream",
     "text": [
      "def knapsack(capacity, items):\n",
      "    from collections import defaultdict\n",
      "    memo = defaultdict(int)\n",
      "\n",
      "    for i in range(1, len(items) + 1):\n",
      "        weight, value = items[i - 1]\n",
      "\n",
      "        for j in range(1, capacity + 1):\n",
      "            memo[i, j] = memo[i - 1, j]\n",
      "\n",
      "            if weight < j:\n",
      "                memo[i, j] = max(\n",
      "                    memo[i, j],\n",
      "                    value + memo[i - 1, j - weight]\n",
      "                )\n",
      "\n",
      "    return memo[len(items), capacity]\n"
     ]
    }
   ],
   "source": [
    "all_code = []\n",
    "\n",
    "all_code_file = glob('datasets/QuixBugs/python_programs/*.py')\n",
    "# filter the test code\n",
    "all_code_file = [x for x in all_code_file if not re.match(r'.*test.py', x) and not 'node' in x]\n",
    "all_code_file = sorted(all_code_file)\n",
    "\n",
    "index = random.randint(0, len(all_code_file) - 1)\n",
    "code_file_name = all_code_file[index]\n",
    "\n",
    "with open(code_file_name, 'r') as f:\n",
    "    code = f.read()\n",
    "\n",
    "code = filter_comment(code)\n",
    "print(code)\n"
   ],
   "metadata": {
    "collapsed": false,
    "ExecuteTime": {
     "end_time": "2023-11-22T14:05:51.597167Z",
     "start_time": "2023-11-22T14:05:51.587879Z"
    }
   },
   "id": "145c70b4d78b67b0"
  },
  {
   "cell_type": "markdown",
   "source": [],
   "metadata": {
    "collapsed": false
   },
   "id": "850af8db5b8495a1"
  },
  {
   "cell_type": "code",
   "execution_count": 130,
   "outputs": [
    {
     "name": "stderr",
     "output_type": "stream",
     "text": [
      "100%|██████████| 36/36 [08:11<00:00, 13.64s/it]\n"
     ]
    }
   ],
   "source": [
    "dir_done = os.listdir(generated_code_dir)\n",
    "dir_done = sorted(dir_done)\n",
    "\n",
    "last_index = all_code_file.index(f'datasets/QuixBugs/python_programs/{dir_done[-1]}.py')\n",
    "\n",
    "for i in tqdm(range(last_index, len(all_code_file))):\n",
    "    code_file_name = all_code_file[i]\n",
    "    \n",
    "    with open(code_file_name, 'r') as f:\n",
    "        code = f.read()\n",
    "    code = filter_comment(code)\n",
    "    function_name = code_file_name.split('/')[-1][:-3]\n",
    "\n",
    "    # TODO 'generated_code/gpt35' to variable\n",
    "    if not os.path.isdir(f'{generated_code_dir}/{function_name}'):\n",
    "        os.mkdir(f'{generated_code_dir}/{function_name}')\n",
    "        \n",
    "    with open(f'{generated_code_dir}/{function_name}/{function_name}_input.py', 'w') as f:\n",
    "        f.write(code)\n",
    "    \n",
    "    for j in range(4):\n",
    "        fixed_code = generate_fixed_code(code)\n",
    "\n",
    "        generated_file_path = f'{generated_code_dir}/{function_name}/{function_name}_{j + 1}.py'\n",
    "\n",
    "        if not os.path.isdir(f'{generated_code_dir}/{function_name}'):\n",
    "            os.mkdir(f'{generated_code_dir}/{function_name}')\n",
    "\n",
    "        with open(generated_file_path, 'w') as f:\n",
    "            f.write(fixed_code)\n"
   ],
   "metadata": {
    "collapsed": false,
    "ExecuteTime": {
     "end_time": "2023-11-22T15:08:58.284879Z",
     "start_time": "2023-11-22T15:00:47.060207Z"
    }
   },
   "id": "da2b8bff17150e4a"
  }
 ],
 "metadata": {
  "kernelspec": {
   "display_name": "Python 3",
   "language": "python",
   "name": "python3"
  },
  "language_info": {
   "codemirror_mode": {
    "name": "ipython",
    "version": 2
   },
   "file_extension": ".py",
   "mimetype": "text/x-python",
   "name": "python",
   "nbconvert_exporter": "python",
   "pygments_lexer": "ipython2",
   "version": "2.7.6"
  }
 },
 "nbformat": 4,
 "nbformat_minor": 5
}
