{
 "cells": [
  {
   "cell_type": "code",
   "execution_count": null,
   "id": "e41fc938e40a7c9b",
   "metadata": {
    "ExecuteTime": {
     "end_time": "2024-01-30T08:15:37.585053Z",
     "start_time": "2024-01-30T08:15:37.580287Z"
    },
    "collapsed": false
   },
   "outputs": [],
   "source": [
    "from data import DataModule\n",
    "\n",
    "base_dir = '../../datasets/QuixBugs' \n"
   ]
  },
  {
   "cell_type": "code",
   "execution_count": null,
   "id": "116f08bcea0631d",
   "metadata": {
    "ExecuteTime": {
     "end_time": "2024-01-30T08:15:37.650930Z",
     "start_time": "2024-01-30T08:15:37.586522Z"
    },
    "collapsed": false
   },
   "outputs": [
    {
     "name": "stdout",
     "output_type": "stream",
     "text": [
      "depth_first_search\n",
      "{'uses_node_lib': True, 'uses_weighted_edge_lib': False}\n",
      "topological_ordering\n",
      "{'uses_node_lib': True, 'uses_weighted_edge_lib': False}\n",
      "breadth_first_search\n",
      "{'uses_node_lib': True, 'uses_weighted_edge_lib': False}\n",
      "detect_cycle\n",
      "{'uses_node_lib': True, 'uses_weighted_edge_lib': False}\n",
      "reverse_linked_list\n",
      "{'uses_node_lib': True, 'uses_weighted_edge_lib': False}\n",
      "shortest_path_length\n",
      "{'uses_node_lib': True, 'uses_weighted_edge_lib': False}\n"
     ]
    }
   ],
   "source": [
    "data_module = DataModule(base_dir)\n",
    "\n",
    "processed_data = data_module.get_data()\n",
    "counter = {}\n",
    "for item in processed_data:\n",
    "    file_name = item['file_name']\n",
    "    language = item['language']\n",
    "    annotations = item['annotations']\n",
    "    if language == 'Python' and any(annotations.values()):\n",
    "        print(item['file_name'])\n",
    "        print(item['annotations'])\n"
   ]
  },
  {
   "cell_type": "code",
   "execution_count": null,
   "id": "15b8848f062acbea",
   "metadata": {
    "ExecuteTime": {
     "end_time": "2024-01-30T08:16:10.850087Z",
     "start_time": "2024-01-30T08:16:10.846674Z"
    },
    "collapsed": false
   },
   "outputs": [
    {
     "name": "stdout",
     "output_type": "stream",
     "text": [
      "class Node:\n",
      "    def __init__(self, value=None, successor=None, successors=[], predecessors=[], incoming_nodes=[], outgoing_nodes=[]):\n",
      "        self.value = value\n",
      "        self.successor = successor\n",
      "        self.successors = successors\n",
      "        self.predecessors = predecessors\n",
      "        self.incoming_nodes = incoming_nodes\n",
      "        self.outgoing_nodes = outgoing_nodes\n",
      "\n",
      "    def successor(self):\n",
      "        return self.successor\n",
      "\n",
      "    def successors(self):\n",
      "        return self.successors\n",
      "\n",
      "    def predecessors(self):\n",
      "        return self.predecessors\n"
     ]
    }
   ],
   "source": [
    "a = data_module.get_lib_content('Python', 'Node')\n",
    "\n",
    "print(a)\n"
   ]
  },
  {
   "cell_type": "code",
   "execution_count": null,
   "id": "eb30aee9",
   "metadata": {},
   "outputs": [],
   "source": []
  }
 ],
 "metadata": {
  "kernelspec": {
   "display_name": "Python 3",
   "language": "python",
   "name": "python3"
  },
  "language_info": {
   "codemirror_mode": {
    "name": "ipython",
    "version": 2
   },
   "file_extension": ".py",
   "mimetype": "text/x-python",
   "name": "python",
   "nbconvert_exporter": "python",
   "pygments_lexer": "ipython2",
   "version": "3.9.6"
  }
 },
 "nbformat": 4,
 "nbformat_minor": 5
}
