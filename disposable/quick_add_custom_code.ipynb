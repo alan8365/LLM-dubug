{
 "cells": [
  {
   "cell_type": "code",
   "execution_count": 33,
   "id": "initial_id",
   "metadata": {
    "collapsed": true,
    "ExecuteTime": {
     "end_time": "2023-11-25T02:31:09.545142Z",
     "start_time": "2023-11-25T02:31:09.527485Z"
    }
   },
   "outputs": [],
   "source": [
    "from glob import glob\n",
    "\n",
    "all_test_path = glob('../datasets/QuixBugs/python_testcases/test_*.py')\n",
    "all_test_path = sorted(all_test_path)\n",
    "\n",
    "for i in range(3, len(all_test_path)):\n",
    "    test_path = all_test_path[i]\n",
    "\n",
    "    with open(test_path, 'r') as f:\n",
    "        test_code = f.read()\n",
    "        \n",
    "    test_code_split = test_code.split('\\n')\n",
    "        \n",
    "    function_name = test_path.split('/')[-1].split('.')[0][5:]\n",
    "    custom_code = [\n",
    "        'elif pytest.use_custom:',\n",
    "        f'    from custom_python_programs.{function_name} import {function_name}'\n",
    "    ]\n",
    "\n",
    "    org_code_start = test_code_split.index(\"if pytest.use_correct:\")\n",
    "    org_code_end = org_code_start + 4\n",
    "\n",
    "    test_code_split[org_code_start:org_code_end] = test_code_split[org_code_start:org_code_start + 2] + custom_code + test_code_split[org_code_end - 2:org_code_end]\n",
    "\n",
    "    new_code = '\\n'.join(test_code_split)\n",
    "\n",
    "    with open(test_path, 'w') as f:\n",
    "        f.write(new_code)\n",
    "\n"
   ]
  }
 ],
 "metadata": {
  "kernelspec": {
   "display_name": "Python 3",
   "language": "python",
   "name": "python3"
  },
  "language_info": {
   "codemirror_mode": {
    "name": "ipython",
    "version": 2
   },
   "file_extension": ".py",
   "mimetype": "text/x-python",
   "name": "python",
   "nbconvert_exporter": "python",
   "pygments_lexer": "ipython2",
   "version": "2.7.6"
  }
 },
 "nbformat": 4,
 "nbformat_minor": 5
}
