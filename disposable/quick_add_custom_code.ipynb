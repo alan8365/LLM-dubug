{
 "cells": [
  {
   "cell_type": "code",
   "execution_count": 1,
   "id": "c4179e7aa5dad1db",
   "metadata": {
    "collapsed": true,
    "ExecuteTime": {
     "end_time": "2023-12-07T01:58:16.945509Z",
     "start_time": "2023-12-07T01:58:16.934661Z"
    }
   },
   "outputs": [
    {
     "data": {
      "text/plain": "['../datasets/QuixBugs/python_testcases/test_lcs_length.py',\n '../datasets/QuixBugs/python_testcases/test_breadth_first_search.py',\n '../datasets/QuixBugs/python_testcases/test_pascal.py',\n '../datasets/QuixBugs/python_testcases/test_sqrt.py',\n '../datasets/QuixBugs/python_testcases/test_flatten.py',\n '../datasets/QuixBugs/python_testcases/test_gcd.py',\n '../datasets/QuixBugs/python_testcases/test_knapsack.py',\n '../datasets/QuixBugs/python_testcases/test_detect_cycle.py',\n '../datasets/QuixBugs/python_testcases/test_subsequences.py',\n '../datasets/QuixBugs/python_testcases/test_topological_ordering.py',\n '../datasets/QuixBugs/python_testcases/test_shortest_path_lengths.py',\n '../datasets/QuixBugs/python_testcases/test_is_valid_parenthesization.py',\n '../datasets/QuixBugs/python_testcases/test_find_in_sorted.py',\n '../datasets/QuixBugs/python_testcases/test_bucketsort.py',\n '../datasets/QuixBugs/python_testcases/test_kheapsort.py',\n '../datasets/QuixBugs/python_testcases/test_next_palindrome.py',\n '../datasets/QuixBugs/python_testcases/test_bitcount.py',\n '../datasets/QuixBugs/python_testcases/test_mergesort.py',\n '../datasets/QuixBugs/python_testcases/test_shortest_path_length.py',\n '../datasets/QuixBugs/python_testcases/test_max_sublist_sum.py',\n '../datasets/QuixBugs/python_testcases/test_kth.py',\n '../datasets/QuixBugs/python_testcases/test_minimum_spanning_tree.py',\n '../datasets/QuixBugs/python_testcases/test_reverse_linked_list.py',\n '../datasets/QuixBugs/python_testcases/test_depth_first_search.py',\n '../datasets/QuixBugs/python_testcases/test_shunting_yard.py',\n '../datasets/QuixBugs/python_testcases/test_rpn_eval.py',\n '../datasets/QuixBugs/python_testcases/test_possible_change.py',\n '../datasets/QuixBugs/python_testcases/test_next_permutation.py',\n '../datasets/QuixBugs/python_testcases/test_shortest_paths.py',\n '../datasets/QuixBugs/python_testcases/test_hanoi.py',\n '../datasets/QuixBugs/python_testcases/test_longest_common_subsequence.py',\n '../datasets/QuixBugs/python_testcases/test_lis.py',\n '../datasets/QuixBugs/python_testcases/test_find_first_in_sorted.py',\n '../datasets/QuixBugs/python_testcases/test_sieve.py',\n '../datasets/QuixBugs/python_testcases/test_get_factors.py',\n '../datasets/QuixBugs/python_testcases/test_to_base.py',\n '../datasets/QuixBugs/python_testcases/test_powerset.py',\n '../datasets/QuixBugs/python_testcases/test_levenshtein.py',\n '../datasets/QuixBugs/python_testcases/test_wrap.py',\n '../datasets/QuixBugs/python_testcases/test_quicksort.py']"
     },
     "execution_count": 1,
     "metadata": {},
     "output_type": "execute_result"
    }
   ],
   "source": [
    "from glob import glob\n",
    "\n",
    "all_test_path = glob('../datasets/QuixBugs/python_testcases/test_*.py')\n",
    "# all_test_path = sorted(all_test_path)\n",
    "\n",
    "all_test_path\n"
   ]
  },
  {
   "cell_type": "code",
   "execution_count": 33,
   "outputs": [],
   "source": [
    "for i in range(3, len(all_test_path)):\n",
    "    test_path = all_test_path[i]\n",
    "\n",
    "    with open(test_path, 'r') as f:\n",
    "        test_code = f.read()\n",
    "        \n",
    "    test_code_split = test_code.split('\\n')\n",
    "        \n",
    "    function_name = test_path.split('/')[-1].split('.')[0][5:]\n",
    "    custom_code = [\n",
    "        'elif pytest.use_custom:',\n",
    "        f'    from custom_python_programs.{function_name} import {function_name}'\n",
    "    ]\n",
    "\n",
    "    org_code_start = test_code_split.index(\"if pytest.use_correct:\")\n",
    "    org_code_end = org_code_start + 4\n",
    "\n",
    "    test_code_split[org_code_start:org_code_end] = test_code_split[org_code_start:org_code_start + 2] + custom_code + test_code_split[org_code_end - 2:org_code_end]\n",
    "\n",
    "    new_code = '\\n'.join(test_code_split)\n",
    "\n",
    "    with open(test_path, 'w') as f:\n",
    "        f.write(new_code)\n",
    "\n"
   ],
   "metadata": {
    "collapsed": false,
    "ExecuteTime": {
     "start_time": "2023-11-25T02:31:09.527485Z"
    }
   },
   "id": "initial_id"
  },
  {
   "cell_type": "code",
   "execution_count": 9,
   "outputs": [
    {
     "ename": "ValueError",
     "evalue": "'def test_breadth_first_search(input_data, expected):' is not in list",
     "output_type": "error",
     "traceback": [
      "\u001B[0;31m---------------------------------------------------------------------------\u001B[0m",
      "\u001B[0;31mValueError\u001B[0m                                Traceback (most recent call last)",
      "Cell \u001B[0;32mIn[9], line 10\u001B[0m\n\u001B[1;32m      7\u001B[0m function_name \u001B[38;5;241m=\u001B[39m test_path\u001B[38;5;241m.\u001B[39msplit(\u001B[38;5;124m'\u001B[39m\u001B[38;5;124m/\u001B[39m\u001B[38;5;124m'\u001B[39m)[\u001B[38;5;241m-\u001B[39m\u001B[38;5;241m1\u001B[39m]\u001B[38;5;241m.\u001B[39msplit(\u001B[38;5;124m'\u001B[39m\u001B[38;5;124m.\u001B[39m\u001B[38;5;124m'\u001B[39m)[\u001B[38;5;241m0\u001B[39m][\u001B[38;5;241m5\u001B[39m:]\n\u001B[1;32m      8\u001B[0m test_code_split \u001B[38;5;241m=\u001B[39m test_code\u001B[38;5;241m.\u001B[39msplit(\u001B[38;5;124m'\u001B[39m\u001B[38;5;130;01m\\n\u001B[39;00m\u001B[38;5;124m'\u001B[39m)\n\u001B[0;32m---> 10\u001B[0m index \u001B[38;5;241m=\u001B[39m \u001B[43mtest_code_split\u001B[49m\u001B[38;5;241;43m.\u001B[39;49m\u001B[43mindex\u001B[49m\u001B[43m(\u001B[49m\u001B[38;5;124;43mf\u001B[39;49m\u001B[38;5;124;43m\"\u001B[39;49m\u001B[38;5;124;43mdef test_\u001B[39;49m\u001B[38;5;132;43;01m{\u001B[39;49;00m\u001B[43mfunction_name\u001B[49m\u001B[38;5;132;43;01m}\u001B[39;49;00m\u001B[38;5;124;43m(input_data, expected):\u001B[39;49m\u001B[38;5;124;43m\"\u001B[39;49m\u001B[43m)\u001B[49m\n",
      "\u001B[0;31mValueError\u001B[0m: 'def test_breadth_first_search(input_data, expected):' is not in list"
     ]
    }
   ],
   "source": [
    "for i in range(len(all_test_path)):\n",
    "    test_path = all_test_path[i]\n",
    "\n",
    "    with open(test_path, 'r') as f:\n",
    "        test_code = f.read()\n",
    "\n",
    "    function_name = test_path.split('/')[-1].split('.')[0][5:]\n",
    "    test_code_split = test_code.split('\\n')\n",
    "\n",
    "    index = test_code_split.index(f\"def test_{function_name}(input_data, expected):\")\n"
   ],
   "metadata": {
    "collapsed": false,
    "ExecuteTime": {
     "end_time": "2023-12-07T02:00:10.845337Z",
     "start_time": "2023-12-07T02:00:10.798172Z"
    }
   },
   "id": "ed85873735ee62aa"
  }
 ],
 "metadata": {
  "kernelspec": {
   "display_name": "Python 3",
   "language": "python",
   "name": "python3"
  },
  "language_info": {
   "codemirror_mode": {
    "name": "ipython",
    "version": 2
   },
   "file_extension": ".py",
   "mimetype": "text/x-python",
   "name": "python",
   "nbconvert_exporter": "python",
   "pygments_lexer": "ipython2",
   "version": "2.7.6"
  }
 },
 "nbformat": 4,
 "nbformat_minor": 5
}
