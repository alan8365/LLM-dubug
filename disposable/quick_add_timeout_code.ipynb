{
 "cells": [
  {
   "cell_type": "code",
   "execution_count": 8,
   "id": "c4179e7aa5dad1db",
   "metadata": {
    "collapsed": true,
    "ExecuteTime": {
     "end_time": "2023-12-14T07:22:19.561710Z",
     "start_time": "2023-12-14T07:22:19.557769Z"
    }
   },
   "outputs": [
    {
     "data": {
      "text/plain": "['../datasets/QuixBugs/python_testcases/test_bitcount.py',\n '../datasets/QuixBugs/python_testcases/test_breadth_first_search.py',\n '../datasets/QuixBugs/python_testcases/test_bucketsort.py',\n '../datasets/QuixBugs/python_testcases/test_depth_first_search.py',\n '../datasets/QuixBugs/python_testcases/test_detect_cycle.py',\n '../datasets/QuixBugs/python_testcases/test_find_first_in_sorted.py',\n '../datasets/QuixBugs/python_testcases/test_find_in_sorted.py',\n '../datasets/QuixBugs/python_testcases/test_flatten.py',\n '../datasets/QuixBugs/python_testcases/test_gcd.py',\n '../datasets/QuixBugs/python_testcases/test_get_factors.py',\n '../datasets/QuixBugs/python_testcases/test_hanoi.py',\n '../datasets/QuixBugs/python_testcases/test_is_valid_parenthesization.py',\n '../datasets/QuixBugs/python_testcases/test_kheapsort.py',\n '../datasets/QuixBugs/python_testcases/test_knapsack.py',\n '../datasets/QuixBugs/python_testcases/test_kth.py',\n '../datasets/QuixBugs/python_testcases/test_lcs_length.py',\n '../datasets/QuixBugs/python_testcases/test_levenshtein.py',\n '../datasets/QuixBugs/python_testcases/test_lis.py',\n '../datasets/QuixBugs/python_testcases/test_longest_common_subsequence.py',\n '../datasets/QuixBugs/python_testcases/test_max_sublist_sum.py',\n '../datasets/QuixBugs/python_testcases/test_mergesort.py',\n '../datasets/QuixBugs/python_testcases/test_minimum_spanning_tree.py',\n '../datasets/QuixBugs/python_testcases/test_next_palindrome.py',\n '../datasets/QuixBugs/python_testcases/test_next_permutation.py',\n '../datasets/QuixBugs/python_testcases/test_pascal.py',\n '../datasets/QuixBugs/python_testcases/test_possible_change.py',\n '../datasets/QuixBugs/python_testcases/test_powerset.py',\n '../datasets/QuixBugs/python_testcases/test_quicksort.py',\n '../datasets/QuixBugs/python_testcases/test_reverse_linked_list.py',\n '../datasets/QuixBugs/python_testcases/test_rpn_eval.py',\n '../datasets/QuixBugs/python_testcases/test_shortest_path_length.py',\n '../datasets/QuixBugs/python_testcases/test_shortest_path_lengths.py',\n '../datasets/QuixBugs/python_testcases/test_shortest_paths.py',\n '../datasets/QuixBugs/python_testcases/test_shunting_yard.py',\n '../datasets/QuixBugs/python_testcases/test_sieve.py',\n '../datasets/QuixBugs/python_testcases/test_sqrt.py',\n '../datasets/QuixBugs/python_testcases/test_subsequences.py',\n '../datasets/QuixBugs/python_testcases/test_to_base.py',\n '../datasets/QuixBugs/python_testcases/test_topological_ordering.py',\n '../datasets/QuixBugs/python_testcases/test_wrap.py']"
     },
     "execution_count": 8,
     "metadata": {},
     "output_type": "execute_result"
    }
   ],
   "source": [
    "from glob import glob\n",
    "\n",
    "all_test_path = glob('../datasets/QuixBugs/python_testcases/test_*.py')\n",
    "# all_test_path = sorted(all_test_path)\n",
    "\n",
    "all_test_path = sorted(all_test_path)\n",
    "all_test_path\n"
   ]
  },
  {
   "cell_type": "code",
   "execution_count": 24,
   "outputs": [],
   "source": [
    "custom_code = '@pytest.mark.timeout(2)'\n",
    "\n",
    "for i in range(3, len(all_test_path)):\n",
    "    test_path = all_test_path[i]\n",
    "\n",
    "    with open(test_path, 'r') as f:\n",
    "        test_code = f.read()\n",
    "\n",
    "    if custom_code in test_code:\n",
    "        continue\n",
    "        \n",
    "    test_code_split = test_code.split('\\n')\n",
    "        \n",
    "\n",
    "    target_index = [i for i, code in enumerate(test_code_split) if code.startswith('def test')]\n",
    "    target_index.reverse()\n",
    "\n",
    "    code_blocks = []\n",
    "    for i in target_index:\n",
    "        code_block = test_code_split[i:]\n",
    "        code_block = [custom_code] + code_block\n",
    "        code_blocks.append(code_block)\n",
    "        test_code_split = test_code_split[:i]\n",
    "    code_blocks.append(test_code_split)\n",
    "    code_blocks.reverse()\n",
    "        \n",
    "    new_code = '\\n'.join(['\\n'.join(code_block) for code_block in code_blocks])\n",
    "\n",
    "    with open(test_path, 'w') as f:\n",
    "        f.write(new_code)\n",
    "\n"
   ],
   "metadata": {
    "collapsed": false,
    "ExecuteTime": {
     "end_time": "2023-12-19T11:31:53.493396Z",
     "start_time": "2023-12-19T11:31:53.475712Z"
    }
   },
   "id": "initial_id"
  }
 ],
 "metadata": {
  "kernelspec": {
   "display_name": "Python 3",
   "language": "python",
   "name": "python3"
  },
  "language_info": {
   "codemirror_mode": {
    "name": "ipython",
    "version": 2
   },
   "file_extension": ".py",
   "mimetype": "text/x-python",
   "name": "python",
   "nbconvert_exporter": "python",
   "pygments_lexer": "ipython2",
   "version": "2.7.6"
  }
 },
 "nbformat": 4,
 "nbformat_minor": 5
}
